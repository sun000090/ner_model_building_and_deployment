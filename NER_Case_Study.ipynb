{
  "nbformat": 4,
  "nbformat_minor": 0,
  "metadata": {
    "colab": {
      "provenance": [],
      "machine_shape": "hm"
    },
    "kernelspec": {
      "name": "python3",
      "display_name": "Python 3"
    },
    "language_info": {
      "name": "python"
    },
    "widgets": {
      "application/vnd.jupyter.widget-state+json": {
        "bcc7227e2a33495da05c6b212812cedb": {
          "model_module": "@jupyter-widgets/controls",
          "model_name": "HBoxModel",
          "model_module_version": "1.5.0",
          "state": {
            "_dom_classes": [],
            "_model_module": "@jupyter-widgets/controls",
            "_model_module_version": "1.5.0",
            "_model_name": "HBoxModel",
            "_view_count": null,
            "_view_module": "@jupyter-widgets/controls",
            "_view_module_version": "1.5.0",
            "_view_name": "HBoxView",
            "box_style": "",
            "children": [
              "IPY_MODEL_aa56f8d4c9a6402c861d6c6c8d0d63d6",
              "IPY_MODEL_e209a360e6064b0abd9f9caa6b9107af",
              "IPY_MODEL_3fb80ad3e05a47c6813c730db50660e5"
            ],
            "layout": "IPY_MODEL_0a6c5d4c22b0489d96b282330fe3f4d8"
          }
        },
        "aa56f8d4c9a6402c861d6c6c8d0d63d6": {
          "model_module": "@jupyter-widgets/controls",
          "model_name": "HTMLModel",
          "model_module_version": "1.5.0",
          "state": {
            "_dom_classes": [],
            "_model_module": "@jupyter-widgets/controls",
            "_model_module_version": "1.5.0",
            "_model_name": "HTMLModel",
            "_view_count": null,
            "_view_module": "@jupyter-widgets/controls",
            "_view_module_version": "1.5.0",
            "_view_name": "HTMLView",
            "description": "",
            "description_tooltip": null,
            "layout": "IPY_MODEL_4ab9fdddfb9c478d9dea401ce3b28375",
            "placeholder": "​",
            "style": "IPY_MODEL_c57f889c3ad0426a859ab07a1b7a6aaf",
            "value": "Map: 100%"
          }
        },
        "e209a360e6064b0abd9f9caa6b9107af": {
          "model_module": "@jupyter-widgets/controls",
          "model_name": "FloatProgressModel",
          "model_module_version": "1.5.0",
          "state": {
            "_dom_classes": [],
            "_model_module": "@jupyter-widgets/controls",
            "_model_module_version": "1.5.0",
            "_model_name": "FloatProgressModel",
            "_view_count": null,
            "_view_module": "@jupyter-widgets/controls",
            "_view_module_version": "1.5.0",
            "_view_name": "ProgressView",
            "bar_style": "success",
            "description": "",
            "description_tooltip": null,
            "layout": "IPY_MODEL_92d3995aa3744b459a807dde0e2460c3",
            "max": 33571,
            "min": 0,
            "orientation": "horizontal",
            "style": "IPY_MODEL_a24b71cba1c5466f9b669c10ccd63678",
            "value": 33571
          }
        },
        "3fb80ad3e05a47c6813c730db50660e5": {
          "model_module": "@jupyter-widgets/controls",
          "model_name": "HTMLModel",
          "model_module_version": "1.5.0",
          "state": {
            "_dom_classes": [],
            "_model_module": "@jupyter-widgets/controls",
            "_model_module_version": "1.5.0",
            "_model_name": "HTMLModel",
            "_view_count": null,
            "_view_module": "@jupyter-widgets/controls",
            "_view_module_version": "1.5.0",
            "_view_name": "HTMLView",
            "description": "",
            "description_tooltip": null,
            "layout": "IPY_MODEL_a77410e222474f9e942824b18f444f9c",
            "placeholder": "​",
            "style": "IPY_MODEL_2dabfae924d14df488e9d0286220e02d",
            "value": " 33571/33571 [00:03&lt;00:00, 8410.82 examples/s]"
          }
        },
        "0a6c5d4c22b0489d96b282330fe3f4d8": {
          "model_module": "@jupyter-widgets/base",
          "model_name": "LayoutModel",
          "model_module_version": "1.2.0",
          "state": {
            "_model_module": "@jupyter-widgets/base",
            "_model_module_version": "1.2.0",
            "_model_name": "LayoutModel",
            "_view_count": null,
            "_view_module": "@jupyter-widgets/base",
            "_view_module_version": "1.2.0",
            "_view_name": "LayoutView",
            "align_content": null,
            "align_items": null,
            "align_self": null,
            "border": null,
            "bottom": null,
            "display": null,
            "flex": null,
            "flex_flow": null,
            "grid_area": null,
            "grid_auto_columns": null,
            "grid_auto_flow": null,
            "grid_auto_rows": null,
            "grid_column": null,
            "grid_gap": null,
            "grid_row": null,
            "grid_template_areas": null,
            "grid_template_columns": null,
            "grid_template_rows": null,
            "height": null,
            "justify_content": null,
            "justify_items": null,
            "left": null,
            "margin": null,
            "max_height": null,
            "max_width": null,
            "min_height": null,
            "min_width": null,
            "object_fit": null,
            "object_position": null,
            "order": null,
            "overflow": null,
            "overflow_x": null,
            "overflow_y": null,
            "padding": null,
            "right": null,
            "top": null,
            "visibility": null,
            "width": null
          }
        },
        "4ab9fdddfb9c478d9dea401ce3b28375": {
          "model_module": "@jupyter-widgets/base",
          "model_name": "LayoutModel",
          "model_module_version": "1.2.0",
          "state": {
            "_model_module": "@jupyter-widgets/base",
            "_model_module_version": "1.2.0",
            "_model_name": "LayoutModel",
            "_view_count": null,
            "_view_module": "@jupyter-widgets/base",
            "_view_module_version": "1.2.0",
            "_view_name": "LayoutView",
            "align_content": null,
            "align_items": null,
            "align_self": null,
            "border": null,
            "bottom": null,
            "display": null,
            "flex": null,
            "flex_flow": null,
            "grid_area": null,
            "grid_auto_columns": null,
            "grid_auto_flow": null,
            "grid_auto_rows": null,
            "grid_column": null,
            "grid_gap": null,
            "grid_row": null,
            "grid_template_areas": null,
            "grid_template_columns": null,
            "grid_template_rows": null,
            "height": null,
            "justify_content": null,
            "justify_items": null,
            "left": null,
            "margin": null,
            "max_height": null,
            "max_width": null,
            "min_height": null,
            "min_width": null,
            "object_fit": null,
            "object_position": null,
            "order": null,
            "overflow": null,
            "overflow_x": null,
            "overflow_y": null,
            "padding": null,
            "right": null,
            "top": null,
            "visibility": null,
            "width": null
          }
        },
        "c57f889c3ad0426a859ab07a1b7a6aaf": {
          "model_module": "@jupyter-widgets/controls",
          "model_name": "DescriptionStyleModel",
          "model_module_version": "1.5.0",
          "state": {
            "_model_module": "@jupyter-widgets/controls",
            "_model_module_version": "1.5.0",
            "_model_name": "DescriptionStyleModel",
            "_view_count": null,
            "_view_module": "@jupyter-widgets/base",
            "_view_module_version": "1.2.0",
            "_view_name": "StyleView",
            "description_width": ""
          }
        },
        "92d3995aa3744b459a807dde0e2460c3": {
          "model_module": "@jupyter-widgets/base",
          "model_name": "LayoutModel",
          "model_module_version": "1.2.0",
          "state": {
            "_model_module": "@jupyter-widgets/base",
            "_model_module_version": "1.2.0",
            "_model_name": "LayoutModel",
            "_view_count": null,
            "_view_module": "@jupyter-widgets/base",
            "_view_module_version": "1.2.0",
            "_view_name": "LayoutView",
            "align_content": null,
            "align_items": null,
            "align_self": null,
            "border": null,
            "bottom": null,
            "display": null,
            "flex": null,
            "flex_flow": null,
            "grid_area": null,
            "grid_auto_columns": null,
            "grid_auto_flow": null,
            "grid_auto_rows": null,
            "grid_column": null,
            "grid_gap": null,
            "grid_row": null,
            "grid_template_areas": null,
            "grid_template_columns": null,
            "grid_template_rows": null,
            "height": null,
            "justify_content": null,
            "justify_items": null,
            "left": null,
            "margin": null,
            "max_height": null,
            "max_width": null,
            "min_height": null,
            "min_width": null,
            "object_fit": null,
            "object_position": null,
            "order": null,
            "overflow": null,
            "overflow_x": null,
            "overflow_y": null,
            "padding": null,
            "right": null,
            "top": null,
            "visibility": null,
            "width": null
          }
        },
        "a24b71cba1c5466f9b669c10ccd63678": {
          "model_module": "@jupyter-widgets/controls",
          "model_name": "ProgressStyleModel",
          "model_module_version": "1.5.0",
          "state": {
            "_model_module": "@jupyter-widgets/controls",
            "_model_module_version": "1.5.0",
            "_model_name": "ProgressStyleModel",
            "_view_count": null,
            "_view_module": "@jupyter-widgets/base",
            "_view_module_version": "1.2.0",
            "_view_name": "StyleView",
            "bar_color": null,
            "description_width": ""
          }
        },
        "a77410e222474f9e942824b18f444f9c": {
          "model_module": "@jupyter-widgets/base",
          "model_name": "LayoutModel",
          "model_module_version": "1.2.0",
          "state": {
            "_model_module": "@jupyter-widgets/base",
            "_model_module_version": "1.2.0",
            "_model_name": "LayoutModel",
            "_view_count": null,
            "_view_module": "@jupyter-widgets/base",
            "_view_module_version": "1.2.0",
            "_view_name": "LayoutView",
            "align_content": null,
            "align_items": null,
            "align_self": null,
            "border": null,
            "bottom": null,
            "display": null,
            "flex": null,
            "flex_flow": null,
            "grid_area": null,
            "grid_auto_columns": null,
            "grid_auto_flow": null,
            "grid_auto_rows": null,
            "grid_column": null,
            "grid_gap": null,
            "grid_row": null,
            "grid_template_areas": null,
            "grid_template_columns": null,
            "grid_template_rows": null,
            "height": null,
            "justify_content": null,
            "justify_items": null,
            "left": null,
            "margin": null,
            "max_height": null,
            "max_width": null,
            "min_height": null,
            "min_width": null,
            "object_fit": null,
            "object_position": null,
            "order": null,
            "overflow": null,
            "overflow_x": null,
            "overflow_y": null,
            "padding": null,
            "right": null,
            "top": null,
            "visibility": null,
            "width": null
          }
        },
        "2dabfae924d14df488e9d0286220e02d": {
          "model_module": "@jupyter-widgets/controls",
          "model_name": "DescriptionStyleModel",
          "model_module_version": "1.5.0",
          "state": {
            "_model_module": "@jupyter-widgets/controls",
            "_model_module_version": "1.5.0",
            "_model_name": "DescriptionStyleModel",
            "_view_count": null,
            "_view_module": "@jupyter-widgets/base",
            "_view_module_version": "1.2.0",
            "_view_name": "StyleView",
            "description_width": ""
          }
        },
        "e40aa1ea887543b589d80b70311cef5e": {
          "model_module": "@jupyter-widgets/controls",
          "model_name": "HBoxModel",
          "model_module_version": "1.5.0",
          "state": {
            "_dom_classes": [],
            "_model_module": "@jupyter-widgets/controls",
            "_model_module_version": "1.5.0",
            "_model_name": "HBoxModel",
            "_view_count": null,
            "_view_module": "@jupyter-widgets/controls",
            "_view_module_version": "1.5.0",
            "_view_name": "HBoxView",
            "box_style": "",
            "children": [
              "IPY_MODEL_960d152bf1e64231b67ed86d8cfcb377",
              "IPY_MODEL_6233e8ab16314f57927d54ce6c403ca6",
              "IPY_MODEL_e7f5707637414bb897ef749e4350a8dd"
            ],
            "layout": "IPY_MODEL_f2c7a07c44b14ed2b392070d5d313941"
          }
        },
        "960d152bf1e64231b67ed86d8cfcb377": {
          "model_module": "@jupyter-widgets/controls",
          "model_name": "HTMLModel",
          "model_module_version": "1.5.0",
          "state": {
            "_dom_classes": [],
            "_model_module": "@jupyter-widgets/controls",
            "_model_module_version": "1.5.0",
            "_model_name": "HTMLModel",
            "_view_count": null,
            "_view_module": "@jupyter-widgets/controls",
            "_view_module_version": "1.5.0",
            "_view_name": "HTMLView",
            "description": "",
            "description_tooltip": null,
            "layout": "IPY_MODEL_53768bab30874e1aa24ba57b450c5233",
            "placeholder": "​",
            "style": "IPY_MODEL_718daa4213ea47a6b08b4416b3a205af",
            "value": "Map: 100%"
          }
        },
        "6233e8ab16314f57927d54ce6c403ca6": {
          "model_module": "@jupyter-widgets/controls",
          "model_name": "FloatProgressModel",
          "model_module_version": "1.5.0",
          "state": {
            "_dom_classes": [],
            "_model_module": "@jupyter-widgets/controls",
            "_model_module_version": "1.5.0",
            "_model_name": "FloatProgressModel",
            "_view_count": null,
            "_view_module": "@jupyter-widgets/controls",
            "_view_module_version": "1.5.0",
            "_view_name": "ProgressView",
            "bar_style": "success",
            "description": "",
            "description_tooltip": null,
            "layout": "IPY_MODEL_d5e3ada4c9e14896a84e314738320a68",
            "max": 14388,
            "min": 0,
            "orientation": "horizontal",
            "style": "IPY_MODEL_596c3bf17aad457fb39ec5d83dd5cbbe",
            "value": 14388
          }
        },
        "e7f5707637414bb897ef749e4350a8dd": {
          "model_module": "@jupyter-widgets/controls",
          "model_name": "HTMLModel",
          "model_module_version": "1.5.0",
          "state": {
            "_dom_classes": [],
            "_model_module": "@jupyter-widgets/controls",
            "_model_module_version": "1.5.0",
            "_model_name": "HTMLModel",
            "_view_count": null,
            "_view_module": "@jupyter-widgets/controls",
            "_view_module_version": "1.5.0",
            "_view_name": "HTMLView",
            "description": "",
            "description_tooltip": null,
            "layout": "IPY_MODEL_39b5c8818d5043c19c57667039ea7aa1",
            "placeholder": "​",
            "style": "IPY_MODEL_d9682fde9cf94d8d91fe25c27adeed3c",
            "value": " 14388/14388 [00:02&lt;00:00, 7757.01 examples/s]"
          }
        },
        "f2c7a07c44b14ed2b392070d5d313941": {
          "model_module": "@jupyter-widgets/base",
          "model_name": "LayoutModel",
          "model_module_version": "1.2.0",
          "state": {
            "_model_module": "@jupyter-widgets/base",
            "_model_module_version": "1.2.0",
            "_model_name": "LayoutModel",
            "_view_count": null,
            "_view_module": "@jupyter-widgets/base",
            "_view_module_version": "1.2.0",
            "_view_name": "LayoutView",
            "align_content": null,
            "align_items": null,
            "align_self": null,
            "border": null,
            "bottom": null,
            "display": null,
            "flex": null,
            "flex_flow": null,
            "grid_area": null,
            "grid_auto_columns": null,
            "grid_auto_flow": null,
            "grid_auto_rows": null,
            "grid_column": null,
            "grid_gap": null,
            "grid_row": null,
            "grid_template_areas": null,
            "grid_template_columns": null,
            "grid_template_rows": null,
            "height": null,
            "justify_content": null,
            "justify_items": null,
            "left": null,
            "margin": null,
            "max_height": null,
            "max_width": null,
            "min_height": null,
            "min_width": null,
            "object_fit": null,
            "object_position": null,
            "order": null,
            "overflow": null,
            "overflow_x": null,
            "overflow_y": null,
            "padding": null,
            "right": null,
            "top": null,
            "visibility": null,
            "width": null
          }
        },
        "53768bab30874e1aa24ba57b450c5233": {
          "model_module": "@jupyter-widgets/base",
          "model_name": "LayoutModel",
          "model_module_version": "1.2.0",
          "state": {
            "_model_module": "@jupyter-widgets/base",
            "_model_module_version": "1.2.0",
            "_model_name": "LayoutModel",
            "_view_count": null,
            "_view_module": "@jupyter-widgets/base",
            "_view_module_version": "1.2.0",
            "_view_name": "LayoutView",
            "align_content": null,
            "align_items": null,
            "align_self": null,
            "border": null,
            "bottom": null,
            "display": null,
            "flex": null,
            "flex_flow": null,
            "grid_area": null,
            "grid_auto_columns": null,
            "grid_auto_flow": null,
            "grid_auto_rows": null,
            "grid_column": null,
            "grid_gap": null,
            "grid_row": null,
            "grid_template_areas": null,
            "grid_template_columns": null,
            "grid_template_rows": null,
            "height": null,
            "justify_content": null,
            "justify_items": null,
            "left": null,
            "margin": null,
            "max_height": null,
            "max_width": null,
            "min_height": null,
            "min_width": null,
            "object_fit": null,
            "object_position": null,
            "order": null,
            "overflow": null,
            "overflow_x": null,
            "overflow_y": null,
            "padding": null,
            "right": null,
            "top": null,
            "visibility": null,
            "width": null
          }
        },
        "718daa4213ea47a6b08b4416b3a205af": {
          "model_module": "@jupyter-widgets/controls",
          "model_name": "DescriptionStyleModel",
          "model_module_version": "1.5.0",
          "state": {
            "_model_module": "@jupyter-widgets/controls",
            "_model_module_version": "1.5.0",
            "_model_name": "DescriptionStyleModel",
            "_view_count": null,
            "_view_module": "@jupyter-widgets/base",
            "_view_module_version": "1.2.0",
            "_view_name": "StyleView",
            "description_width": ""
          }
        },
        "d5e3ada4c9e14896a84e314738320a68": {
          "model_module": "@jupyter-widgets/base",
          "model_name": "LayoutModel",
          "model_module_version": "1.2.0",
          "state": {
            "_model_module": "@jupyter-widgets/base",
            "_model_module_version": "1.2.0",
            "_model_name": "LayoutModel",
            "_view_count": null,
            "_view_module": "@jupyter-widgets/base",
            "_view_module_version": "1.2.0",
            "_view_name": "LayoutView",
            "align_content": null,
            "align_items": null,
            "align_self": null,
            "border": null,
            "bottom": null,
            "display": null,
            "flex": null,
            "flex_flow": null,
            "grid_area": null,
            "grid_auto_columns": null,
            "grid_auto_flow": null,
            "grid_auto_rows": null,
            "grid_column": null,
            "grid_gap": null,
            "grid_row": null,
            "grid_template_areas": null,
            "grid_template_columns": null,
            "grid_template_rows": null,
            "height": null,
            "justify_content": null,
            "justify_items": null,
            "left": null,
            "margin": null,
            "max_height": null,
            "max_width": null,
            "min_height": null,
            "min_width": null,
            "object_fit": null,
            "object_position": null,
            "order": null,
            "overflow": null,
            "overflow_x": null,
            "overflow_y": null,
            "padding": null,
            "right": null,
            "top": null,
            "visibility": null,
            "width": null
          }
        },
        "596c3bf17aad457fb39ec5d83dd5cbbe": {
          "model_module": "@jupyter-widgets/controls",
          "model_name": "ProgressStyleModel",
          "model_module_version": "1.5.0",
          "state": {
            "_model_module": "@jupyter-widgets/controls",
            "_model_module_version": "1.5.0",
            "_model_name": "ProgressStyleModel",
            "_view_count": null,
            "_view_module": "@jupyter-widgets/base",
            "_view_module_version": "1.2.0",
            "_view_name": "StyleView",
            "bar_color": null,
            "description_width": ""
          }
        },
        "39b5c8818d5043c19c57667039ea7aa1": {
          "model_module": "@jupyter-widgets/base",
          "model_name": "LayoutModel",
          "model_module_version": "1.2.0",
          "state": {
            "_model_module": "@jupyter-widgets/base",
            "_model_module_version": "1.2.0",
            "_model_name": "LayoutModel",
            "_view_count": null,
            "_view_module": "@jupyter-widgets/base",
            "_view_module_version": "1.2.0",
            "_view_name": "LayoutView",
            "align_content": null,
            "align_items": null,
            "align_self": null,
            "border": null,
            "bottom": null,
            "display": null,
            "flex": null,
            "flex_flow": null,
            "grid_area": null,
            "grid_auto_columns": null,
            "grid_auto_flow": null,
            "grid_auto_rows": null,
            "grid_column": null,
            "grid_gap": null,
            "grid_row": null,
            "grid_template_areas": null,
            "grid_template_columns": null,
            "grid_template_rows": null,
            "height": null,
            "justify_content": null,
            "justify_items": null,
            "left": null,
            "margin": null,
            "max_height": null,
            "max_width": null,
            "min_height": null,
            "min_width": null,
            "object_fit": null,
            "object_position": null,
            "order": null,
            "overflow": null,
            "overflow_x": null,
            "overflow_y": null,
            "padding": null,
            "right": null,
            "top": null,
            "visibility": null,
            "width": null
          }
        },
        "d9682fde9cf94d8d91fe25c27adeed3c": {
          "model_module": "@jupyter-widgets/controls",
          "model_name": "DescriptionStyleModel",
          "model_module_version": "1.5.0",
          "state": {
            "_model_module": "@jupyter-widgets/controls",
            "_model_module_version": "1.5.0",
            "_model_name": "DescriptionStyleModel",
            "_view_count": null,
            "_view_module": "@jupyter-widgets/base",
            "_view_module_version": "1.2.0",
            "_view_name": "StyleView",
            "description_width": ""
          }
        }
      }
    }
  },
  "cells": [
    {
      "cell_type": "markdown",
      "source": [
        "## NAME ENTITY RECOGNITION - CASE STUDY"
      ],
      "metadata": {
        "id": "V8_N8Is-Y2qE"
      }
    },
    {
      "cell_type": "markdown",
      "source": [
        "### DATA ANALYSIS"
      ],
      "metadata": {
        "id": "7lmpGzyb3OhA"
      }
    },
    {
      "cell_type": "code",
      "execution_count": 1,
      "metadata": {
        "id": "XXPJowhk8aCT"
      },
      "outputs": [],
      "source": [
        "import pandas as pd\n",
        "import numpy as np"
      ]
    },
    {
      "cell_type": "code",
      "source": [
        "### Load the dataset\n",
        "data = pd.read_csv('ner_dataset.csv',encoding='Windows-1252')"
      ],
      "metadata": {
        "id": "r1Rx2zfN8gGQ"
      },
      "execution_count": 2,
      "outputs": []
    },
    {
      "cell_type": "code",
      "source": [
        "### No. of records\n",
        "data.shape"
      ],
      "metadata": {
        "colab": {
          "base_uri": "https://localhost:8080/"
        },
        "id": "g-ldHUDRnyT6",
        "outputId": "c2456673-f1a6-416e-ffd3-80363173138d"
      },
      "execution_count": 3,
      "outputs": [
        {
          "output_type": "execute_result",
          "data": {
            "text/plain": [
              "(1048575, 4)"
            ]
          },
          "metadata": {},
          "execution_count": 3
        }
      ]
    },
    {
      "cell_type": "code",
      "source": [
        "### we are concerned with word and tag columns only so we filter it out\n",
        "data = data[['Word','Tag']]"
      ],
      "metadata": {
        "id": "tJcRmcug9fCn"
      },
      "execution_count": 4,
      "outputs": []
    },
    {
      "cell_type": "code",
      "source": [
        "### No. of null records\n",
        "data.isnull().sum()"
      ],
      "metadata": {
        "colab": {
          "base_uri": "https://localhost:8080/"
        },
        "id": "5EA9_thsSWDZ",
        "outputId": "dd3719d8-9c4b-4b04-a548-5f563c39dbc3"
      },
      "execution_count": 5,
      "outputs": [
        {
          "output_type": "execute_result",
          "data": {
            "text/plain": [
              "Word    10\n",
              "Tag      0\n",
              "dtype: int64"
            ]
          },
          "metadata": {},
          "execution_count": 5
        }
      ]
    },
    {
      "cell_type": "code",
      "source": [
        "### Null records doesn't have any word associated\n",
        "data[data['Word'].isna()]"
      ],
      "metadata": {
        "colab": {
          "base_uri": "https://localhost:8080/",
          "height": 363
        },
        "id": "QxpuId-WSZLx",
        "outputId": "219bee74-b87a-4cb0-f14f-322299aaa42f"
      },
      "execution_count": 6,
      "outputs": [
        {
          "output_type": "execute_result",
          "data": {
            "text/plain": [
              "        Word Tag\n",
              "197658   NaN   O\n",
              "256026   NaN   O\n",
              "257069   NaN   O\n",
              "571211   NaN   O\n",
              "613777   NaN   O\n",
              "747019   NaN   O\n",
              "901758   NaN   O\n",
              "903054   NaN   O\n",
              "944880   NaN   O\n",
              "1003438  NaN   O"
            ],
            "text/html": [
              "\n",
              "  <div id=\"df-1072f5ca-e6eb-40bd-9660-7b67da6d49ef\" class=\"colab-df-container\">\n",
              "    <div>\n",
              "<style scoped>\n",
              "    .dataframe tbody tr th:only-of-type {\n",
              "        vertical-align: middle;\n",
              "    }\n",
              "\n",
              "    .dataframe tbody tr th {\n",
              "        vertical-align: top;\n",
              "    }\n",
              "\n",
              "    .dataframe thead th {\n",
              "        text-align: right;\n",
              "    }\n",
              "</style>\n",
              "<table border=\"1\" class=\"dataframe\">\n",
              "  <thead>\n",
              "    <tr style=\"text-align: right;\">\n",
              "      <th></th>\n",
              "      <th>Word</th>\n",
              "      <th>Tag</th>\n",
              "    </tr>\n",
              "  </thead>\n",
              "  <tbody>\n",
              "    <tr>\n",
              "      <th>197658</th>\n",
              "      <td>NaN</td>\n",
              "      <td>O</td>\n",
              "    </tr>\n",
              "    <tr>\n",
              "      <th>256026</th>\n",
              "      <td>NaN</td>\n",
              "      <td>O</td>\n",
              "    </tr>\n",
              "    <tr>\n",
              "      <th>257069</th>\n",
              "      <td>NaN</td>\n",
              "      <td>O</td>\n",
              "    </tr>\n",
              "    <tr>\n",
              "      <th>571211</th>\n",
              "      <td>NaN</td>\n",
              "      <td>O</td>\n",
              "    </tr>\n",
              "    <tr>\n",
              "      <th>613777</th>\n",
              "      <td>NaN</td>\n",
              "      <td>O</td>\n",
              "    </tr>\n",
              "    <tr>\n",
              "      <th>747019</th>\n",
              "      <td>NaN</td>\n",
              "      <td>O</td>\n",
              "    </tr>\n",
              "    <tr>\n",
              "      <th>901758</th>\n",
              "      <td>NaN</td>\n",
              "      <td>O</td>\n",
              "    </tr>\n",
              "    <tr>\n",
              "      <th>903054</th>\n",
              "      <td>NaN</td>\n",
              "      <td>O</td>\n",
              "    </tr>\n",
              "    <tr>\n",
              "      <th>944880</th>\n",
              "      <td>NaN</td>\n",
              "      <td>O</td>\n",
              "    </tr>\n",
              "    <tr>\n",
              "      <th>1003438</th>\n",
              "      <td>NaN</td>\n",
              "      <td>O</td>\n",
              "    </tr>\n",
              "  </tbody>\n",
              "</table>\n",
              "</div>\n",
              "    <div class=\"colab-df-buttons\">\n",
              "\n",
              "  <div class=\"colab-df-container\">\n",
              "    <button class=\"colab-df-convert\" onclick=\"convertToInteractive('df-1072f5ca-e6eb-40bd-9660-7b67da6d49ef')\"\n",
              "            title=\"Convert this dataframe to an interactive table.\"\n",
              "            style=\"display:none;\">\n",
              "\n",
              "  <svg xmlns=\"http://www.w3.org/2000/svg\" height=\"24px\" viewBox=\"0 -960 960 960\">\n",
              "    <path d=\"M120-120v-720h720v720H120Zm60-500h600v-160H180v160Zm220 220h160v-160H400v160Zm0 220h160v-160H400v160ZM180-400h160v-160H180v160Zm440 0h160v-160H620v160ZM180-180h160v-160H180v160Zm440 0h160v-160H620v160Z\"/>\n",
              "  </svg>\n",
              "    </button>\n",
              "\n",
              "  <style>\n",
              "    .colab-df-container {\n",
              "      display:flex;\n",
              "      gap: 12px;\n",
              "    }\n",
              "\n",
              "    .colab-df-convert {\n",
              "      background-color: #E8F0FE;\n",
              "      border: none;\n",
              "      border-radius: 50%;\n",
              "      cursor: pointer;\n",
              "      display: none;\n",
              "      fill: #1967D2;\n",
              "      height: 32px;\n",
              "      padding: 0 0 0 0;\n",
              "      width: 32px;\n",
              "    }\n",
              "\n",
              "    .colab-df-convert:hover {\n",
              "      background-color: #E2EBFA;\n",
              "      box-shadow: 0px 1px 2px rgba(60, 64, 67, 0.3), 0px 1px 3px 1px rgba(60, 64, 67, 0.15);\n",
              "      fill: #174EA6;\n",
              "    }\n",
              "\n",
              "    .colab-df-buttons div {\n",
              "      margin-bottom: 4px;\n",
              "    }\n",
              "\n",
              "    [theme=dark] .colab-df-convert {\n",
              "      background-color: #3B4455;\n",
              "      fill: #D2E3FC;\n",
              "    }\n",
              "\n",
              "    [theme=dark] .colab-df-convert:hover {\n",
              "      background-color: #434B5C;\n",
              "      box-shadow: 0px 1px 3px 1px rgba(0, 0, 0, 0.15);\n",
              "      filter: drop-shadow(0px 1px 2px rgba(0, 0, 0, 0.3));\n",
              "      fill: #FFFFFF;\n",
              "    }\n",
              "  </style>\n",
              "\n",
              "    <script>\n",
              "      const buttonEl =\n",
              "        document.querySelector('#df-1072f5ca-e6eb-40bd-9660-7b67da6d49ef button.colab-df-convert');\n",
              "      buttonEl.style.display =\n",
              "        google.colab.kernel.accessAllowed ? 'block' : 'none';\n",
              "\n",
              "      async function convertToInteractive(key) {\n",
              "        const element = document.querySelector('#df-1072f5ca-e6eb-40bd-9660-7b67da6d49ef');\n",
              "        const dataTable =\n",
              "          await google.colab.kernel.invokeFunction('convertToInteractive',\n",
              "                                                    [key], {});\n",
              "        if (!dataTable) return;\n",
              "\n",
              "        const docLinkHtml = 'Like what you see? Visit the ' +\n",
              "          '<a target=\"_blank\" href=https://colab.research.google.com/notebooks/data_table.ipynb>data table notebook</a>'\n",
              "          + ' to learn more about interactive tables.';\n",
              "        element.innerHTML = '';\n",
              "        dataTable['output_type'] = 'display_data';\n",
              "        await google.colab.output.renderOutput(dataTable, element);\n",
              "        const docLink = document.createElement('div');\n",
              "        docLink.innerHTML = docLinkHtml;\n",
              "        element.appendChild(docLink);\n",
              "      }\n",
              "    </script>\n",
              "  </div>\n",
              "\n",
              "\n",
              "<div id=\"df-e9e134c8-9749-4b26-8d3a-4f8d7171c18a\">\n",
              "  <button class=\"colab-df-quickchart\" onclick=\"quickchart('df-e9e134c8-9749-4b26-8d3a-4f8d7171c18a')\"\n",
              "            title=\"Suggest charts\"\n",
              "            style=\"display:none;\">\n",
              "\n",
              "<svg xmlns=\"http://www.w3.org/2000/svg\" height=\"24px\"viewBox=\"0 0 24 24\"\n",
              "     width=\"24px\">\n",
              "    <g>\n",
              "        <path d=\"M19 3H5c-1.1 0-2 .9-2 2v14c0 1.1.9 2 2 2h14c1.1 0 2-.9 2-2V5c0-1.1-.9-2-2-2zM9 17H7v-7h2v7zm4 0h-2V7h2v10zm4 0h-2v-4h2v4z\"/>\n",
              "    </g>\n",
              "</svg>\n",
              "  </button>\n",
              "\n",
              "<style>\n",
              "  .colab-df-quickchart {\n",
              "      --bg-color: #E8F0FE;\n",
              "      --fill-color: #1967D2;\n",
              "      --hover-bg-color: #E2EBFA;\n",
              "      --hover-fill-color: #174EA6;\n",
              "      --disabled-fill-color: #AAA;\n",
              "      --disabled-bg-color: #DDD;\n",
              "  }\n",
              "\n",
              "  [theme=dark] .colab-df-quickchart {\n",
              "      --bg-color: #3B4455;\n",
              "      --fill-color: #D2E3FC;\n",
              "      --hover-bg-color: #434B5C;\n",
              "      --hover-fill-color: #FFFFFF;\n",
              "      --disabled-bg-color: #3B4455;\n",
              "      --disabled-fill-color: #666;\n",
              "  }\n",
              "\n",
              "  .colab-df-quickchart {\n",
              "    background-color: var(--bg-color);\n",
              "    border: none;\n",
              "    border-radius: 50%;\n",
              "    cursor: pointer;\n",
              "    display: none;\n",
              "    fill: var(--fill-color);\n",
              "    height: 32px;\n",
              "    padding: 0;\n",
              "    width: 32px;\n",
              "  }\n",
              "\n",
              "  .colab-df-quickchart:hover {\n",
              "    background-color: var(--hover-bg-color);\n",
              "    box-shadow: 0 1px 2px rgba(60, 64, 67, 0.3), 0 1px 3px 1px rgba(60, 64, 67, 0.15);\n",
              "    fill: var(--button-hover-fill-color);\n",
              "  }\n",
              "\n",
              "  .colab-df-quickchart-complete:disabled,\n",
              "  .colab-df-quickchart-complete:disabled:hover {\n",
              "    background-color: var(--disabled-bg-color);\n",
              "    fill: var(--disabled-fill-color);\n",
              "    box-shadow: none;\n",
              "  }\n",
              "\n",
              "  .colab-df-spinner {\n",
              "    border: 2px solid var(--fill-color);\n",
              "    border-color: transparent;\n",
              "    border-bottom-color: var(--fill-color);\n",
              "    animation:\n",
              "      spin 1s steps(1) infinite;\n",
              "  }\n",
              "\n",
              "  @keyframes spin {\n",
              "    0% {\n",
              "      border-color: transparent;\n",
              "      border-bottom-color: var(--fill-color);\n",
              "      border-left-color: var(--fill-color);\n",
              "    }\n",
              "    20% {\n",
              "      border-color: transparent;\n",
              "      border-left-color: var(--fill-color);\n",
              "      border-top-color: var(--fill-color);\n",
              "    }\n",
              "    30% {\n",
              "      border-color: transparent;\n",
              "      border-left-color: var(--fill-color);\n",
              "      border-top-color: var(--fill-color);\n",
              "      border-right-color: var(--fill-color);\n",
              "    }\n",
              "    40% {\n",
              "      border-color: transparent;\n",
              "      border-right-color: var(--fill-color);\n",
              "      border-top-color: var(--fill-color);\n",
              "    }\n",
              "    60% {\n",
              "      border-color: transparent;\n",
              "      border-right-color: var(--fill-color);\n",
              "    }\n",
              "    80% {\n",
              "      border-color: transparent;\n",
              "      border-right-color: var(--fill-color);\n",
              "      border-bottom-color: var(--fill-color);\n",
              "    }\n",
              "    90% {\n",
              "      border-color: transparent;\n",
              "      border-bottom-color: var(--fill-color);\n",
              "    }\n",
              "  }\n",
              "</style>\n",
              "\n",
              "  <script>\n",
              "    async function quickchart(key) {\n",
              "      const quickchartButtonEl =\n",
              "        document.querySelector('#' + key + ' button');\n",
              "      quickchartButtonEl.disabled = true;  // To prevent multiple clicks.\n",
              "      quickchartButtonEl.classList.add('colab-df-spinner');\n",
              "      try {\n",
              "        const charts = await google.colab.kernel.invokeFunction(\n",
              "            'suggestCharts', [key], {});\n",
              "      } catch (error) {\n",
              "        console.error('Error during call to suggestCharts:', error);\n",
              "      }\n",
              "      quickchartButtonEl.classList.remove('colab-df-spinner');\n",
              "      quickchartButtonEl.classList.add('colab-df-quickchart-complete');\n",
              "    }\n",
              "    (() => {\n",
              "      let quickchartButtonEl =\n",
              "        document.querySelector('#df-e9e134c8-9749-4b26-8d3a-4f8d7171c18a button');\n",
              "      quickchartButtonEl.style.display =\n",
              "        google.colab.kernel.accessAllowed ? 'block' : 'none';\n",
              "    })();\n",
              "  </script>\n",
              "</div>\n",
              "\n",
              "    </div>\n",
              "  </div>\n"
            ],
            "application/vnd.google.colaboratory.intrinsic+json": {
              "type": "dataframe",
              "repr_error": "0"
            }
          },
          "metadata": {},
          "execution_count": 6
        }
      ]
    },
    {
      "cell_type": "code",
      "source": [
        "### So we can safely drop these records\n",
        "data = data.dropna().reset_index(drop=True)"
      ],
      "metadata": {
        "id": "Veg017Y5SjKi"
      },
      "execution_count": 7,
      "outputs": []
    },
    {
      "cell_type": "code",
      "source": [
        "### Delving to granular level\n",
        "data_tag_count = pd.DataFrame(data.Tag.value_counts()).reset_index()\n",
        "data_tag_count['percentage'] = data_tag_count['count'].apply(lambda x: (x/sum(data_tag_count['count']))*100)"
      ],
      "metadata": {
        "id": "SrK0te3w9rFl"
      },
      "execution_count": 8,
      "outputs": []
    },
    {
      "cell_type": "code",
      "source": [
        "### Distribution of tags in data\n",
        "data_tag_count"
      ],
      "metadata": {
        "colab": {
          "base_uri": "https://localhost:8080/",
          "height": 582
        },
        "id": "S5q6EKXnTOKh",
        "outputId": "18c65e4b-a3ae-4015-b34b-00cc32b5c47f"
      },
      "execution_count": 9,
      "outputs": [
        {
          "output_type": "execute_result",
          "data": {
            "text/plain": [
              "      Tag   count  percentage\n",
              "0       O  887898   84.677440\n",
              "1   B-geo   37644    3.590049\n",
              "2   B-tim   20333    1.939126\n",
              "3   B-org   20143    1.921006\n",
              "4   I-per   17251    1.645201\n",
              "5   B-per   16990    1.620310\n",
              "6   I-org   16784    1.600664\n",
              "7   B-gpe   15870    1.513497\n",
              "8   I-geo    7414    0.707062\n",
              "9   I-tim    6528    0.622565\n",
              "10  B-art     402    0.038338\n",
              "11  B-eve     308    0.029373\n",
              "12  I-art     297    0.028324\n",
              "13  I-eve     253    0.024128\n",
              "14  B-nat     201    0.019169\n",
              "15  I-gpe     198    0.018883\n",
              "16  I-nat      51    0.004864"
            ],
            "text/html": [
              "\n",
              "  <div id=\"df-0a825f29-6fbd-4ec4-b031-68074612b856\" class=\"colab-df-container\">\n",
              "    <div>\n",
              "<style scoped>\n",
              "    .dataframe tbody tr th:only-of-type {\n",
              "        vertical-align: middle;\n",
              "    }\n",
              "\n",
              "    .dataframe tbody tr th {\n",
              "        vertical-align: top;\n",
              "    }\n",
              "\n",
              "    .dataframe thead th {\n",
              "        text-align: right;\n",
              "    }\n",
              "</style>\n",
              "<table border=\"1\" class=\"dataframe\">\n",
              "  <thead>\n",
              "    <tr style=\"text-align: right;\">\n",
              "      <th></th>\n",
              "      <th>Tag</th>\n",
              "      <th>count</th>\n",
              "      <th>percentage</th>\n",
              "    </tr>\n",
              "  </thead>\n",
              "  <tbody>\n",
              "    <tr>\n",
              "      <th>0</th>\n",
              "      <td>O</td>\n",
              "      <td>887898</td>\n",
              "      <td>84.677440</td>\n",
              "    </tr>\n",
              "    <tr>\n",
              "      <th>1</th>\n",
              "      <td>B-geo</td>\n",
              "      <td>37644</td>\n",
              "      <td>3.590049</td>\n",
              "    </tr>\n",
              "    <tr>\n",
              "      <th>2</th>\n",
              "      <td>B-tim</td>\n",
              "      <td>20333</td>\n",
              "      <td>1.939126</td>\n",
              "    </tr>\n",
              "    <tr>\n",
              "      <th>3</th>\n",
              "      <td>B-org</td>\n",
              "      <td>20143</td>\n",
              "      <td>1.921006</td>\n",
              "    </tr>\n",
              "    <tr>\n",
              "      <th>4</th>\n",
              "      <td>I-per</td>\n",
              "      <td>17251</td>\n",
              "      <td>1.645201</td>\n",
              "    </tr>\n",
              "    <tr>\n",
              "      <th>5</th>\n",
              "      <td>B-per</td>\n",
              "      <td>16990</td>\n",
              "      <td>1.620310</td>\n",
              "    </tr>\n",
              "    <tr>\n",
              "      <th>6</th>\n",
              "      <td>I-org</td>\n",
              "      <td>16784</td>\n",
              "      <td>1.600664</td>\n",
              "    </tr>\n",
              "    <tr>\n",
              "      <th>7</th>\n",
              "      <td>B-gpe</td>\n",
              "      <td>15870</td>\n",
              "      <td>1.513497</td>\n",
              "    </tr>\n",
              "    <tr>\n",
              "      <th>8</th>\n",
              "      <td>I-geo</td>\n",
              "      <td>7414</td>\n",
              "      <td>0.707062</td>\n",
              "    </tr>\n",
              "    <tr>\n",
              "      <th>9</th>\n",
              "      <td>I-tim</td>\n",
              "      <td>6528</td>\n",
              "      <td>0.622565</td>\n",
              "    </tr>\n",
              "    <tr>\n",
              "      <th>10</th>\n",
              "      <td>B-art</td>\n",
              "      <td>402</td>\n",
              "      <td>0.038338</td>\n",
              "    </tr>\n",
              "    <tr>\n",
              "      <th>11</th>\n",
              "      <td>B-eve</td>\n",
              "      <td>308</td>\n",
              "      <td>0.029373</td>\n",
              "    </tr>\n",
              "    <tr>\n",
              "      <th>12</th>\n",
              "      <td>I-art</td>\n",
              "      <td>297</td>\n",
              "      <td>0.028324</td>\n",
              "    </tr>\n",
              "    <tr>\n",
              "      <th>13</th>\n",
              "      <td>I-eve</td>\n",
              "      <td>253</td>\n",
              "      <td>0.024128</td>\n",
              "    </tr>\n",
              "    <tr>\n",
              "      <th>14</th>\n",
              "      <td>B-nat</td>\n",
              "      <td>201</td>\n",
              "      <td>0.019169</td>\n",
              "    </tr>\n",
              "    <tr>\n",
              "      <th>15</th>\n",
              "      <td>I-gpe</td>\n",
              "      <td>198</td>\n",
              "      <td>0.018883</td>\n",
              "    </tr>\n",
              "    <tr>\n",
              "      <th>16</th>\n",
              "      <td>I-nat</td>\n",
              "      <td>51</td>\n",
              "      <td>0.004864</td>\n",
              "    </tr>\n",
              "  </tbody>\n",
              "</table>\n",
              "</div>\n",
              "    <div class=\"colab-df-buttons\">\n",
              "\n",
              "  <div class=\"colab-df-container\">\n",
              "    <button class=\"colab-df-convert\" onclick=\"convertToInteractive('df-0a825f29-6fbd-4ec4-b031-68074612b856')\"\n",
              "            title=\"Convert this dataframe to an interactive table.\"\n",
              "            style=\"display:none;\">\n",
              "\n",
              "  <svg xmlns=\"http://www.w3.org/2000/svg\" height=\"24px\" viewBox=\"0 -960 960 960\">\n",
              "    <path d=\"M120-120v-720h720v720H120Zm60-500h600v-160H180v160Zm220 220h160v-160H400v160Zm0 220h160v-160H400v160ZM180-400h160v-160H180v160Zm440 0h160v-160H620v160ZM180-180h160v-160H180v160Zm440 0h160v-160H620v160Z\"/>\n",
              "  </svg>\n",
              "    </button>\n",
              "\n",
              "  <style>\n",
              "    .colab-df-container {\n",
              "      display:flex;\n",
              "      gap: 12px;\n",
              "    }\n",
              "\n",
              "    .colab-df-convert {\n",
              "      background-color: #E8F0FE;\n",
              "      border: none;\n",
              "      border-radius: 50%;\n",
              "      cursor: pointer;\n",
              "      display: none;\n",
              "      fill: #1967D2;\n",
              "      height: 32px;\n",
              "      padding: 0 0 0 0;\n",
              "      width: 32px;\n",
              "    }\n",
              "\n",
              "    .colab-df-convert:hover {\n",
              "      background-color: #E2EBFA;\n",
              "      box-shadow: 0px 1px 2px rgba(60, 64, 67, 0.3), 0px 1px 3px 1px rgba(60, 64, 67, 0.15);\n",
              "      fill: #174EA6;\n",
              "    }\n",
              "\n",
              "    .colab-df-buttons div {\n",
              "      margin-bottom: 4px;\n",
              "    }\n",
              "\n",
              "    [theme=dark] .colab-df-convert {\n",
              "      background-color: #3B4455;\n",
              "      fill: #D2E3FC;\n",
              "    }\n",
              "\n",
              "    [theme=dark] .colab-df-convert:hover {\n",
              "      background-color: #434B5C;\n",
              "      box-shadow: 0px 1px 3px 1px rgba(0, 0, 0, 0.15);\n",
              "      filter: drop-shadow(0px 1px 2px rgba(0, 0, 0, 0.3));\n",
              "      fill: #FFFFFF;\n",
              "    }\n",
              "  </style>\n",
              "\n",
              "    <script>\n",
              "      const buttonEl =\n",
              "        document.querySelector('#df-0a825f29-6fbd-4ec4-b031-68074612b856 button.colab-df-convert');\n",
              "      buttonEl.style.display =\n",
              "        google.colab.kernel.accessAllowed ? 'block' : 'none';\n",
              "\n",
              "      async function convertToInteractive(key) {\n",
              "        const element = document.querySelector('#df-0a825f29-6fbd-4ec4-b031-68074612b856');\n",
              "        const dataTable =\n",
              "          await google.colab.kernel.invokeFunction('convertToInteractive',\n",
              "                                                    [key], {});\n",
              "        if (!dataTable) return;\n",
              "\n",
              "        const docLinkHtml = 'Like what you see? Visit the ' +\n",
              "          '<a target=\"_blank\" href=https://colab.research.google.com/notebooks/data_table.ipynb>data table notebook</a>'\n",
              "          + ' to learn more about interactive tables.';\n",
              "        element.innerHTML = '';\n",
              "        dataTable['output_type'] = 'display_data';\n",
              "        await google.colab.output.renderOutput(dataTable, element);\n",
              "        const docLink = document.createElement('div');\n",
              "        docLink.innerHTML = docLinkHtml;\n",
              "        element.appendChild(docLink);\n",
              "      }\n",
              "    </script>\n",
              "  </div>\n",
              "\n",
              "\n",
              "<div id=\"df-7a01067b-035f-47c7-8e3a-1d52e2d75356\">\n",
              "  <button class=\"colab-df-quickchart\" onclick=\"quickchart('df-7a01067b-035f-47c7-8e3a-1d52e2d75356')\"\n",
              "            title=\"Suggest charts\"\n",
              "            style=\"display:none;\">\n",
              "\n",
              "<svg xmlns=\"http://www.w3.org/2000/svg\" height=\"24px\"viewBox=\"0 0 24 24\"\n",
              "     width=\"24px\">\n",
              "    <g>\n",
              "        <path d=\"M19 3H5c-1.1 0-2 .9-2 2v14c0 1.1.9 2 2 2h14c1.1 0 2-.9 2-2V5c0-1.1-.9-2-2-2zM9 17H7v-7h2v7zm4 0h-2V7h2v10zm4 0h-2v-4h2v4z\"/>\n",
              "    </g>\n",
              "</svg>\n",
              "  </button>\n",
              "\n",
              "<style>\n",
              "  .colab-df-quickchart {\n",
              "      --bg-color: #E8F0FE;\n",
              "      --fill-color: #1967D2;\n",
              "      --hover-bg-color: #E2EBFA;\n",
              "      --hover-fill-color: #174EA6;\n",
              "      --disabled-fill-color: #AAA;\n",
              "      --disabled-bg-color: #DDD;\n",
              "  }\n",
              "\n",
              "  [theme=dark] .colab-df-quickchart {\n",
              "      --bg-color: #3B4455;\n",
              "      --fill-color: #D2E3FC;\n",
              "      --hover-bg-color: #434B5C;\n",
              "      --hover-fill-color: #FFFFFF;\n",
              "      --disabled-bg-color: #3B4455;\n",
              "      --disabled-fill-color: #666;\n",
              "  }\n",
              "\n",
              "  .colab-df-quickchart {\n",
              "    background-color: var(--bg-color);\n",
              "    border: none;\n",
              "    border-radius: 50%;\n",
              "    cursor: pointer;\n",
              "    display: none;\n",
              "    fill: var(--fill-color);\n",
              "    height: 32px;\n",
              "    padding: 0;\n",
              "    width: 32px;\n",
              "  }\n",
              "\n",
              "  .colab-df-quickchart:hover {\n",
              "    background-color: var(--hover-bg-color);\n",
              "    box-shadow: 0 1px 2px rgba(60, 64, 67, 0.3), 0 1px 3px 1px rgba(60, 64, 67, 0.15);\n",
              "    fill: var(--button-hover-fill-color);\n",
              "  }\n",
              "\n",
              "  .colab-df-quickchart-complete:disabled,\n",
              "  .colab-df-quickchart-complete:disabled:hover {\n",
              "    background-color: var(--disabled-bg-color);\n",
              "    fill: var(--disabled-fill-color);\n",
              "    box-shadow: none;\n",
              "  }\n",
              "\n",
              "  .colab-df-spinner {\n",
              "    border: 2px solid var(--fill-color);\n",
              "    border-color: transparent;\n",
              "    border-bottom-color: var(--fill-color);\n",
              "    animation:\n",
              "      spin 1s steps(1) infinite;\n",
              "  }\n",
              "\n",
              "  @keyframes spin {\n",
              "    0% {\n",
              "      border-color: transparent;\n",
              "      border-bottom-color: var(--fill-color);\n",
              "      border-left-color: var(--fill-color);\n",
              "    }\n",
              "    20% {\n",
              "      border-color: transparent;\n",
              "      border-left-color: var(--fill-color);\n",
              "      border-top-color: var(--fill-color);\n",
              "    }\n",
              "    30% {\n",
              "      border-color: transparent;\n",
              "      border-left-color: var(--fill-color);\n",
              "      border-top-color: var(--fill-color);\n",
              "      border-right-color: var(--fill-color);\n",
              "    }\n",
              "    40% {\n",
              "      border-color: transparent;\n",
              "      border-right-color: var(--fill-color);\n",
              "      border-top-color: var(--fill-color);\n",
              "    }\n",
              "    60% {\n",
              "      border-color: transparent;\n",
              "      border-right-color: var(--fill-color);\n",
              "    }\n",
              "    80% {\n",
              "      border-color: transparent;\n",
              "      border-right-color: var(--fill-color);\n",
              "      border-bottom-color: var(--fill-color);\n",
              "    }\n",
              "    90% {\n",
              "      border-color: transparent;\n",
              "      border-bottom-color: var(--fill-color);\n",
              "    }\n",
              "  }\n",
              "</style>\n",
              "\n",
              "  <script>\n",
              "    async function quickchart(key) {\n",
              "      const quickchartButtonEl =\n",
              "        document.querySelector('#' + key + ' button');\n",
              "      quickchartButtonEl.disabled = true;  // To prevent multiple clicks.\n",
              "      quickchartButtonEl.classList.add('colab-df-spinner');\n",
              "      try {\n",
              "        const charts = await google.colab.kernel.invokeFunction(\n",
              "            'suggestCharts', [key], {});\n",
              "      } catch (error) {\n",
              "        console.error('Error during call to suggestCharts:', error);\n",
              "      }\n",
              "      quickchartButtonEl.classList.remove('colab-df-spinner');\n",
              "      quickchartButtonEl.classList.add('colab-df-quickchart-complete');\n",
              "    }\n",
              "    (() => {\n",
              "      let quickchartButtonEl =\n",
              "        document.querySelector('#df-7a01067b-035f-47c7-8e3a-1d52e2d75356 button');\n",
              "      quickchartButtonEl.style.display =\n",
              "        google.colab.kernel.accessAllowed ? 'block' : 'none';\n",
              "    })();\n",
              "  </script>\n",
              "</div>\n",
              "\n",
              "  <div id=\"id_f8ecfdc0-1138-4586-aa72-e09fdaf30697\">\n",
              "    <style>\n",
              "      .colab-df-generate {\n",
              "        background-color: #E8F0FE;\n",
              "        border: none;\n",
              "        border-radius: 50%;\n",
              "        cursor: pointer;\n",
              "        display: none;\n",
              "        fill: #1967D2;\n",
              "        height: 32px;\n",
              "        padding: 0 0 0 0;\n",
              "        width: 32px;\n",
              "      }\n",
              "\n",
              "      .colab-df-generate:hover {\n",
              "        background-color: #E2EBFA;\n",
              "        box-shadow: 0px 1px 2px rgba(60, 64, 67, 0.3), 0px 1px 3px 1px rgba(60, 64, 67, 0.15);\n",
              "        fill: #174EA6;\n",
              "      }\n",
              "\n",
              "      [theme=dark] .colab-df-generate {\n",
              "        background-color: #3B4455;\n",
              "        fill: #D2E3FC;\n",
              "      }\n",
              "\n",
              "      [theme=dark] .colab-df-generate:hover {\n",
              "        background-color: #434B5C;\n",
              "        box-shadow: 0px 1px 3px 1px rgba(0, 0, 0, 0.15);\n",
              "        filter: drop-shadow(0px 1px 2px rgba(0, 0, 0, 0.3));\n",
              "        fill: #FFFFFF;\n",
              "      }\n",
              "    </style>\n",
              "    <button class=\"colab-df-generate\" onclick=\"generateWithVariable('data_tag_count')\"\n",
              "            title=\"Generate code using this dataframe.\"\n",
              "            style=\"display:none;\">\n",
              "\n",
              "  <svg xmlns=\"http://www.w3.org/2000/svg\" height=\"24px\"viewBox=\"0 0 24 24\"\n",
              "       width=\"24px\">\n",
              "    <path d=\"M7,19H8.4L18.45,9,17,7.55,7,17.6ZM5,21V16.75L18.45,3.32a2,2,0,0,1,2.83,0l1.4,1.43a1.91,1.91,0,0,1,.58,1.4,1.91,1.91,0,0,1-.58,1.4L9.25,21ZM18.45,9,17,7.55Zm-12,3A5.31,5.31,0,0,0,4.9,8.1,5.31,5.31,0,0,0,1,6.5,5.31,5.31,0,0,0,4.9,4.9,5.31,5.31,0,0,0,6.5,1,5.31,5.31,0,0,0,8.1,4.9,5.31,5.31,0,0,0,12,6.5,5.46,5.46,0,0,0,6.5,12Z\"/>\n",
              "  </svg>\n",
              "    </button>\n",
              "    <script>\n",
              "      (() => {\n",
              "      const buttonEl =\n",
              "        document.querySelector('#id_f8ecfdc0-1138-4586-aa72-e09fdaf30697 button.colab-df-generate');\n",
              "      buttonEl.style.display =\n",
              "        google.colab.kernel.accessAllowed ? 'block' : 'none';\n",
              "\n",
              "      buttonEl.onclick = () => {\n",
              "        google.colab.notebook.generateWithVariable('data_tag_count');\n",
              "      }\n",
              "      })();\n",
              "    </script>\n",
              "  </div>\n",
              "\n",
              "    </div>\n",
              "  </div>\n"
            ],
            "application/vnd.google.colaboratory.intrinsic+json": {
              "type": "dataframe",
              "variable_name": "data_tag_count",
              "summary": "{\n  \"name\": \"data_tag_count\",\n  \"rows\": 17,\n  \"fields\": [\n    {\n      \"column\": \"Tag\",\n      \"properties\": {\n        \"dtype\": \"string\",\n        \"num_unique_values\": 17,\n        \"samples\": [\n          \"O\",\n          \"B-geo\",\n          \"B-per\"\n        ],\n        \"semantic_type\": \"\",\n        \"description\": \"\"\n      }\n    },\n    {\n      \"column\": \"count\",\n      \"properties\": {\n        \"dtype\": \"number\",\n        \"std\": 213181,\n        \"min\": 51,\n        \"max\": 887898,\n        \"num_unique_values\": 17,\n        \"samples\": [\n          887898,\n          37644,\n          16990\n        ],\n        \"semantic_type\": \"\",\n        \"description\": \"\"\n      }\n    },\n    {\n      \"column\": \"percentage\",\n      \"properties\": {\n        \"dtype\": \"number\",\n        \"std\": 20.33077927693294,\n        \"min\": 0.004863790036859899,\n        \"max\": 84.6774401205457,\n        \"num_unique_values\": 17,\n        \"samples\": [\n          84.6774401205457,\n          3.590049257795177,\n          1.6203096612990135\n        ],\n        \"semantic_type\": \"\",\n        \"description\": \"\"\n      }\n    }\n  ]\n}"
            }
          },
          "metadata": {},
          "execution_count": 9
        }
      ]
    },
    {
      "cell_type": "code",
      "source": [
        "### Distribution of Individual tag corresponding to the words\n",
        "def data_analysis(data):\n",
        "    for i in data_tag_count.Tag.values:\n",
        "        print(i)\n",
        "        print('**************************************************************************')\n",
        "        data_tag__count = pd.DataFrame(data[data.Tag==i]['Word'].value_counts()).reset_index()\n",
        "        data_tag__count['percentage'] = data_tag__count['count'].apply(lambda x: (x/sum(data_tag__count['count']))*100)\n",
        "        print(data_tag__count[:30])\n",
        "        print('**************************************************************************')\n",
        "    return"
      ],
      "metadata": {
        "id": "KpdRJT_P1oZY"
      },
      "execution_count": 10,
      "outputs": []
    },
    {
      "cell_type": "code",
      "source": [
        "data_analysis(data=data)"
      ],
      "metadata": {
        "colab": {
          "base_uri": "https://localhost:8080/"
        },
        "id": "6FwLgbGC1i4W",
        "outputId": "db5ab7c6-8ebe-4ed3-f792-05fada6e5686"
      },
      "execution_count": 11,
      "outputs": [
        {
          "output_type": "stream",
          "name": "stdout",
          "text": [
            "O\n",
            "**************************************************************************\n",
            "    Word  count  percentage\n",
            "0    the  52342    5.895047\n",
            "1      .  47761    5.379109\n",
            "2      ,  32476    3.657627\n",
            "3     in  26199    2.950677\n",
            "4     of  25118    2.828929\n",
            "5     to  23095    2.601087\n",
            "6      a  20479    2.306459\n",
            "7    and  19228    2.165564\n",
            "8    The  11031    1.242372\n",
            "9     's  10530    1.185947\n",
            "10   for   8311    0.936031\n",
            "11   has   7216    0.812706\n",
            "12    is   6746    0.759772\n",
            "13    on   6706    0.755267\n",
            "14  that   6246    0.703459\n",
            "15  have   5485    0.617751\n",
            "16  with   5380    0.605925\n",
            "17  said   5321    0.599281\n",
            "18   was   4878    0.549387\n",
            "19  says   4640    0.522583\n",
            "20    by   4482    0.504788\n",
            "21  from   4441    0.500170\n",
            "22    at   4343    0.489133\n",
            "23   say   4178    0.470550\n",
            "24    as   4106    0.462441\n",
            "25    an   3845    0.433045\n",
            "26   are   3718    0.418742\n",
            "27     \"   3610    0.406578\n",
            "28  were   3519    0.396329\n",
            "29  will   3400    0.382927\n",
            "**************************************************************************\n",
            "B-geo\n",
            "**************************************************************************\n",
            "           Word  count  percentage\n",
            "0          U.S.   3169    8.418340\n",
            "1          Iraq   1666    4.425672\n",
            "2        United   1259    3.344490\n",
            "3          Iran   1243    3.301987\n",
            "4         China    908    2.412071\n",
            "5        Israel    891    2.366911\n",
            "6   Afghanistan    825    2.191584\n",
            "7      Pakistan    733    1.947189\n",
            "8       Baghdad    713    1.894060\n",
            "9        Russia    554    1.471682\n",
            "10        North    533    1.415896\n",
            "11        South    496    1.317607\n",
            "12         Gaza    460    1.221974\n",
            "13   Washington    456    1.211348\n",
            "14        India    449    1.192753\n",
            "15          New    398    1.057273\n",
            "16        Japan    334    0.887260\n",
            "17    Venezuela    319    0.847413\n",
            "18      Britain    314    0.834130\n",
            "19      Beijing    302    0.802253\n",
            "20         U.N.    295    0.783657\n",
            "21        Burma    295    0.783657\n",
            "22      Lebanon    289    0.767719\n",
            "23        Syria    275    0.730528\n",
            "24       France    274    0.727872\n",
            "25       London    254    0.674742\n",
            "26      Germany    249    0.661460\n",
            "27      Somalia    247    0.656147\n",
            "28       Europe    244    0.648178\n",
            "29         Cuba    221    0.587079\n",
            "**************************************************************************\n",
            "B-tim\n",
            "**************************************************************************\n",
            "         Word  count  percentage\n",
            "0     Tuesday   1363    6.703389\n",
            "1    Thursday   1286    6.324694\n",
            "2      Friday   1237    6.083706\n",
            "3      Monday   1228    6.039443\n",
            "4   Wednesday   1224    6.019771\n",
            "5      Sunday   1147    5.641076\n",
            "6    Saturday   1100    5.409925\n",
            "7       since    354    1.741012\n",
            "8     January    334    1.642650\n",
            "9         two    297    1.460680\n",
            "10  September    295    1.450843\n",
            "11   December    285    1.401662\n",
            "12      March    267    1.313136\n",
            "13   February    250    1.229528\n",
            "14       July    246    1.209856\n",
            "15        May    235    1.155757\n",
            "16   November    231    1.136084\n",
            "17    October    228    1.121330\n",
            "18       past    223    1.096739\n",
            "19       June    221    1.086903\n",
            "20     August    215    1.057394\n",
            "21      later    215    1.057394\n",
            "22      today    205    1.008213\n",
            "23       2003    189    0.929523\n",
            "24      April    167    0.821325\n",
            "25       2001    150    0.737717\n",
            "26       2010    150    0.737717\n",
            "27        end    149    0.732799\n",
            "28      three    145    0.713126\n",
            "29       2008    144    0.708208\n",
            "**************************************************************************\n",
            "B-org\n",
            "**************************************************************************\n",
            "             Word  count  percentage\n",
            "0            U.S.    847    4.204935\n",
            "1          United    728    3.614159\n",
            "2            U.N.    547    2.715584\n",
            "3         Taleban    542    2.690761\n",
            "4            NATO    471    2.338281\n",
            "5        European    448    2.224098\n",
            "6        al-Qaida    397    1.970908\n",
            "7           Hamas    375    1.861689\n",
            "8              EU    366    1.817008\n",
            "9           White    272    1.350345\n",
            "10            The    268    1.330487\n",
            "11        Taliban    258    1.280842\n",
            "12          State    245    1.216303\n",
            "13            VOA    236    1.171623\n",
            "14          World    223    1.107084\n",
            "15  International    215    1.067368\n",
            "16           West    214    1.062404\n",
            "17       National    203    1.007794\n",
            "18       Congress    172    0.853895\n",
            "19            New    164    0.814179\n",
            "20        General    152    0.754605\n",
            "21         Muslim    130    0.645385\n",
            "22      Hezbollah    127    0.630492\n",
            "23         Xinhua    124    0.615598\n",
            "24         Senate    114    0.565953\n",
            "25         Turkey    112    0.556024\n",
            "26             US    112    0.556024\n",
            "27        Supreme    109    0.541131\n",
            "28         Tehran    106    0.526237\n",
            "29            CIA     98    0.486521\n",
            "**************************************************************************\n",
            "I-per\n",
            "**************************************************************************\n",
            "           Word  count  percentage\n",
            "0          Bush    820    4.753348\n",
            "1      Minister    468    2.712886\n",
            "2        Chavez    349    2.023071\n",
            "3         Abbas    233    1.350646\n",
            "4         Obama    168    0.973857\n",
            "5       Mahmoud    163    0.944873\n",
            "6         Annan    162    0.939076\n",
            "7          Rice    158    0.915889\n",
            "8        Sharon    152    0.881108\n",
            "9        Karzai    140    0.811547\n",
            "10         Hugo    136    0.788360\n",
            "11        Putin    130    0.753580\n",
            "12    Musharraf    125    0.724596\n",
            "13       Castro    123    0.713002\n",
            "14        Blair    121    0.701409\n",
            "15  Ahmadinejad    109    0.631847\n",
            "16        Hamid     96    0.556489\n",
            "17      Hussein     91    0.527506\n",
            "18   Yushchenko     90    0.521709\n",
            "19      Clinton     82    0.475335\n",
            "20        Laden     81    0.469538\n",
            "21           Hu     79    0.457944\n",
            "22       Pervez     79    0.457944\n",
            "23         Paul     78    0.452148\n",
            "24      Mubarak     76    0.440554\n",
            "25     Vladimir     74    0.428961\n",
            "26          bin     74    0.428961\n",
            "27       Hariri     73    0.423164\n",
            "28       Olmert     71    0.411570\n",
            "29        Singh     70    0.405774\n",
            "**************************************************************************\n",
            "B-per\n",
            "**************************************************************************\n",
            "           Word  count  percentage\n",
            "0           Mr.   3085   18.157740\n",
            "1     President   2411   14.190700\n",
            "2         Prime    783    4.608593\n",
            "3      Minister    197    1.159506\n",
            "4           Ms.    176    1.035903\n",
            "5          John    160    0.941730\n",
            "6       General    139    0.818128\n",
            "7        Saddam    119    0.700412\n",
            "8     Secretary     98    0.576810\n",
            "9       Senator     93    0.547381\n",
            "10  Condoleezza     89    0.523838\n",
            "11         Kofi     78    0.459094\n",
            "12        Obama     76    0.447322\n",
            "13        prime     76    0.447322\n",
            "14        Sunni     74    0.435550\n",
            "15         King     70    0.412007\n",
            "16          Ali     66    0.388464\n",
            "17      Mahmoud     66    0.388464\n",
            "18        Osama     65    0.382578\n",
            "19         Bush     64    0.376692\n",
            "20          Sri     63    0.370806\n",
            "21         Vice     62    0.364921\n",
            "22      Michael     60    0.353149\n",
            "23          Abu     50    0.294291\n",
            "24       Viktor     49    0.288405\n",
            "25     Mohammed     49    0.288405\n",
            "26         Paul     48    0.282519\n",
            "27         Tony     47    0.276633\n",
            "28      Western     45    0.264862\n",
            "29         Pope     44    0.258976\n",
            "**************************************************************************\n",
            "I-org\n",
            "**************************************************************************\n",
            "                 Word  count  percentage\n",
            "0             Nations    596    3.551001\n",
            "1                  of    491    2.925405\n",
            "2                 and    475    2.830076\n",
            "3               Union    440    2.621544\n",
            "4             Council    364    2.168732\n",
            "5            Security    312    1.858913\n",
            "6          Department    311    1.852955\n",
            "7                  's    310    1.846997\n",
            "8               House    309    1.841039\n",
            "9            Ministry    294    1.751668\n",
            "10               Bank    293    1.745710\n",
            "11             Agency    214    1.275024\n",
            "12              Court    208    1.239276\n",
            "13              Party    204    1.215443\n",
            "14       Organization    187    1.114156\n",
            "15                for    182    1.084366\n",
            "16             Health    139    0.828170\n",
            "17             Energy    118    0.703051\n",
            "18              Press    116    0.691134\n",
            "19      International    107    0.637512\n",
            "20              State    106    0.631554\n",
            "21             States    105    0.625596\n",
            "22               Army    101    0.601764\n",
            "23             Rights     97    0.577931\n",
            "24         Commission     94    0.560057\n",
            "25           National     91    0.542183\n",
            "26                  ,     88    0.524309\n",
            "27             Atomic     85    0.506435\n",
            "28  Secretary-General     80    0.476644\n",
            "29               York     79    0.470686\n",
            "**************************************************************************\n",
            "B-gpe\n",
            "**************************************************************************\n",
            "            Word  count  percentage\n",
            "0          Iraqi   1137    7.164461\n",
            "1    Palestinian    988    6.225583\n",
            "2        Israeli    987    6.219282\n",
            "3         Afghan    814    5.129175\n",
            "4        British    568    3.579080\n",
            "5       American    539    3.396345\n",
            "6        Russian    518    3.264020\n",
            "7      Pakistani    466    2.936358\n",
            "8        Chinese    453    2.854442\n",
            "9        Iranian    380    2.394455\n",
            "10        French    379    2.388154\n",
            "11        Indian    276    1.739130\n",
            "12        Korean    257    1.619408\n",
            "13       African    254    1.600504\n",
            "14    Venezuelan    241    1.518589\n",
            "15  Palestinians    228    1.436673\n",
            "16       Turkish    215    1.354757\n",
            "17      Lebanese    211    1.329553\n",
            "18      Japanese    201    1.266541\n",
            "19     Americans    193    1.216131\n",
            "20        German    191    1.203529\n",
            "21        Syrian    175    1.102710\n",
            "22      Egyptian    167    1.052300\n",
            "23         Cuban    149    0.938878\n",
            "24      Sudanese    145    0.913674\n",
            "25        Somali    142    0.894770\n",
            "26         Nepal    131    0.825457\n",
            "27        Iraqis    127    0.800252\n",
            "28          Arab    122    0.768746\n",
            "29       Spanish    117    0.737240\n",
            "**************************************************************************\n",
            "I-geo\n",
            "**************************************************************************\n",
            "           Word  count  percentage\n",
            "0        States   1255   16.927435\n",
            "1         Korea    477    6.433774\n",
            "2         Strip    195    2.630159\n",
            "3          York    185    2.495279\n",
            "4            of    184    2.481791\n",
            "5          East    181    2.441327\n",
            "6        Africa    177    2.387375\n",
            "7          City    144    1.942271\n",
            "8         Union    120    1.618559\n",
            "9   Afghanistan    114    1.537632\n",
            "10        Coast    108    1.456704\n",
            "11     Republic    106    1.429728\n",
            "12         Kong     96    1.294848\n",
            "13        Ocean     88    1.186944\n",
            "14      America     85    1.146480\n",
            "15   Waziristan     79    1.065552\n",
            "16         Asia     79    1.065552\n",
            "17      Orleans     75    1.011600\n",
            "18        Delhi     65    0.876720\n",
            "19       Arabia     62    0.836256\n",
            "20          Bay     61    0.822768\n",
            "21         Gulf     61    0.822768\n",
            "22         Iraq     59    0.795792\n",
            "23        Congo     55    0.741840\n",
            "24          Sea     46    0.620448\n",
            "25        River     45    0.606960\n",
            "26          San     43    0.579984\n",
            "27          Kyi     39    0.526032\n",
            "28       Mexico     39    0.526032\n",
            "29          Suu     38    0.512544\n",
            "**************************************************************************\n",
            "I-tim\n",
            "**************************************************************************\n",
            "       Word  count  percentage\n",
            "0        of    381    5.836397\n",
            "1       and    199    3.048407\n",
            "2         -    184    2.818627\n",
            "3         ,    174    2.665441\n",
            "4      2003    154    2.359069\n",
            "5   century    120    1.838235\n",
            "6        11    100    1.531863\n",
            "7        to    100    1.531863\n",
            "8      2004     92    1.409314\n",
            "9      2008     92    1.409314\n",
            "10     2007     90    1.378676\n",
            "11    night     85    1.302083\n",
            "12       30     84    1.286765\n",
            "13     2001     83    1.271446\n",
            "14      two     81    1.240809\n",
            "15       10     81    1.240809\n",
            "16      day     73    1.118260\n",
            "17       15     72    1.102941\n",
            "18        7     68    1.041667\n",
            "19   Sunday     65    0.995711\n",
            "20     2009     63    0.965074\n",
            "21     2006     62    0.949755\n",
            "22     2010     61    0.934436\n",
            "23  morning     60    0.919118\n",
            "24       in     60    0.919118\n",
            "25      Day     60    0.919118\n",
            "26        8     60    0.919118\n",
            "27     2005     60    0.919118\n",
            "28        9     59    0.903799\n",
            "29       26     57    0.873162\n",
            "**************************************************************************\n",
            "B-art\n",
            "**************************************************************************\n",
            "             Word  count  percentage\n",
            "0         English     12    2.985075\n",
            "1        Facebook     10    2.487562\n",
            "2         Twitter      9    2.238806\n",
            "3           Nobel      7    1.741294\n",
            "4             GDP      7    1.741294\n",
            "5             The      6    1.492537\n",
            "6         Phoenix      6    1.492537\n",
            "7           Canal      5    1.243781\n",
            "8      al-Jazeera      5    1.243781\n",
            "9           Vioxx      4    0.995025\n",
            "10          Islam      4    0.995025\n",
            "11           Camp      4    0.995025\n",
            "12         Google      4    0.995025\n",
            "13         Boeing      4    0.995025\n",
            "14  International      4    0.995025\n",
            "15         Please      4    0.995025\n",
            "16         Hubble      4    0.995025\n",
            "17         French      3    0.746269\n",
            "18        Spanish      3    0.746269\n",
            "19         Forbes      3    0.746269\n",
            "20     Washington      3    0.746269\n",
            "21            Abu      3    0.746269\n",
            "22         Arabic      3    0.746269\n",
            "23   SpaceShipOne      3    0.746269\n",
            "24            Web      3    0.746269\n",
            "25     Nevirapine      3    0.746269\n",
            "26        Beijing      2    0.497512\n",
            "27            Los      2    0.497512\n",
            "28       National      2    0.497512\n",
            "29      Emergency      2    0.497512\n",
            "**************************************************************************\n",
            "B-eve\n",
            "**************************************************************************\n",
            "          Word  count  percentage\n",
            "0           II     70   22.727273\n",
            "1        World     43   13.961039\n",
            "2   Australian     13    4.220779\n",
            "3            I     10    3.246753\n",
            "4    Hurricane      9    2.922078\n",
            "5      Olympic      9    2.922078\n",
            "6    Christmas      8    2.597403\n",
            "7      Ramadan      7    2.272727\n",
            "8       Summer      6    1.948052\n",
            "9        Grand      5    1.623377\n",
            "10        Mass      4    1.298701\n",
            "11   Operation      4    1.298701\n",
            "12      Korean      4    1.298701\n",
            "13    Olympics      3    0.974026\n",
            "14     Typhoon      3    0.974026\n",
            "15       Wilma      3    0.974026\n",
            "16     Beijing      3    0.974026\n",
            "17   Holocaust      3    0.974026\n",
            "18         New      3    0.974026\n",
            "19       Games      3    0.974026\n",
            "20       Paris      3    0.974026\n",
            "21      Hopman      3    0.974026\n",
            "22    National      3    0.974026\n",
            "23    Tropical      2    0.649351\n",
            "24    Homeless      2    0.649351\n",
            "25       Tiger      2    0.649351\n",
            "26       Mardi      2    0.649351\n",
            "27        Cold      2    0.649351\n",
            "28     Katrina      2    0.649351\n",
            "29        Kids      2    0.649351\n",
            "**************************************************************************\n",
            "I-art\n",
            "**************************************************************************\n",
            "         Word  count  percentage\n",
            "0          of      6    2.020202\n",
            "1     Station      5    1.683502\n",
            "2       Space      5    1.683502\n",
            "3       David      4    1.346801\n",
            "4          de      4    1.346801\n",
            "5         Act      4    1.346801\n",
            "6           A      4    1.346801\n",
            "7   Agreement      3    1.010101\n",
            "8          's      3    1.010101\n",
            "9       Prize      3    1.010101\n",
            "10     Ghraib      3    1.010101\n",
            "11       That      3    1.010101\n",
            "12    Airport      3    1.010101\n",
            "13      Award      3    1.010101\n",
            "14     Lander      2    0.673401\n",
            "15          I      2    0.673401\n",
            "16        And      2    0.673401\n",
            "17    Stadium      2    0.673401\n",
            "18    Angeles      2    0.673401\n",
            "19       Post      2    0.673401\n",
            "20      Times      2    0.673401\n",
            "21        Law      2    0.673401\n",
            "22   Monument      2    0.673401\n",
            "23        Zoo      2    0.673401\n",
            "24      Trade      2    0.673401\n",
            "25       News      2    0.673401\n",
            "26          a      2    0.673401\n",
            "27       Hill      2    0.673401\n",
            "28        War      2    0.673401\n",
            "29      House      2    0.673401\n",
            "**************************************************************************\n",
            "I-eve\n",
            "**************************************************************************\n",
            "             Word  count  percentage\n",
            "0             War     38   15.019763\n",
            "1            Open     19    7.509881\n",
            "2               I     17    6.719368\n",
            "3             Cup     16    6.324111\n",
            "4             Day     15    5.928854\n",
            "5              II     14    5.533597\n",
            "6           Games     12    4.743083\n",
            "7         Katrina      6    2.371542\n",
            "8        Olympics      5    1.976285\n",
            "9            Slam      5    1.976285\n",
            "10     Conference      4    1.581028\n",
            "11             of      3    1.185771\n",
            "12            Eve      3    1.185771\n",
            "13           Year      3    1.185771\n",
            "14        Masters      3    1.185771\n",
            "15         Series      3    1.185771\n",
            "16  International      3    1.185771\n",
            "17          World      2    0.790514\n",
            "18         Rights      2    0.790514\n",
            "19         Awards      2    0.790514\n",
            "20          Peace      2    0.790514\n",
            "21       Longwang      2    0.790514\n",
            "22           Gras      2    0.790514\n",
            "23             's      2    0.790514\n",
            "24  Championships      2    0.790514\n",
            "25           Wars      2    0.790514\n",
            "26              '      2    0.790514\n",
            "27        Classic      2    0.790514\n",
            "28          Storm      2    0.790514\n",
            "29        Olympic      2    0.790514\n",
            "**************************************************************************\n",
            "B-nat\n",
            "**************************************************************************\n",
            "          Word  count  percentage\n",
            "0      Katrina     47   23.383085\n",
            "1         H5N1     33   16.417910\n",
            "2    Hurricane     20    9.950249\n",
            "3      Marburg     19    9.452736\n",
            "4         AIDS     15    7.462687\n",
            "5         Rita     13    6.467662\n",
            "6   Hurricanes      6    2.985075\n",
            "7          HIV      5    2.487562\n",
            "8        Wilma      3    1.492537\n",
            "9         Paul      3    1.492537\n",
            "10    Tropical      3    1.492537\n",
            "11        Type      2    0.995025\n",
            "12       Avian      2    0.995025\n",
            "13       Ebola      2    0.995025\n",
            "14        Jing      2    0.995025\n",
            "15         ACC      2    0.995025\n",
            "16        H5N2      2    0.995025\n",
            "17       heart      1    0.497512\n",
            "18    Danielle      1    0.497512\n",
            "19   Antarctic      1    0.497512\n",
            "20        2007      1    0.497512\n",
            "21         XDR      1    0.497512\n",
            "22          TB      1    0.497512\n",
            "23       HER-2      1    0.497512\n",
            "24        SARS      1    0.497512\n",
            "25      Severe      1    0.497512\n",
            "26         flu      1    0.497512\n",
            "27   influenza      1    0.497512\n",
            "28    leukemia      1    0.497512\n",
            "29        Bird      1    0.497512\n",
            "**************************************************************************\n",
            "I-gpe\n",
            "**************************************************************************\n",
            "        Word  count  percentage\n",
            "0       Serb     53   26.767677\n",
            "1    Cypriot     21   10.606061\n",
            "2   Cypriots     16    8.080808\n",
            "3     States     14    7.070707\n",
            "4      Korea     11    5.555556\n",
            "5      Serbs      8    4.040404\n",
            "6   Republic      4    2.020202\n",
            "7   d'Ivoire      4    2.020202\n",
            "8    Orleans      4    2.020202\n",
            "9    African      4    2.020202\n",
            "10  American      4    2.020202\n",
            "11     Lanka      4    2.020202\n",
            "12     Croat      3    1.515152\n",
            "13        of      3    1.515152\n",
            "14      City      3    1.515152\n",
            "15    Lankan      3    1.515152\n",
            "16   Angeles      2    1.010101\n",
            "17    Arabia      2    1.010101\n",
            "18      Arab      2    1.010101\n",
            "19   Indians      2    1.010101\n",
            "20     Sikhs      2    1.010101\n",
            "21    Korean      2    1.010101\n",
            "22      York      2    1.010101\n",
            "23      Rica      2    1.010101\n",
            "24     Leone      1    0.505051\n",
            "25     Congo      1    0.505051\n",
            "26   Koreans      1    0.505051\n",
            "27     Rican      1    0.505051\n",
            "28   Muscovy      1    0.505051\n",
            "29      Binh      1    0.505051\n",
            "**************************************************************************\n",
            "I-nat\n",
            "**************************************************************************\n",
            "           Word  count  percentage\n",
            "0       Katrina     19   37.254902\n",
            "1          Rita     10   19.607843\n",
            "2         Storm      3    5.882353\n",
            "3          Jing      2    3.921569\n",
            "4           Flu      2    3.921569\n",
            "5       superba      1    1.960784\n",
            "6   Circumpolar      1    1.960784\n",
            "7           WD5      1    1.960784\n",
            "8            TB      1    1.960784\n",
            "9          suis      1    1.960784\n",
            "10  eleginoides      1    1.960784\n",
            "11     diabetes      1    1.960784\n",
            "12          One      1    1.960784\n",
            "13        Acute      1    1.960784\n",
            "14          Two      1    1.960784\n",
            "15      disease      1    1.960784\n",
            "16          flu      1    1.960784\n",
            "17     Syndrome      1    1.960784\n",
            "18  Respiratory      1    1.960784\n",
            "19      Current      1    1.960784\n",
            "**************************************************************************\n"
          ]
        }
      ]
    },
    {
      "cell_type": "code",
      "source": [
        "### Distribution of word accross multiple tags\n",
        "data.groupby(['Word']).agg({'Tag':'nunique'}).reset_index(drop=False).sort_values(by='Tag',ascending=False)[:30]"
      ],
      "metadata": {
        "colab": {
          "base_uri": "https://localhost:8080/",
          "height": 990
        },
        "id": "58OOwoKr3UHh",
        "outputId": "7a309e0b-7833-428c-f792-bc98706e7e20"
      },
      "execution_count": 12,
      "outputs": [
        {
          "output_type": "execute_result",
          "data": {
            "text/plain": [
              "                Word  Tag\n",
              "27699             of   11\n",
              "11256            New   10\n",
              "22                 -   10\n",
              "11612       Olympics   10\n",
              "11839       Pakistan   10\n",
              "5853           Egypt    9\n",
              "8880         Katrina    9\n",
              "12012          Peace    9\n",
              "10909         Muslim    9\n",
              "4658       Christmas    9\n",
              "1                  \"    9\n",
              "11143       National    9\n",
              "14431          State    9\n",
              "8249         Islamic    9\n",
              "2893            Arab    9\n",
              "15765      Venezuela    9\n",
              "8163   International    9\n",
              "8247       Islamabad    8\n",
              "15997            War    8\n",
              "2351         African    8\n",
              "15359         Turkey    8\n",
              "16137          Wilma    8\n",
              "6324           Fatah    8\n",
              "8862         Kashmir    8\n",
              "8246           Islam    8\n",
              "16201          World    8\n",
              "12527      Pyongyang    8\n",
              "10756         Moscow    8\n",
              "2347     Afghanistan    8\n",
              "3308         Baghdad    8"
            ],
            "text/html": [
              "\n",
              "  <div id=\"df-379b774b-4566-4f28-baf0-2bd8673b727b\" class=\"colab-df-container\">\n",
              "    <div>\n",
              "<style scoped>\n",
              "    .dataframe tbody tr th:only-of-type {\n",
              "        vertical-align: middle;\n",
              "    }\n",
              "\n",
              "    .dataframe tbody tr th {\n",
              "        vertical-align: top;\n",
              "    }\n",
              "\n",
              "    .dataframe thead th {\n",
              "        text-align: right;\n",
              "    }\n",
              "</style>\n",
              "<table border=\"1\" class=\"dataframe\">\n",
              "  <thead>\n",
              "    <tr style=\"text-align: right;\">\n",
              "      <th></th>\n",
              "      <th>Word</th>\n",
              "      <th>Tag</th>\n",
              "    </tr>\n",
              "  </thead>\n",
              "  <tbody>\n",
              "    <tr>\n",
              "      <th>27699</th>\n",
              "      <td>of</td>\n",
              "      <td>11</td>\n",
              "    </tr>\n",
              "    <tr>\n",
              "      <th>11256</th>\n",
              "      <td>New</td>\n",
              "      <td>10</td>\n",
              "    </tr>\n",
              "    <tr>\n",
              "      <th>22</th>\n",
              "      <td>-</td>\n",
              "      <td>10</td>\n",
              "    </tr>\n",
              "    <tr>\n",
              "      <th>11612</th>\n",
              "      <td>Olympics</td>\n",
              "      <td>10</td>\n",
              "    </tr>\n",
              "    <tr>\n",
              "      <th>11839</th>\n",
              "      <td>Pakistan</td>\n",
              "      <td>10</td>\n",
              "    </tr>\n",
              "    <tr>\n",
              "      <th>5853</th>\n",
              "      <td>Egypt</td>\n",
              "      <td>9</td>\n",
              "    </tr>\n",
              "    <tr>\n",
              "      <th>8880</th>\n",
              "      <td>Katrina</td>\n",
              "      <td>9</td>\n",
              "    </tr>\n",
              "    <tr>\n",
              "      <th>12012</th>\n",
              "      <td>Peace</td>\n",
              "      <td>9</td>\n",
              "    </tr>\n",
              "    <tr>\n",
              "      <th>10909</th>\n",
              "      <td>Muslim</td>\n",
              "      <td>9</td>\n",
              "    </tr>\n",
              "    <tr>\n",
              "      <th>4658</th>\n",
              "      <td>Christmas</td>\n",
              "      <td>9</td>\n",
              "    </tr>\n",
              "    <tr>\n",
              "      <th>1</th>\n",
              "      <td>\"</td>\n",
              "      <td>9</td>\n",
              "    </tr>\n",
              "    <tr>\n",
              "      <th>11143</th>\n",
              "      <td>National</td>\n",
              "      <td>9</td>\n",
              "    </tr>\n",
              "    <tr>\n",
              "      <th>14431</th>\n",
              "      <td>State</td>\n",
              "      <td>9</td>\n",
              "    </tr>\n",
              "    <tr>\n",
              "      <th>8249</th>\n",
              "      <td>Islamic</td>\n",
              "      <td>9</td>\n",
              "    </tr>\n",
              "    <tr>\n",
              "      <th>2893</th>\n",
              "      <td>Arab</td>\n",
              "      <td>9</td>\n",
              "    </tr>\n",
              "    <tr>\n",
              "      <th>15765</th>\n",
              "      <td>Venezuela</td>\n",
              "      <td>9</td>\n",
              "    </tr>\n",
              "    <tr>\n",
              "      <th>8163</th>\n",
              "      <td>International</td>\n",
              "      <td>9</td>\n",
              "    </tr>\n",
              "    <tr>\n",
              "      <th>8247</th>\n",
              "      <td>Islamabad</td>\n",
              "      <td>8</td>\n",
              "    </tr>\n",
              "    <tr>\n",
              "      <th>15997</th>\n",
              "      <td>War</td>\n",
              "      <td>8</td>\n",
              "    </tr>\n",
              "    <tr>\n",
              "      <th>2351</th>\n",
              "      <td>African</td>\n",
              "      <td>8</td>\n",
              "    </tr>\n",
              "    <tr>\n",
              "      <th>15359</th>\n",
              "      <td>Turkey</td>\n",
              "      <td>8</td>\n",
              "    </tr>\n",
              "    <tr>\n",
              "      <th>16137</th>\n",
              "      <td>Wilma</td>\n",
              "      <td>8</td>\n",
              "    </tr>\n",
              "    <tr>\n",
              "      <th>6324</th>\n",
              "      <td>Fatah</td>\n",
              "      <td>8</td>\n",
              "    </tr>\n",
              "    <tr>\n",
              "      <th>8862</th>\n",
              "      <td>Kashmir</td>\n",
              "      <td>8</td>\n",
              "    </tr>\n",
              "    <tr>\n",
              "      <th>8246</th>\n",
              "      <td>Islam</td>\n",
              "      <td>8</td>\n",
              "    </tr>\n",
              "    <tr>\n",
              "      <th>16201</th>\n",
              "      <td>World</td>\n",
              "      <td>8</td>\n",
              "    </tr>\n",
              "    <tr>\n",
              "      <th>12527</th>\n",
              "      <td>Pyongyang</td>\n",
              "      <td>8</td>\n",
              "    </tr>\n",
              "    <tr>\n",
              "      <th>10756</th>\n",
              "      <td>Moscow</td>\n",
              "      <td>8</td>\n",
              "    </tr>\n",
              "    <tr>\n",
              "      <th>2347</th>\n",
              "      <td>Afghanistan</td>\n",
              "      <td>8</td>\n",
              "    </tr>\n",
              "    <tr>\n",
              "      <th>3308</th>\n",
              "      <td>Baghdad</td>\n",
              "      <td>8</td>\n",
              "    </tr>\n",
              "  </tbody>\n",
              "</table>\n",
              "</div>\n",
              "    <div class=\"colab-df-buttons\">\n",
              "\n",
              "  <div class=\"colab-df-container\">\n",
              "    <button class=\"colab-df-convert\" onclick=\"convertToInteractive('df-379b774b-4566-4f28-baf0-2bd8673b727b')\"\n",
              "            title=\"Convert this dataframe to an interactive table.\"\n",
              "            style=\"display:none;\">\n",
              "\n",
              "  <svg xmlns=\"http://www.w3.org/2000/svg\" height=\"24px\" viewBox=\"0 -960 960 960\">\n",
              "    <path d=\"M120-120v-720h720v720H120Zm60-500h600v-160H180v160Zm220 220h160v-160H400v160Zm0 220h160v-160H400v160ZM180-400h160v-160H180v160Zm440 0h160v-160H620v160ZM180-180h160v-160H180v160Zm440 0h160v-160H620v160Z\"/>\n",
              "  </svg>\n",
              "    </button>\n",
              "\n",
              "  <style>\n",
              "    .colab-df-container {\n",
              "      display:flex;\n",
              "      gap: 12px;\n",
              "    }\n",
              "\n",
              "    .colab-df-convert {\n",
              "      background-color: #E8F0FE;\n",
              "      border: none;\n",
              "      border-radius: 50%;\n",
              "      cursor: pointer;\n",
              "      display: none;\n",
              "      fill: #1967D2;\n",
              "      height: 32px;\n",
              "      padding: 0 0 0 0;\n",
              "      width: 32px;\n",
              "    }\n",
              "\n",
              "    .colab-df-convert:hover {\n",
              "      background-color: #E2EBFA;\n",
              "      box-shadow: 0px 1px 2px rgba(60, 64, 67, 0.3), 0px 1px 3px 1px rgba(60, 64, 67, 0.15);\n",
              "      fill: #174EA6;\n",
              "    }\n",
              "\n",
              "    .colab-df-buttons div {\n",
              "      margin-bottom: 4px;\n",
              "    }\n",
              "\n",
              "    [theme=dark] .colab-df-convert {\n",
              "      background-color: #3B4455;\n",
              "      fill: #D2E3FC;\n",
              "    }\n",
              "\n",
              "    [theme=dark] .colab-df-convert:hover {\n",
              "      background-color: #434B5C;\n",
              "      box-shadow: 0px 1px 3px 1px rgba(0, 0, 0, 0.15);\n",
              "      filter: drop-shadow(0px 1px 2px rgba(0, 0, 0, 0.3));\n",
              "      fill: #FFFFFF;\n",
              "    }\n",
              "  </style>\n",
              "\n",
              "    <script>\n",
              "      const buttonEl =\n",
              "        document.querySelector('#df-379b774b-4566-4f28-baf0-2bd8673b727b button.colab-df-convert');\n",
              "      buttonEl.style.display =\n",
              "        google.colab.kernel.accessAllowed ? 'block' : 'none';\n",
              "\n",
              "      async function convertToInteractive(key) {\n",
              "        const element = document.querySelector('#df-379b774b-4566-4f28-baf0-2bd8673b727b');\n",
              "        const dataTable =\n",
              "          await google.colab.kernel.invokeFunction('convertToInteractive',\n",
              "                                                    [key], {});\n",
              "        if (!dataTable) return;\n",
              "\n",
              "        const docLinkHtml = 'Like what you see? Visit the ' +\n",
              "          '<a target=\"_blank\" href=https://colab.research.google.com/notebooks/data_table.ipynb>data table notebook</a>'\n",
              "          + ' to learn more about interactive tables.';\n",
              "        element.innerHTML = '';\n",
              "        dataTable['output_type'] = 'display_data';\n",
              "        await google.colab.output.renderOutput(dataTable, element);\n",
              "        const docLink = document.createElement('div');\n",
              "        docLink.innerHTML = docLinkHtml;\n",
              "        element.appendChild(docLink);\n",
              "      }\n",
              "    </script>\n",
              "  </div>\n",
              "\n",
              "\n",
              "<div id=\"df-66482a01-48fc-4582-a251-5a6707f116d7\">\n",
              "  <button class=\"colab-df-quickchart\" onclick=\"quickchart('df-66482a01-48fc-4582-a251-5a6707f116d7')\"\n",
              "            title=\"Suggest charts\"\n",
              "            style=\"display:none;\">\n",
              "\n",
              "<svg xmlns=\"http://www.w3.org/2000/svg\" height=\"24px\"viewBox=\"0 0 24 24\"\n",
              "     width=\"24px\">\n",
              "    <g>\n",
              "        <path d=\"M19 3H5c-1.1 0-2 .9-2 2v14c0 1.1.9 2 2 2h14c1.1 0 2-.9 2-2V5c0-1.1-.9-2-2-2zM9 17H7v-7h2v7zm4 0h-2V7h2v10zm4 0h-2v-4h2v4z\"/>\n",
              "    </g>\n",
              "</svg>\n",
              "  </button>\n",
              "\n",
              "<style>\n",
              "  .colab-df-quickchart {\n",
              "      --bg-color: #E8F0FE;\n",
              "      --fill-color: #1967D2;\n",
              "      --hover-bg-color: #E2EBFA;\n",
              "      --hover-fill-color: #174EA6;\n",
              "      --disabled-fill-color: #AAA;\n",
              "      --disabled-bg-color: #DDD;\n",
              "  }\n",
              "\n",
              "  [theme=dark] .colab-df-quickchart {\n",
              "      --bg-color: #3B4455;\n",
              "      --fill-color: #D2E3FC;\n",
              "      --hover-bg-color: #434B5C;\n",
              "      --hover-fill-color: #FFFFFF;\n",
              "      --disabled-bg-color: #3B4455;\n",
              "      --disabled-fill-color: #666;\n",
              "  }\n",
              "\n",
              "  .colab-df-quickchart {\n",
              "    background-color: var(--bg-color);\n",
              "    border: none;\n",
              "    border-radius: 50%;\n",
              "    cursor: pointer;\n",
              "    display: none;\n",
              "    fill: var(--fill-color);\n",
              "    height: 32px;\n",
              "    padding: 0;\n",
              "    width: 32px;\n",
              "  }\n",
              "\n",
              "  .colab-df-quickchart:hover {\n",
              "    background-color: var(--hover-bg-color);\n",
              "    box-shadow: 0 1px 2px rgba(60, 64, 67, 0.3), 0 1px 3px 1px rgba(60, 64, 67, 0.15);\n",
              "    fill: var(--button-hover-fill-color);\n",
              "  }\n",
              "\n",
              "  .colab-df-quickchart-complete:disabled,\n",
              "  .colab-df-quickchart-complete:disabled:hover {\n",
              "    background-color: var(--disabled-bg-color);\n",
              "    fill: var(--disabled-fill-color);\n",
              "    box-shadow: none;\n",
              "  }\n",
              "\n",
              "  .colab-df-spinner {\n",
              "    border: 2px solid var(--fill-color);\n",
              "    border-color: transparent;\n",
              "    border-bottom-color: var(--fill-color);\n",
              "    animation:\n",
              "      spin 1s steps(1) infinite;\n",
              "  }\n",
              "\n",
              "  @keyframes spin {\n",
              "    0% {\n",
              "      border-color: transparent;\n",
              "      border-bottom-color: var(--fill-color);\n",
              "      border-left-color: var(--fill-color);\n",
              "    }\n",
              "    20% {\n",
              "      border-color: transparent;\n",
              "      border-left-color: var(--fill-color);\n",
              "      border-top-color: var(--fill-color);\n",
              "    }\n",
              "    30% {\n",
              "      border-color: transparent;\n",
              "      border-left-color: var(--fill-color);\n",
              "      border-top-color: var(--fill-color);\n",
              "      border-right-color: var(--fill-color);\n",
              "    }\n",
              "    40% {\n",
              "      border-color: transparent;\n",
              "      border-right-color: var(--fill-color);\n",
              "      border-top-color: var(--fill-color);\n",
              "    }\n",
              "    60% {\n",
              "      border-color: transparent;\n",
              "      border-right-color: var(--fill-color);\n",
              "    }\n",
              "    80% {\n",
              "      border-color: transparent;\n",
              "      border-right-color: var(--fill-color);\n",
              "      border-bottom-color: var(--fill-color);\n",
              "    }\n",
              "    90% {\n",
              "      border-color: transparent;\n",
              "      border-bottom-color: var(--fill-color);\n",
              "    }\n",
              "  }\n",
              "</style>\n",
              "\n",
              "  <script>\n",
              "    async function quickchart(key) {\n",
              "      const quickchartButtonEl =\n",
              "        document.querySelector('#' + key + ' button');\n",
              "      quickchartButtonEl.disabled = true;  // To prevent multiple clicks.\n",
              "      quickchartButtonEl.classList.add('colab-df-spinner');\n",
              "      try {\n",
              "        const charts = await google.colab.kernel.invokeFunction(\n",
              "            'suggestCharts', [key], {});\n",
              "      } catch (error) {\n",
              "        console.error('Error during call to suggestCharts:', error);\n",
              "      }\n",
              "      quickchartButtonEl.classList.remove('colab-df-spinner');\n",
              "      quickchartButtonEl.classList.add('colab-df-quickchart-complete');\n",
              "    }\n",
              "    (() => {\n",
              "      let quickchartButtonEl =\n",
              "        document.querySelector('#df-66482a01-48fc-4582-a251-5a6707f116d7 button');\n",
              "      quickchartButtonEl.style.display =\n",
              "        google.colab.kernel.accessAllowed ? 'block' : 'none';\n",
              "    })();\n",
              "  </script>\n",
              "</div>\n",
              "\n",
              "    </div>\n",
              "  </div>\n"
            ],
            "application/vnd.google.colaboratory.intrinsic+json": {
              "type": "dataframe",
              "summary": "{\n  \"name\": \"data\",\n  \"rows\": 30,\n  \"fields\": [\n    {\n      \"column\": \"Word\",\n      \"properties\": {\n        \"dtype\": \"string\",\n        \"num_unique_values\": 30,\n        \"samples\": [\n          \"Moscow\",\n          \"Venezuela\",\n          \"Kashmir\"\n        ],\n        \"semantic_type\": \"\",\n        \"description\": \"\"\n      }\n    },\n    {\n      \"column\": \"Tag\",\n      \"properties\": {\n        \"dtype\": \"number\",\n        \"std\": 0,\n        \"min\": 8,\n        \"max\": 11,\n        \"num_unique_values\": 4,\n        \"samples\": [\n          10,\n          8,\n          11\n        ],\n        \"semantic_type\": \"\",\n        \"description\": \"\"\n      }\n    }\n  ]\n}"
            }
          },
          "metadata": {},
          "execution_count": 12
        }
      ]
    },
    {
      "cell_type": "code",
      "source": [
        "### Distribution of top 20 words where multiple tag is present\n",
        "for i in data.groupby(['Word']).agg({'Tag':'nunique'}).reset_index(drop=False).sort_values(by='Tag',ascending=False)['Word'][:20].values:\n",
        "    print(i)\n",
        "    print('**************************************************************************')\n",
        "    print(data[data.Word==i].drop_duplicates().reset_index(drop=True))\n",
        "    print('**************************************************************************')"
      ],
      "metadata": {
        "colab": {
          "base_uri": "https://localhost:8080/"
        },
        "id": "JyqnH6_K4GOH",
        "outputId": "3b826729-16b2-44c2-cb74-a4da47dc59ea"
      },
      "execution_count": 13,
      "outputs": [
        {
          "output_type": "stream",
          "name": "stdout",
          "text": [
            "of\n",
            "**************************************************************************\n",
            "   Word    Tag\n",
            "0    of      O\n",
            "1    of  I-org\n",
            "2    of  I-tim\n",
            "3    of  I-art\n",
            "4    of  I-gpe\n",
            "5    of  B-tim\n",
            "6    of  I-geo\n",
            "7    of  I-per\n",
            "8    of  B-geo\n",
            "9    of  I-eve\n",
            "10   of  B-org\n",
            "**************************************************************************\n",
            "New\n",
            "**************************************************************************\n",
            "  Word    Tag\n",
            "0  New  B-geo\n",
            "1  New  I-geo\n",
            "2  New  B-tim\n",
            "3  New  B-org\n",
            "4  New  I-org\n",
            "5  New  B-eve\n",
            "6  New      O\n",
            "7  New  B-gpe\n",
            "8  New  I-art\n",
            "9  New  I-tim\n",
            "**************************************************************************\n",
            "-\n",
            "**************************************************************************\n",
            "  Word    Tag\n",
            "0    -      O\n",
            "1    -  I-tim\n",
            "2    -  B-org\n",
            "3    -  I-geo\n",
            "4    -  I-org\n",
            "5    -  I-per\n",
            "6    -  B-tim\n",
            "7    -  B-geo\n",
            "8    -  B-per\n",
            "9    -  I-art\n",
            "**************************************************************************\n",
            "Olympics\n",
            "**************************************************************************\n",
            "       Word    Tag\n",
            "0  Olympics  I-eve\n",
            "1  Olympics  I-tim\n",
            "2  Olympics      O\n",
            "3  Olympics  I-geo\n",
            "4  Olympics  B-eve\n",
            "5  Olympics  B-geo\n",
            "6  Olympics  I-org\n",
            "7  Olympics  B-org\n",
            "8  Olympics  I-per\n",
            "9  Olympics  B-tim\n",
            "**************************************************************************\n",
            "Pakistan\n",
            "**************************************************************************\n",
            "       Word    Tag\n",
            "0  Pakistan  B-geo\n",
            "1  Pakistan  B-gpe\n",
            "2  Pakistan  I-org\n",
            "3  Pakistan  I-geo\n",
            "4  Pakistan  B-org\n",
            "5  Pakistan  I-tim\n",
            "6  Pakistan      O\n",
            "7  Pakistan  B-per\n",
            "8  Pakistan  I-per\n",
            "9  Pakistan  B-eve\n",
            "**************************************************************************\n",
            "Egypt\n",
            "**************************************************************************\n",
            "    Word    Tag\n",
            "0  Egypt  B-gpe\n",
            "1  Egypt  B-geo\n",
            "2  Egypt  B-org\n",
            "3  Egypt      O\n",
            "4  Egypt  I-geo\n",
            "5  Egypt  I-tim\n",
            "6  Egypt  I-org\n",
            "7  Egypt  B-per\n",
            "8  Egypt  B-tim\n",
            "**************************************************************************\n",
            "Katrina\n",
            "**************************************************************************\n",
            "      Word    Tag\n",
            "0  Katrina  I-nat\n",
            "1  Katrina  B-nat\n",
            "2  Katrina  I-eve\n",
            "3  Katrina  B-eve\n",
            "4  Katrina      O\n",
            "5  Katrina  B-geo\n",
            "6  Katrina  B-tim\n",
            "7  Katrina  I-org\n",
            "8  Katrina  I-tim\n",
            "**************************************************************************\n",
            "Peace\n",
            "**************************************************************************\n",
            "    Word    Tag\n",
            "0  Peace      O\n",
            "1  Peace  B-org\n",
            "2  Peace  I-org\n",
            "3  Peace  I-eve\n",
            "4  Peace  I-tim\n",
            "5  Peace  B-eve\n",
            "6  Peace  I-art\n",
            "7  Peace  I-geo\n",
            "8  Peace  B-geo\n",
            "**************************************************************************\n",
            "Muslim\n",
            "**************************************************************************\n",
            "     Word    Tag\n",
            "0  Muslim  B-org\n",
            "1  Muslim      O\n",
            "2  Muslim  I-org\n",
            "3  Muslim  I-geo\n",
            "4  Muslim  B-per\n",
            "5  Muslim  B-tim\n",
            "6  Muslim  I-per\n",
            "7  Muslim  B-geo\n",
            "8  Muslim  I-tim\n",
            "**************************************************************************\n",
            "Christmas\n",
            "**************************************************************************\n",
            "        Word    Tag\n",
            "0  Christmas  B-eve\n",
            "1  Christmas  B-geo\n",
            "2  Christmas  I-tim\n",
            "3  Christmas  B-tim\n",
            "4  Christmas  I-geo\n",
            "5  Christmas      O\n",
            "6  Christmas  I-org\n",
            "7  Christmas  B-org\n",
            "8  Christmas  B-per\n",
            "**************************************************************************\n",
            "\"\n",
            "**************************************************************************\n",
            "  Word    Tag\n",
            "0    \"      O\n",
            "1    \"  I-geo\n",
            "2    \"  I-per\n",
            "3    \"  I-tim\n",
            "4    \"  I-org\n",
            "5    \"  B-tim\n",
            "6    \"  B-org\n",
            "7    \"  B-per\n",
            "8    \"  B-geo\n",
            "**************************************************************************\n",
            "National\n",
            "**************************************************************************\n",
            "       Word    Tag\n",
            "0  National  B-org\n",
            "1  National  B-per\n",
            "2  National  B-geo\n",
            "3  National  I-org\n",
            "4  National  I-geo\n",
            "5  National      O\n",
            "6  National  B-art\n",
            "7  National  B-eve\n",
            "8  National  I-per\n",
            "**************************************************************************\n",
            "State\n",
            "**************************************************************************\n",
            "    Word    Tag\n",
            "0  State  I-geo\n",
            "1  State  B-per\n",
            "2  State      O\n",
            "3  State  I-gpe\n",
            "4  State  B-org\n",
            "5  State  I-org\n",
            "6  State  I-per\n",
            "7  State  B-geo\n",
            "8  State  B-art\n",
            "**************************************************************************\n",
            "Islamic\n",
            "**************************************************************************\n",
            "      Word    Tag\n",
            "0  Islamic      O\n",
            "1  Islamic  B-org\n",
            "2  Islamic  I-org\n",
            "3  Islamic  B-gpe\n",
            "4  Islamic  B-geo\n",
            "5  Islamic  B-per\n",
            "6  Islamic  I-geo\n",
            "7  Islamic  I-tim\n",
            "8  Islamic  B-tim\n",
            "**************************************************************************\n",
            "Arab\n",
            "**************************************************************************\n",
            "   Word    Tag\n",
            "0  Arab  I-geo\n",
            "1  Arab  B-gpe\n",
            "2  Arab  I-gpe\n",
            "3  Arab  B-geo\n",
            "4  Arab      O\n",
            "5  Arab  I-org\n",
            "6  Arab  I-per\n",
            "7  Arab  B-org\n",
            "8  Arab  B-per\n",
            "**************************************************************************\n",
            "Venezuela\n",
            "**************************************************************************\n",
            "        Word    Tag\n",
            "0  Venezuela  B-gpe\n",
            "1  Venezuela  B-geo\n",
            "2  Venezuela  B-org\n",
            "3  Venezuela  I-org\n",
            "4  Venezuela  B-tim\n",
            "5  Venezuela  B-per\n",
            "6  Venezuela      O\n",
            "7  Venezuela  I-tim\n",
            "8  Venezuela  I-geo\n",
            "**************************************************************************\n",
            "International\n",
            "**************************************************************************\n",
            "            Word    Tag\n",
            "0  International  B-org\n",
            "1  International  I-org\n",
            "2  International  I-art\n",
            "3  International  I-eve\n",
            "4  International  B-art\n",
            "5  International      O\n",
            "6  International  I-geo\n",
            "7  International  B-geo\n",
            "8  International  B-eve\n",
            "**************************************************************************\n",
            "Islamabad\n",
            "**************************************************************************\n",
            "        Word    Tag\n",
            "0  Islamabad  B-geo\n",
            "1  Islamabad  B-org\n",
            "2  Islamabad  I-geo\n",
            "3  Islamabad  I-org\n",
            "4  Islamabad  B-tim\n",
            "5  Islamabad  B-per\n",
            "6  Islamabad      O\n",
            "7  Islamabad  I-tim\n",
            "**************************************************************************\n",
            "War\n",
            "**************************************************************************\n",
            "  Word    Tag\n",
            "0  War  I-eve\n",
            "1  War      O\n",
            "2  War  I-org\n",
            "3  War  B-tim\n",
            "4  War  I-tim\n",
            "5  War  I-art\n",
            "6  War  B-eve\n",
            "7  War  B-org\n",
            "**************************************************************************\n",
            "African\n",
            "**************************************************************************\n",
            "      Word    Tag\n",
            "0  African  B-org\n",
            "1  African  B-gpe\n",
            "2  African  I-gpe\n",
            "3  African  I-org\n",
            "4  African  B-geo\n",
            "5  African      O\n",
            "6  African  I-geo\n",
            "7  African  I-tim\n",
            "**************************************************************************\n"
          ]
        }
      ]
    },
    {
      "cell_type": "markdown",
      "source": [
        "### BASELINE MODEL - LINEAR AND TREE MODELS"
      ],
      "metadata": {
        "id": "nPgtaPvT3Kug"
      }
    },
    {
      "cell_type": "code",
      "source": [
        "from sklearn.model_selection import *\n",
        "from sklearn.metrics import *\n",
        "from sklearn.linear_model import *\n",
        "from sklearn.ensemble import *\n",
        "from sklearn.preprocessing import *\n",
        "from nltk.stem import WordNetLemmatizer"
      ],
      "metadata": {
        "id": "iW9r9bOp2D1W"
      },
      "execution_count": 14,
      "outputs": []
    },
    {
      "cell_type": "code",
      "source": [
        "import warnings\n",
        "warnings.filterwarnings('ignore')"
      ],
      "metadata": {
        "id": "1AJlLJ0Ozer6"
      },
      "execution_count": 15,
      "outputs": []
    },
    {
      "cell_type": "code",
      "source": [
        "### Drop the duplicates records as it won't be useful in learning any new information\n",
        "data = data.drop_duplicates().reset_index(drop=True)"
      ],
      "metadata": {
        "id": "vqzYkxFcqXBE"
      },
      "execution_count": 16,
      "outputs": []
    },
    {
      "cell_type": "code",
      "source": [
        "### Preprocess the data by converting it into lower caps\n",
        "data['Word'] = data['Word'].str.lower()"
      ],
      "metadata": {
        "id": "PgQIJJHB0fkh"
      },
      "execution_count": 17,
      "outputs": []
    },
    {
      "cell_type": "code",
      "source": [
        "### Special characters and stop words cannot be removed as some of them are associated with tags and we don't want to lose it"
      ],
      "metadata": {
        "id": "ztj-eURT0xS6"
      },
      "execution_count": 18,
      "outputs": []
    },
    {
      "cell_type": "code",
      "source": [
        "import nltk\n",
        "nltk.download('wordnet')"
      ],
      "metadata": {
        "colab": {
          "base_uri": "https://localhost:8080/"
        },
        "id": "DPYXwv1w2kUC",
        "outputId": "dea8c581-f128-4c1e-e560-5ddb0b5faa75"
      },
      "execution_count": 19,
      "outputs": [
        {
          "output_type": "stream",
          "name": "stderr",
          "text": [
            "[nltk_data] Downloading package wordnet to /root/nltk_data...\n"
          ]
        },
        {
          "output_type": "execute_result",
          "data": {
            "text/plain": [
              "True"
            ]
          },
          "metadata": {},
          "execution_count": 19
        }
      ]
    },
    {
      "cell_type": "code",
      "source": [
        "### Lemmatize the data\n",
        "lemmatizer = WordNetLemmatizer()\n",
        "data['Word'] = data['Word'].apply(lambda x: lemmatizer.lemmatize(x))"
      ],
      "metadata": {
        "id": "G4xcE4B_08jS"
      },
      "execution_count": 20,
      "outputs": []
    },
    {
      "cell_type": "code",
      "source": [
        "### One hot encode the words to convert it into numbers\n",
        "ohe = pd.get_dummies(data['Word'],prefix='Word')"
      ],
      "metadata": {
        "id": "0tmBcE5hv4Vh"
      },
      "execution_count": 21,
      "outputs": []
    },
    {
      "cell_type": "code",
      "source": [
        "### Concat the ohe record with the main data\n",
        "data = pd.concat([data,ohe],axis=1).drop_duplicates().reset_index(drop=True)"
      ],
      "metadata": {
        "id": "nIC-Tt6lv6JZ"
      },
      "execution_count": 22,
      "outputs": []
    },
    {
      "cell_type": "code",
      "source": [
        "data.shape"
      ],
      "metadata": {
        "colab": {
          "base_uri": "https://localhost:8080/"
        },
        "id": "wtOnKoXOwBAB",
        "outputId": "03d15c46-3f8c-4895-88ea-917d44fa5a28"
      },
      "execution_count": 23,
      "outputs": [
        {
          "output_type": "execute_result",
          "data": {
            "text/plain": [
              "(38631, 29007)"
            ]
          },
          "metadata": {},
          "execution_count": 23
        }
      ]
    },
    {
      "cell_type": "code",
      "source": [
        "### Split the dataset into train, test and validation set\n",
        "train, test = train_test_split(data.drop(columns=['Word']), test_size=0.3, random_state=10, stratify=data.Tag)\n",
        "test, val = train_test_split(test, test_size=0.3, random_state=11, stratify=test.Tag)"
      ],
      "metadata": {
        "id": "uYPG7sgZr4AV"
      },
      "execution_count": 25,
      "outputs": []
    },
    {
      "cell_type": "code",
      "source": [
        "print(\"Train data:\",train.shape, \"\\nTest data:\",test.shape, \"\\nValidation data:\",val.shape)"
      ],
      "metadata": {
        "colab": {
          "base_uri": "https://localhost:8080/"
        },
        "id": "qIlMeEyDskvN",
        "outputId": "ace9fbb9-5a44-439b-e2fe-4ac7e0a4c151"
      },
      "execution_count": 26,
      "outputs": [
        {
          "output_type": "stream",
          "name": "stdout",
          "text": [
            "Train data: (27041, 29006) \n",
            "Test data: (8113, 29006) \n",
            "Validation data: (3477, 29006)\n"
          ]
        }
      ]
    },
    {
      "cell_type": "code",
      "source": [
        "X_train, y_train = train.drop(columns=['Tag']), train.Tag\n",
        "X_test, y_test = test.drop(columns=['Tag']), test.Tag\n",
        "X_val, y_val = val.drop(columns=['Tag']), val.Tag"
      ],
      "metadata": {
        "id": "sfwPSDd2sojd"
      },
      "execution_count": 27,
      "outputs": []
    },
    {
      "cell_type": "code",
      "source": [
        "print(X_train.shape, y_train.shape)"
      ],
      "metadata": {
        "colab": {
          "base_uri": "https://localhost:8080/"
        },
        "id": "wIBm46YXtMhV",
        "outputId": "811272af-08fb-4d1a-8ed0-36592a5e2c5a"
      },
      "execution_count": 28,
      "outputs": [
        {
          "output_type": "stream",
          "name": "stdout",
          "text": [
            "(27041, 29005) (27041,)\n"
          ]
        }
      ]
    },
    {
      "cell_type": "code",
      "source": [
        "### Logistic Regression"
      ],
      "metadata": {
        "id": "O2hloTGoz-Fy"
      },
      "execution_count": 29,
      "outputs": []
    },
    {
      "cell_type": "code",
      "source": [
        "lr_model = LogisticRegression(C=0.3,max_iter=5,class_weight='balanced')\n",
        "lr_model1 = lr_model.fit(X_train,y_train)\n",
        "y_train_pred = lr_model1.predict(X_train)\n",
        "y_val_pred = lr_model1.predict(X_val)\n",
        "print(f1_score(y_train,y_train_pred,average='weighted'))\n",
        "print(f1_score(y_val,y_val_pred,average='weighted'))"
      ],
      "metadata": {
        "colab": {
          "base_uri": "https://localhost:8080/"
        },
        "id": "kn-tVb5rtmnN",
        "outputId": "e19f566b-6308-4b68-fa51-b006ab2dfb23"
      },
      "execution_count": 30,
      "outputs": [
        {
          "output_type": "stream",
          "name": "stdout",
          "text": [
            "0.05661021983882371\n",
            "0.00015456589546751726\n"
          ]
        }
      ]
    },
    {
      "cell_type": "code",
      "source": [
        "print(classification_report(y_train,lr_model1.predict(X_train)))"
      ],
      "metadata": {
        "colab": {
          "base_uri": "https://localhost:8080/"
        },
        "id": "030WjUQlzVQZ",
        "outputId": "80345074-7d31-4731-86d4-ff1117991c15"
      },
      "execution_count": 31,
      "outputs": [
        {
          "output_type": "stream",
          "name": "stdout",
          "text": [
            "              precision    recall  f1-score   support\n",
            "\n",
            "       B-art       0.42      0.90      0.57       193\n",
            "       B-eve       0.33      0.82      0.47        71\n",
            "       B-geo       0.00      0.00      0.00      2098\n",
            "       B-gpe       0.01      0.89      0.02       256\n",
            "       B-nat       0.41      1.00      0.58        27\n",
            "       B-org       0.00      0.00      0.00      2049\n",
            "       B-per       0.00      0.00      0.00      2094\n",
            "       B-tim       0.65      0.72      0.68       747\n",
            "       I-art       0.39      0.91      0.54       155\n",
            "       I-eve       0.30      0.98      0.46        57\n",
            "       I-geo       0.48      0.82      0.60       743\n",
            "       I-gpe       0.25      1.00      0.40        28\n",
            "       I-nat       0.41      1.00      0.58        13\n",
            "       I-org       0.00      0.00      0.00      2015\n",
            "       I-per       0.00      0.00      0.00      2767\n",
            "       I-tim       0.44      0.90      0.59       475\n",
            "           O       0.00      0.00      0.00     13253\n",
            "\n",
            "    accuracy                           0.08     27041\n",
            "   macro avg       0.24      0.58      0.32     27041\n",
            "weighted avg       0.05      0.08      0.06     27041\n",
            "\n"
          ]
        }
      ]
    },
    {
      "cell_type": "code",
      "source": [
        "print(classification_report(y_val,lr_model1.predict(X_val)))"
      ],
      "metadata": {
        "colab": {
          "base_uri": "https://localhost:8080/"
        },
        "id": "qCsrte27y23D",
        "outputId": "9fe98373-1f63-4cff-afee-ddc40a535635"
      },
      "execution_count": 32,
      "outputs": [
        {
          "output_type": "stream",
          "name": "stdout",
          "text": [
            "              precision    recall  f1-score   support\n",
            "\n",
            "       B-art       0.00      0.00      0.00        25\n",
            "       B-eve       0.00      0.00      0.00         9\n",
            "       B-geo       0.00      0.00      0.00       270\n",
            "       B-gpe       0.01      0.79      0.02        33\n",
            "       B-nat       0.00      0.00      0.00         3\n",
            "       B-org       0.00      0.00      0.00       263\n",
            "       B-per       0.00      0.00      0.00       269\n",
            "       B-tim       0.00      0.00      0.00        96\n",
            "       I-art       0.00      0.00      0.00        20\n",
            "       I-eve       0.00      0.00      0.00         8\n",
            "       I-geo       0.00      0.00      0.00        95\n",
            "       I-gpe       0.00      0.00      0.00         4\n",
            "       I-nat       0.00      0.00      0.00         2\n",
            "       I-org       0.00      0.00      0.00       259\n",
            "       I-per       0.00      0.00      0.00       356\n",
            "       I-tim       0.00      0.00      0.00        61\n",
            "           O       0.00      0.00      0.00      1704\n",
            "\n",
            "    accuracy                           0.01      3477\n",
            "   macro avg       0.00      0.05      0.00      3477\n",
            "weighted avg       0.00      0.01      0.00      3477\n",
            "\n"
          ]
        }
      ]
    },
    {
      "cell_type": "code",
      "source": [
        "print(classification_report(y_test,lr_model1.predict(X_test)))"
      ],
      "metadata": {
        "colab": {
          "base_uri": "https://localhost:8080/"
        },
        "id": "aLlHx-_FwjON",
        "outputId": "f00ced53-55f2-49e3-e9c0-dcb6012b399e"
      },
      "execution_count": 33,
      "outputs": [
        {
          "output_type": "stream",
          "name": "stdout",
          "text": [
            "              precision    recall  f1-score   support\n",
            "\n",
            "       B-art       0.00      0.00      0.00        58\n",
            "       B-eve       0.00      0.00      0.00        22\n",
            "       B-geo       0.00      0.00      0.00       630\n",
            "       B-gpe       0.01      0.66      0.01        77\n",
            "       B-nat       0.00      0.00      0.00         8\n",
            "       B-org       0.00      0.00      0.00       615\n",
            "       B-per       0.00      0.00      0.00       628\n",
            "       B-tim       0.00      0.00      0.00       224\n",
            "       I-art       0.00      0.00      0.00        47\n",
            "       I-eve       0.00      0.00      0.00        17\n",
            "       I-geo       0.00      0.00      0.00       223\n",
            "       I-gpe       0.00      0.00      0.00         8\n",
            "       I-nat       0.00      0.00      0.00         4\n",
            "       I-org       0.00      0.00      0.00       604\n",
            "       I-per       0.00      0.00      0.00       830\n",
            "       I-tim       0.00      0.00      0.00       142\n",
            "           O       0.00      0.00      0.00      3976\n",
            "\n",
            "    accuracy                           0.01      8113\n",
            "   macro avg       0.00      0.04      0.00      8113\n",
            "weighted avg       0.00      0.01      0.00      8113\n",
            "\n"
          ]
        }
      ]
    },
    {
      "cell_type": "code",
      "source": [
        "### Random forest model"
      ],
      "metadata": {
        "id": "mtImXE_ly48J"
      },
      "execution_count": 34,
      "outputs": []
    },
    {
      "cell_type": "code",
      "source": [
        "rf_model = RandomForestClassifier(n_jobs=-1, bootstrap=True, oob_score=True, random_state=5, class_weight='balanced',\n",
        "                                  n_estimators=100, max_depth=10, min_samples_split=10)\n",
        "rf_model1 = rf_model.fit(X_train,y_train)\n",
        "y_train_pred = rf_model1.predict(X_train)\n",
        "y_val_pred = rf_model1.predict(X_val)\n",
        "print(f1_score(y_train,y_train_pred,average='weighted'))\n",
        "print(f1_score(y_val,y_val_pred,average='weighted'))"
      ],
      "metadata": {
        "colab": {
          "base_uri": "https://localhost:8080/"
        },
        "id": "sUdU7QDG1rxP",
        "outputId": "1615f364-cd2a-4a7a-e744-5a09ec5d10e3"
      },
      "execution_count": 35,
      "outputs": [
        {
          "output_type": "stream",
          "name": "stdout",
          "text": [
            "0.03098117435218505\n",
            "0.011335298800703714\n"
          ]
        }
      ]
    },
    {
      "cell_type": "code",
      "source": [
        "print(classification_report(y_train,rf_model1.predict(X_train)))"
      ],
      "metadata": {
        "colab": {
          "base_uri": "https://localhost:8080/"
        },
        "id": "zH67Fv2j141_",
        "outputId": "c7d7ab09-0fec-4daf-ffdd-68a8bcf8c396"
      },
      "execution_count": 36,
      "outputs": [
        {
          "output_type": "stream",
          "name": "stdout",
          "text": [
            "              precision    recall  f1-score   support\n",
            "\n",
            "       B-art       0.40      0.51      0.45       193\n",
            "       B-eve       0.31      0.70      0.43        71\n",
            "       B-geo       0.00      0.00      0.00      2098\n",
            "       B-gpe       0.40      0.38      0.39       256\n",
            "       B-nat       0.41      0.96      0.58        27\n",
            "       B-org       0.00      0.00      0.00      2049\n",
            "       B-per       0.08      0.97      0.15      2094\n",
            "       B-tim       0.64      0.03      0.06       747\n",
            "       I-art       0.43      0.55      0.49       155\n",
            "       I-eve       0.30      0.93      0.45        57\n",
            "       I-geo       0.51      0.03      0.06       743\n",
            "       I-gpe       0.25      0.96      0.39        28\n",
            "       I-nat       0.41      1.00      0.58        13\n",
            "       I-org       0.00      0.00      0.00      2015\n",
            "       I-per       0.00      0.00      0.00      2767\n",
            "       I-tim       0.42      0.11      0.18       475\n",
            "           O       0.00      0.00      0.00     13253\n",
            "\n",
            "    accuracy                           0.10     27041\n",
            "   macro avg       0.27      0.42      0.25     27041\n",
            "weighted avg       0.06      0.10      0.03     27041\n",
            "\n"
          ]
        }
      ]
    },
    {
      "cell_type": "code",
      "source": [
        "print(classification_report(y_val,rf_model1.predict(X_val)))"
      ],
      "metadata": {
        "colab": {
          "base_uri": "https://localhost:8080/"
        },
        "id": "hDzLMDzW2As_",
        "outputId": "35443377-6268-4890-e1ff-f501d5a393fa"
      },
      "execution_count": 37,
      "outputs": [
        {
          "output_type": "stream",
          "name": "stdout",
          "text": [
            "              precision    recall  f1-score   support\n",
            "\n",
            "       B-art       0.00      0.00      0.00        25\n",
            "       B-eve       0.00      0.00      0.00         9\n",
            "       B-geo       0.00      0.00      0.00       270\n",
            "       B-gpe       0.00      0.00      0.00        33\n",
            "       B-nat       0.00      0.00      0.00         3\n",
            "       B-org       0.00      0.00      0.00       263\n",
            "       B-per       0.08      0.99      0.15       269\n",
            "       B-tim       0.00      0.00      0.00        96\n",
            "       I-art       0.00      0.00      0.00        20\n",
            "       I-eve       0.00      0.00      0.00         8\n",
            "       I-geo       0.00      0.00      0.00        95\n",
            "       I-gpe       0.00      0.00      0.00         4\n",
            "       I-nat       0.00      0.00      0.00         2\n",
            "       I-org       0.00      0.00      0.00       259\n",
            "       I-per       0.00      0.00      0.00       356\n",
            "       I-tim       0.00      0.00      0.00        61\n",
            "           O       0.00      0.00      0.00      1704\n",
            "\n",
            "    accuracy                           0.08      3477\n",
            "   macro avg       0.00      0.06      0.01      3477\n",
            "weighted avg       0.01      0.08      0.01      3477\n",
            "\n"
          ]
        }
      ]
    },
    {
      "cell_type": "code",
      "source": [
        "print(classification_report(y_test,rf_model1.predict(X_test)))"
      ],
      "metadata": {
        "colab": {
          "base_uri": "https://localhost:8080/"
        },
        "id": "1Xxwwx9b2EYf",
        "outputId": "a8816aaa-fe3e-4065-84fe-7a3e9d4c8e10"
      },
      "execution_count": 38,
      "outputs": [
        {
          "output_type": "stream",
          "name": "stdout",
          "text": [
            "              precision    recall  f1-score   support\n",
            "\n",
            "       B-art       0.00      0.00      0.00        58\n",
            "       B-eve       0.00      0.00      0.00        22\n",
            "       B-geo       0.00      0.00      0.00       630\n",
            "       B-gpe       0.00      0.00      0.00        77\n",
            "       B-nat       0.00      0.00      0.00         8\n",
            "       B-org       0.00      0.00      0.00       615\n",
            "       B-per       0.08      0.97      0.14       628\n",
            "       B-tim       0.00      0.00      0.00       224\n",
            "       I-art       0.00      0.00      0.00        47\n",
            "       I-eve       0.00      0.00      0.00        17\n",
            "       I-geo       0.00      0.00      0.00       223\n",
            "       I-gpe       0.00      0.00      0.00         8\n",
            "       I-nat       0.00      0.00      0.00         4\n",
            "       I-org       0.00      0.00      0.00       604\n",
            "       I-per       0.00      0.00      0.00       830\n",
            "       I-tim       0.00      0.00      0.00       142\n",
            "           O       0.00      0.00      0.00      3976\n",
            "\n",
            "    accuracy                           0.08      8113\n",
            "   macro avg       0.00      0.06      0.01      8113\n",
            "weighted avg       0.01      0.08      0.01      8113\n",
            "\n"
          ]
        }
      ]
    },
    {
      "cell_type": "code",
      "source": [
        "### Catboost"
      ],
      "metadata": {
        "id": "y-OUwACd2IZt"
      },
      "execution_count": 39,
      "outputs": []
    },
    {
      "cell_type": "code",
      "source": [
        "pip -q install catboost"
      ],
      "metadata": {
        "colab": {
          "base_uri": "https://localhost:8080/"
        },
        "id": "4yqX78B54ydu",
        "outputId": "5f27ce11-9c74-41c7-db3f-8715259b5e7b"
      },
      "execution_count": 40,
      "outputs": [
        {
          "output_type": "stream",
          "name": "stdout",
          "text": [
            "\u001b[2K     \u001b[90m━━━━━━━━━━━━━━━━━━━━━━━━━━━━━━━━━━━━━━━━\u001b[0m \u001b[32m98.2/98.2 MB\u001b[0m \u001b[31m11.3 MB/s\u001b[0m eta \u001b[36m0:00:00\u001b[0m\n",
            "\u001b[?25h"
          ]
        }
      ]
    },
    {
      "cell_type": "code",
      "source": [
        "from catboost import *\n",
        "from sklearn.utils.class_weight import compute_class_weight"
      ],
      "metadata": {
        "id": "NPvahwBd3YAT"
      },
      "execution_count": 41,
      "outputs": []
    },
    {
      "cell_type": "code",
      "source": [
        "classes = np.unique(y_train)\n",
        "weights = compute_class_weight(class_weight='balanced', classes=classes, y=y_train)\n",
        "class_weights = dict(zip(classes, weights))"
      ],
      "metadata": {
        "id": "5jAdyPmi5RMq"
      },
      "execution_count": 42,
      "outputs": []
    },
    {
      "cell_type": "code",
      "source": [
        "class_weights"
      ],
      "metadata": {
        "colab": {
          "base_uri": "https://localhost:8080/"
        },
        "id": "wnmlszIT5U0D",
        "outputId": "381d388f-a0bf-4f3b-9ae1-5f60d4699da2"
      },
      "execution_count": 43,
      "outputs": [
        {
          "output_type": "execute_result",
          "data": {
            "text/plain": [
              "{'B-art': 8.24169460530326,\n",
              " 'B-eve': 22.40347970173985,\n",
              " 'B-geo': 0.7581730499635507,\n",
              " 'B-gpe': 6.213465073529412,\n",
              " 'B-nat': 58.91285403050109,\n",
              " 'B-org': 0.7763040794648752,\n",
              " 'B-per': 0.759621327040845,\n",
              " 'B-tim': 2.12938026616269,\n",
              " 'I-art': 10.26223908918406,\n",
              " 'I-eve': 27.90608875128999,\n",
              " 'I-geo': 2.1408439553479535,\n",
              " 'I-gpe': 56.80882352941177,\n",
              " 'I-nat': 122.35746606334841,\n",
              " 'I-org': 0.7894030068603124,\n",
              " 'I-per': 0.574863411211973,\n",
              " 'I-tim': 3.3487306501547986,\n",
              " 'O': 0.12002165991273896}"
            ]
          },
          "metadata": {},
          "execution_count": 43
        }
      ]
    },
    {
      "cell_type": "code",
      "source": [
        "cb_model = CatBoostClassifier(verbose=False, class_weights=class_weights, grow_policy='SymmetricTree', iterations=500,\n",
        "                                max_depth=6, learning_rate=0.1, l2_leaf_reg=1.9)\n",
        "cb_model1 = cb_model.fit(X_train,y_train)\n",
        "y_train_pred = cb_model1.predict(X_train)\n",
        "y_val_pred = cb_model1.predict(X_val)\n",
        "print(f1_score(y_train,y_train_pred,average='weighted'))\n",
        "print(f1_score(y_val,y_val_pred,average='weighted'))"
      ],
      "metadata": {
        "colab": {
          "base_uri": "https://localhost:8080/"
        },
        "id": "Ulj5IGho3UiP",
        "outputId": "cabb96eb-e881-4526-fb5f-6b8c155af2dd"
      },
      "execution_count": 44,
      "outputs": [
        {
          "output_type": "stream",
          "name": "stdout",
          "text": [
            "0.35598699989922256\n",
            "0.324078936742648\n"
          ]
        }
      ]
    },
    {
      "cell_type": "code",
      "source": [
        "print(classification_report(y_train,cb_model1.predict(X_train)))"
      ],
      "metadata": {
        "colab": {
          "base_uri": "https://localhost:8080/"
        },
        "id": "IUGS5m0v3-2R",
        "outputId": "5a1c76f8-caab-4d2c-8931-0b0ae25d200a"
      },
      "execution_count": 45,
      "outputs": [
        {
          "output_type": "stream",
          "name": "stdout",
          "text": [
            "              precision    recall  f1-score   support\n",
            "\n",
            "       B-art       0.44      0.54      0.48       193\n",
            "       B-eve       0.33      0.82      0.47        71\n",
            "       B-geo       0.75      0.02      0.04      2098\n",
            "       B-gpe       0.49      0.11      0.17       256\n",
            "       B-nat       0.41      1.00      0.58        27\n",
            "       B-org       0.68      0.02      0.03      2049\n",
            "       B-per       0.63      0.02      0.04      2094\n",
            "       B-tim       0.67      0.01      0.02       747\n",
            "       I-art       0.40      0.82      0.54       155\n",
            "       I-eve       0.30      0.98      0.46        57\n",
            "       I-geo       0.45      0.02      0.04       743\n",
            "       I-gpe       0.25      1.00      0.40        28\n",
            "       I-nat       0.41      1.00      0.58        13\n",
            "       I-org       0.73      0.01      0.02      2015\n",
            "       I-per       0.93      0.01      0.03      2767\n",
            "       I-tim       0.44      0.02      0.03       475\n",
            "           O       0.51      0.98      0.67     13253\n",
            "\n",
            "    accuracy                           0.51     27041\n",
            "   macro avg       0.52      0.43      0.27     27041\n",
            "weighted avg       0.61      0.51      0.36     27041\n",
            "\n"
          ]
        }
      ]
    },
    {
      "cell_type": "code",
      "source": [
        "print(classification_report(y_val,cb_model1.predict(X_val)))"
      ],
      "metadata": {
        "colab": {
          "base_uri": "https://localhost:8080/"
        },
        "id": "YwqFiBYI5lJk",
        "outputId": "978917d1-6c8a-4860-bba0-30cd1ead1c88"
      },
      "execution_count": 46,
      "outputs": [
        {
          "output_type": "stream",
          "name": "stdout",
          "text": [
            "              precision    recall  f1-score   support\n",
            "\n",
            "       B-art       0.00      0.00      0.00        25\n",
            "       B-eve       0.00      0.00      0.00         9\n",
            "       B-geo       0.00      0.00      0.00       270\n",
            "       B-gpe       0.00      0.00      0.00        33\n",
            "       B-nat       0.00      0.00      0.00         3\n",
            "       B-org       0.00      0.00      0.00       263\n",
            "       B-per       0.00      0.00      0.00       269\n",
            "       B-tim       0.00      0.00      0.00        96\n",
            "       I-art       0.00      0.00      0.00        20\n",
            "       I-eve       0.00      0.00      0.00         8\n",
            "       I-geo       0.00      0.00      0.00        95\n",
            "       I-gpe       0.00      0.00      0.00         4\n",
            "       I-nat       0.00      0.00      0.00         2\n",
            "       I-org       0.00      0.00      0.00       259\n",
            "       I-per       0.00      0.00      0.00       356\n",
            "       I-tim       0.00      0.00      0.00        61\n",
            "           O       0.50      0.98      0.66      1704\n",
            "\n",
            "    accuracy                           0.48      3477\n",
            "   macro avg       0.03      0.06      0.04      3477\n",
            "weighted avg       0.24      0.48      0.32      3477\n",
            "\n"
          ]
        }
      ]
    },
    {
      "cell_type": "code",
      "source": [
        "print(classification_report(y_test,cb_model1.predict(X_test)))"
      ],
      "metadata": {
        "colab": {
          "base_uri": "https://localhost:8080/"
        },
        "id": "fJ-NtQuA5lDG",
        "outputId": "a26afd73-1e04-4841-d487-fa63f00619cc"
      },
      "execution_count": 47,
      "outputs": [
        {
          "output_type": "stream",
          "name": "stdout",
          "text": [
            "              precision    recall  f1-score   support\n",
            "\n",
            "       B-art       0.00      0.00      0.00        58\n",
            "       B-eve       0.00      0.00      0.00        22\n",
            "       B-geo       0.00      0.00      0.00       630\n",
            "       B-gpe       0.00      0.00      0.00        77\n",
            "       B-nat       0.00      0.00      0.00         8\n",
            "       B-org       0.00      0.00      0.00       615\n",
            "       B-per       0.00      0.00      0.00       628\n",
            "       B-tim       0.00      0.00      0.00       224\n",
            "       I-art       0.00      0.00      0.00        47\n",
            "       I-eve       0.00      0.00      0.00        17\n",
            "       I-geo       0.00      0.00      0.00       223\n",
            "       I-gpe       0.00      0.00      0.00         8\n",
            "       I-nat       0.00      0.00      0.00         4\n",
            "       I-org       0.00      0.00      0.00       604\n",
            "       I-per       0.00      0.00      0.00       830\n",
            "       I-tim       0.00      0.00      0.00       142\n",
            "           O       0.50      0.98      0.66      3976\n",
            "\n",
            "    accuracy                           0.48      8113\n",
            "   macro avg       0.03      0.06      0.04      8113\n",
            "weighted avg       0.25      0.48      0.33      8113\n",
            "\n"
          ]
        }
      ]
    },
    {
      "cell_type": "code",
      "source": [
        "### We observe that none of the baseline models are performing well due to multiple tags associated with a word"
      ],
      "metadata": {
        "id": "OGMiHws7533M"
      },
      "execution_count": 48,
      "outputs": []
    },
    {
      "cell_type": "markdown",
      "source": [
        "### TRANSFORMER MODEL"
      ],
      "metadata": {
        "id": "iVuWCQTtYX68"
      }
    },
    {
      "cell_type": "code",
      "source": [
        "### NER LLM Model using Transformers"
      ],
      "metadata": {
        "id": "i6mekK2J5k7L"
      },
      "execution_count": 76,
      "outputs": []
    },
    {
      "cell_type": "code",
      "source": [
        "pip install -q accelerate==0.21.0 transformers==4.35.* trl==0.4.7 bitsandbytes==0.41.* evaluate seqeval"
      ],
      "metadata": {
        "id": "7TtljGdt87h5"
      },
      "execution_count": 4,
      "outputs": []
    },
    {
      "cell_type": "code",
      "source": [
        "from datasets import *\n",
        "from transformers import (AutoTokenizer,\n",
        "                          DataCollatorForTokenClassification,\n",
        "                          AutoModelForTokenClassification, TrainingArguments, Trainer)\n",
        "import evaluate"
      ],
      "metadata": {
        "id": "a7J5CsIQIUiE"
      },
      "execution_count": 5,
      "outputs": []
    },
    {
      "cell_type": "code",
      "source": [
        "### Load the datset\n",
        "data = pd.read_csv('ner_dataset.csv',encoding='Windows-1252')"
      ],
      "metadata": {
        "id": "vYCUKesC9XgR"
      },
      "execution_count": 6,
      "outputs": []
    },
    {
      "cell_type": "code",
      "source": [
        "### Convert the tag into numbers\n",
        "data['Tags'] = LabelEncoder().fit(data.Tag).transform(data.Tag)"
      ],
      "metadata": {
        "id": "aMwr7_9rDn2P"
      },
      "execution_count": 7,
      "outputs": []
    },
    {
      "cell_type": "code",
      "source": [
        "LabelEncoder().fit(data.Tag).classes_"
      ],
      "metadata": {
        "colab": {
          "base_uri": "https://localhost:8080/"
        },
        "id": "7AWQVLFOSQ2t",
        "outputId": "52f3e031-1de7-4bfa-f237-409bdcb2f751"
      },
      "execution_count": 8,
      "outputs": [
        {
          "output_type": "execute_result",
          "data": {
            "text/plain": [
              "array(['B-art', 'B-eve', 'B-geo', 'B-gpe', 'B-nat', 'B-org', 'B-per',\n",
              "       'B-tim', 'I-art', 'I-eve', 'I-geo', 'I-gpe', 'I-nat', 'I-org',\n",
              "       'I-per', 'I-tim', 'O'], dtype=object)"
            ]
          },
          "metadata": {},
          "execution_count": 8
        }
      ]
    },
    {
      "cell_type": "code",
      "source": [
        "### Distribution of Tag and their number\n",
        "data[['Tag','Tags']].value_counts()"
      ],
      "metadata": {
        "colab": {
          "base_uri": "https://localhost:8080/"
        },
        "id": "vxW3SCVfDnzy",
        "outputId": "5f3d9e19-946a-4382-e4ea-4a20a2ba0022"
      },
      "execution_count": 9,
      "outputs": [
        {
          "output_type": "execute_result",
          "data": {
            "text/plain": [
              "Tag    Tags\n",
              "O      16      887908\n",
              "B-geo  2        37644\n",
              "B-tim  7        20333\n",
              "B-org  5        20143\n",
              "I-per  14       17251\n",
              "B-per  6        16990\n",
              "I-org  13       16784\n",
              "B-gpe  3        15870\n",
              "I-geo  10        7414\n",
              "I-tim  15        6528\n",
              "B-art  0          402\n",
              "B-eve  1          308\n",
              "I-art  8          297\n",
              "I-eve  9          253\n",
              "B-nat  4          201\n",
              "I-gpe  11         198\n",
              "I-nat  12          51\n",
              "Name: count, dtype: int64"
            ]
          },
          "metadata": {},
          "execution_count": 9
        }
      ]
    },
    {
      "cell_type": "code",
      "source": [
        "### We want to use the entire sentence as input to maintain the coherence\n",
        "data['Sentence #'] = data['Sentence #'].fillna(method='ffill')"
      ],
      "metadata": {
        "id": "AuDA6ev5DnwS"
      },
      "execution_count": 10,
      "outputs": []
    },
    {
      "cell_type": "code",
      "source": [
        "### Select only the restricted columns\n",
        "data = data[['Sentence #','Word','Tags']]"
      ],
      "metadata": {
        "id": "u_FXveIXDnta"
      },
      "execution_count": 11,
      "outputs": []
    },
    {
      "cell_type": "code",
      "source": [
        "### Check for any null values\n",
        "data.isnull().sum()"
      ],
      "metadata": {
        "colab": {
          "base_uri": "https://localhost:8080/"
        },
        "id": "MUtjh0IOE4jD",
        "outputId": "7de8bba6-ca37-48e2-e738-4f3808749e43"
      },
      "execution_count": 12,
      "outputs": [
        {
          "output_type": "execute_result",
          "data": {
            "text/plain": [
              "Sentence #     0\n",
              "Word          10\n",
              "Tags           0\n",
              "dtype: int64"
            ]
          },
          "metadata": {},
          "execution_count": 12
        }
      ]
    },
    {
      "cell_type": "code",
      "source": [
        "### We can drop the null or keep it\n",
        "data['Word'] = data['Word'].fillna('')"
      ],
      "metadata": {
        "id": "VXztN0XdE4gy"
      },
      "execution_count": 13,
      "outputs": []
    },
    {
      "cell_type": "code",
      "source": [
        "### Convert the records into list based on the sentences\n",
        "word_data = pd.DataFrame(data.groupby(['Sentence #'])['Word'].apply(list)).reset_index()\n",
        "tags_data = pd.DataFrame(data.groupby(['Sentence #'])['Tags'].apply(list)).reset_index().drop(columns=['Sentence #'])"
      ],
      "metadata": {
        "id": "pZHYvUWVE4dW"
      },
      "execution_count": 14,
      "outputs": []
    },
    {
      "cell_type": "code",
      "source": [
        "data_final = pd.concat([word_data,tags_data],axis=1)#.to_dict('records')\n",
        "data_final = data_final.rename(columns={'Sentence #':'sentence_id'})\n",
        "data_final['sentence_id'] = data_final['sentence_id'].str.replace(r'Sentence: ','')"
      ],
      "metadata": {
        "id": "ebxU3X05E4a3"
      },
      "execution_count": 15,
      "outputs": []
    },
    {
      "cell_type": "code",
      "source": [
        "### Split the data into train and test\n",
        "train, test = train_test_split(data_final, test_size=0.3, random_state=10)"
      ],
      "metadata": {
        "id": "_54uQUCeQFP1"
      },
      "execution_count": 16,
      "outputs": []
    },
    {
      "cell_type": "code",
      "source": [
        "### COnvert the dataset into huggingface dataset format for data ingestion\n",
        "train_dataset = Dataset.from_pandas(train).remove_columns(['__index_level_0__'])\n",
        "test_dataset = Dataset.from_pandas(test).remove_columns(['__index_level_0__'])"
      ],
      "metadata": {
        "id": "qn582zt6IyQj"
      },
      "execution_count": 17,
      "outputs": []
    },
    {
      "cell_type": "code",
      "source": [
        "train_dataset, test_dataset"
      ],
      "metadata": {
        "colab": {
          "base_uri": "https://localhost:8080/"
        },
        "id": "RZkuQNJYQd8t",
        "outputId": "b93cf544-2a3e-49e6-cea8-1c3f0c39caa9"
      },
      "execution_count": 18,
      "outputs": [
        {
          "output_type": "execute_result",
          "data": {
            "text/plain": [
              "(Dataset({\n",
              "     features: ['sentence_id', 'Word', 'Tags'],\n",
              "     num_rows: 33571\n",
              " }),\n",
              " Dataset({\n",
              "     features: ['sentence_id', 'Word', 'Tags'],\n",
              "     num_rows: 14388\n",
              " }))"
            ]
          },
          "metadata": {},
          "execution_count": 18
        }
      ]
    },
    {
      "cell_type": "code",
      "source": [
        "### We are utilising the tiny bert model based on research paper - https://arxiv.org/abs/1909.10351\n",
        "model_name = 'huawei-noah/TinyBERT_General_4L_312D'"
      ],
      "metadata": {
        "id": "du6R_bXE8r-l"
      },
      "execution_count": 19,
      "outputs": []
    },
    {
      "cell_type": "code",
      "source": [
        "### Load the tokenizer\n",
        "tokenizer = AutoTokenizer.from_pretrained(model_name)"
      ],
      "metadata": {
        "id": "5V1l5H6i9ZBo"
      },
      "execution_count": 20,
      "outputs": []
    },
    {
      "cell_type": "code",
      "source": [
        "### Convertion of words into tokens\n",
        "def tokenize_and_align_labels(examples):\n",
        "    tokenized_inputs = tokenizer(examples[\"Word\"], truncation=True, max_length=512, is_split_into_words=True)\n",
        "\n",
        "    labels = []\n",
        "    for i, label in enumerate(examples[f\"Tags\"]):\n",
        "        word_ids = tokenized_inputs.word_ids(batch_index=i)\n",
        "        previous_word_idx = None\n",
        "        label_ids = []\n",
        "        for word_idx in word_ids:\n",
        "            if word_idx is None:\n",
        "                label_ids.append(-100) ### Converting [CLS] to -100\n",
        "            elif word_idx != previous_word_idx:\n",
        "                label_ids.append(label[word_idx])\n",
        "            else:\n",
        "                label_ids.append(-100) ### Converting [SEP] to -100\n",
        "            previous_word_idx = word_idx\n",
        "        labels.append(label_ids)\n",
        "\n",
        "    tokenized_inputs[\"labels\"] = labels\n",
        "    return tokenized_inputs"
      ],
      "metadata": {
        "id": "C2dkVLVmTqTF"
      },
      "execution_count": 24,
      "outputs": []
    },
    {
      "cell_type": "code",
      "source": [
        "tokenized_train_dataset = train_dataset.map(tokenize_and_align_labels, batched=True)\n",
        "tokenized_test_dataset = test_dataset.map(tokenize_and_align_labels, batched=True)"
      ],
      "metadata": {
        "colab": {
          "base_uri": "https://localhost:8080/",
          "height": 81,
          "referenced_widgets": [
            "bcc7227e2a33495da05c6b212812cedb",
            "aa56f8d4c9a6402c861d6c6c8d0d63d6",
            "e209a360e6064b0abd9f9caa6b9107af",
            "3fb80ad3e05a47c6813c730db50660e5",
            "0a6c5d4c22b0489d96b282330fe3f4d8",
            "4ab9fdddfb9c478d9dea401ce3b28375",
            "c57f889c3ad0426a859ab07a1b7a6aaf",
            "92d3995aa3744b459a807dde0e2460c3",
            "a24b71cba1c5466f9b669c10ccd63678",
            "a77410e222474f9e942824b18f444f9c",
            "2dabfae924d14df488e9d0286220e02d",
            "e40aa1ea887543b589d80b70311cef5e",
            "960d152bf1e64231b67ed86d8cfcb377",
            "6233e8ab16314f57927d54ce6c403ca6",
            "e7f5707637414bb897ef749e4350a8dd",
            "f2c7a07c44b14ed2b392070d5d313941",
            "53768bab30874e1aa24ba57b450c5233",
            "718daa4213ea47a6b08b4416b3a205af",
            "d5e3ada4c9e14896a84e314738320a68",
            "596c3bf17aad457fb39ec5d83dd5cbbe",
            "39b5c8818d5043c19c57667039ea7aa1",
            "d9682fde9cf94d8d91fe25c27adeed3c"
          ]
        },
        "id": "isqQXYvSTwRF",
        "outputId": "3008748a-5533-4a6f-b23e-ea7e466c4aeb"
      },
      "execution_count": 25,
      "outputs": [
        {
          "output_type": "display_data",
          "data": {
            "text/plain": [
              "Map:   0%|          | 0/33571 [00:00<?, ? examples/s]"
            ],
            "application/vnd.jupyter.widget-view+json": {
              "version_major": 2,
              "version_minor": 0,
              "model_id": "bcc7227e2a33495da05c6b212812cedb"
            }
          },
          "metadata": {}
        },
        {
          "output_type": "display_data",
          "data": {
            "text/plain": [
              "Map:   0%|          | 0/14388 [00:00<?, ? examples/s]"
            ],
            "application/vnd.jupyter.widget-view+json": {
              "version_major": 2,
              "version_minor": 0,
              "model_id": "e40aa1ea887543b589d80b70311cef5e"
            }
          },
          "metadata": {}
        }
      ]
    },
    {
      "cell_type": "code",
      "source": [
        "### Data collater to pass and tokenize on the fly\n",
        "data_collator = DataCollatorForTokenClassification(tokenizer=tokenizer)"
      ],
      "metadata": {
        "id": "AAgYfxwPTana"
      },
      "execution_count": 26,
      "outputs": []
    },
    {
      "cell_type": "code",
      "source": [
        "### Labelling of tags\n",
        "id2label = {\n",
        "        0: 'B-art',\n",
        "        1: 'B-eve',\n",
        "        2: 'B-geo',\n",
        "        3: 'B-gpe',\n",
        "        4: 'B-nat',\n",
        "        5: 'B-org',\n",
        "        6: 'B-per',\n",
        "        7: 'B-tim',\n",
        "        8: 'I-art',\n",
        "        9: 'I-eve',\n",
        "        10: 'I-geo',\n",
        "        11: 'I-gpe',\n",
        "        12: 'I-nat',\n",
        "        13: 'I-org',\n",
        "        14: 'I-per',\n",
        "        15: 'I-tim',\n",
        "        16: 'O',\n",
        "}\n",
        "label2id = {\n",
        "        'B-art':0,\n",
        "        'B-eve':1,\n",
        "        'B-geo':2,\n",
        "        'B-gpe':3,\n",
        "        'B-nat':4,\n",
        "        'B-org':5,\n",
        "        'B-per':6,\n",
        "        'B-tim':7,\n",
        "        'I-art':8,\n",
        "        'I-eve':9,\n",
        "        'I-geo':10,\n",
        "        'I-gpe':11,\n",
        "        'I-nat':12,\n",
        "        'I-org':13,\n",
        "        'I-per':14,\n",
        "        'I-tim':15,\n",
        "        'O' :16,\n",
        "}"
      ],
      "metadata": {
        "id": "5N-Gg22oUSTg"
      },
      "execution_count": 27,
      "outputs": []
    },
    {
      "cell_type": "code",
      "source": [
        "### Load the model with number of token classes and labelling tags\n",
        "model = AutoModelForTokenClassification.from_pretrained(model_name, num_labels=17, id2label=id2label, label2id=label2id)"
      ],
      "metadata": {
        "colab": {
          "base_uri": "https://localhost:8080/"
        },
        "id": "4Xez91zbUSRC",
        "outputId": "66b2becb-78f1-4c8e-b425-1f5b9c9faac4"
      },
      "execution_count": 28,
      "outputs": [
        {
          "output_type": "stream",
          "name": "stderr",
          "text": [
            "Some weights of BertForTokenClassification were not initialized from the model checkpoint at huawei-noah/TinyBERT_General_4L_312D and are newly initialized: ['classifier.bias', 'classifier.weight']\n",
            "You should probably TRAIN this model on a down-stream task to be able to use it for predictions and inference.\n"
          ]
        }
      ]
    },
    {
      "cell_type": "code",
      "source": [
        "seqeval = evaluate.load(\"seqeval\")"
      ],
      "metadata": {
        "id": "PYbts2s3juT4"
      },
      "execution_count": 29,
      "outputs": []
    },
    {
      "cell_type": "code",
      "source": [
        "label_list = ['B-art', 'B-eve', 'B-geo', 'B-gpe', 'B-nat', 'B-org', 'B-per', 'B-tim', 'I-art', 'I-eve', 'I-geo', 'I-gpe', 'I-nat', 'I-org', 'I-per', 'I-tim', 'O']"
      ],
      "metadata": {
        "id": "vGzmnKBoil5B"
      },
      "execution_count": 30,
      "outputs": []
    },
    {
      "cell_type": "code",
      "source": [
        "### Compute metrics to evaluate the performance at each epoch\n",
        "import numpy as np\n",
        "\n",
        "def compute_metrics(p):\n",
        "    predictions, labels = p\n",
        "    predictions = np.argmax(predictions, axis=2)\n",
        "\n",
        "    true_predictions = [\n",
        "        [label_list[p] for (p, l) in zip(prediction, label) if l != -100]\n",
        "        for prediction, label in zip(predictions, labels)\n",
        "    ]\n",
        "    true_labels = [\n",
        "        [label_list[l] for (p, l) in zip(prediction, label) if l != -100]\n",
        "        for prediction, label in zip(predictions, labels)\n",
        "    ]\n",
        "\n",
        "    results = seqeval.compute(predictions=true_predictions, references=true_labels)\n",
        "    return {\n",
        "        \"precision\": results[\"overall_precision\"],\n",
        "        \"recall\": results[\"overall_recall\"],\n",
        "        \"f1\": results[\"overall_f1\"],\n",
        "        \"accuracy\": results[\"overall_accuracy\"],\n",
        "    }"
      ],
      "metadata": {
        "id": "RNi77fn1hOBi"
      },
      "execution_count": 31,
      "outputs": []
    },
    {
      "cell_type": "code",
      "source": [
        "### Training arguments\n",
        "training_args = TrainingArguments(\n",
        "    output_dir=\"logs\",\n",
        "    learning_rate=1e-5,\n",
        "    per_device_train_batch_size=16,\n",
        "    per_device_eval_batch_size=16,\n",
        "    gradient_accumulation_steps=1,\n",
        "    eval_accumulation_steps=1,\n",
        "    num_train_epochs=20,\n",
        "    weight_decay=0.01,\n",
        "    evaluation_strategy='epoch',\n",
        "    optim=\"paged_lion_32bit\",\n",
        "    save_strategy=\"epoch\",\n",
        "    max_grad_norm=0.3,\n",
        "    warmup_ratio=0.01\n",
        ")"
      ],
      "metadata": {
        "id": "m2b4T_dJUSOe"
      },
      "execution_count": 32,
      "outputs": []
    },
    {
      "cell_type": "code",
      "source": [
        "### Wrap everything into Trainer\n",
        "trainer = Trainer(\n",
        "    model=model,\n",
        "    args=training_args,\n",
        "    train_dataset=tokenized_train_dataset,\n",
        "    eval_dataset=tokenized_test_dataset,\n",
        "    tokenizer=tokenizer,\n",
        "    data_collator=data_collator,\n",
        "    compute_metrics=compute_metrics\n",
        ")"
      ],
      "metadata": {
        "id": "co5OrhXLUSLo"
      },
      "execution_count": 35,
      "outputs": []
    },
    {
      "cell_type": "code",
      "source": [
        "### Train the model\n",
        "trainer.train()"
      ],
      "metadata": {
        "colab": {
          "base_uri": "https://localhost:8080/",
          "height": 774
        },
        "id": "Z606Ws3oXGba",
        "outputId": "cb4a0a7b-3fdb-4b7a-a68c-881db43ca6da"
      },
      "execution_count": 36,
      "outputs": [
        {
          "output_type": "stream",
          "name": "stderr",
          "text": [
            "You're using a BertTokenizerFast tokenizer. Please note that with a fast tokenizer, using the `__call__` method is faster than using a method to encode the text followed by a call to the `pad` method to get a padded encoding.\n"
          ]
        },
        {
          "output_type": "display_data",
          "data": {
            "text/plain": [
              "<IPython.core.display.HTML object>"
            ],
            "text/html": [
              "\n",
              "    <div>\n",
              "      \n",
              "      <progress value='41980' max='41980' style='width:300px; height:20px; vertical-align: middle;'></progress>\n",
              "      [41980/41980 23:07, Epoch 20/20]\n",
              "    </div>\n",
              "    <table border=\"1\" class=\"dataframe\">\n",
              "  <thead>\n",
              " <tr style=\"text-align: left;\">\n",
              "      <th>Epoch</th>\n",
              "      <th>Training Loss</th>\n",
              "      <th>Validation Loss</th>\n",
              "      <th>Precision</th>\n",
              "      <th>Recall</th>\n",
              "      <th>F1</th>\n",
              "      <th>Accuracy</th>\n",
              "    </tr>\n",
              "  </thead>\n",
              "  <tbody>\n",
              "    <tr>\n",
              "      <td>1</td>\n",
              "      <td>0.478400</td>\n",
              "      <td>0.439376</td>\n",
              "      <td>0.229642</td>\n",
              "      <td>0.263325</td>\n",
              "      <td>0.245333</td>\n",
              "      <td>0.872272</td>\n",
              "    </tr>\n",
              "    <tr>\n",
              "      <td>2</td>\n",
              "      <td>0.373400</td>\n",
              "      <td>0.339269</td>\n",
              "      <td>0.452619</td>\n",
              "      <td>0.449538</td>\n",
              "      <td>0.451073</td>\n",
              "      <td>0.906086</td>\n",
              "    </tr>\n",
              "    <tr>\n",
              "      <td>3</td>\n",
              "      <td>0.351900</td>\n",
              "      <td>0.328201</td>\n",
              "      <td>0.568435</td>\n",
              "      <td>0.538660</td>\n",
              "      <td>0.553147</td>\n",
              "      <td>0.916832</td>\n",
              "    </tr>\n",
              "    <tr>\n",
              "      <td>4</td>\n",
              "      <td>0.353600</td>\n",
              "      <td>0.339158</td>\n",
              "      <td>0.588512</td>\n",
              "      <td>0.547608</td>\n",
              "      <td>0.567324</td>\n",
              "      <td>0.917565</td>\n",
              "    </tr>\n",
              "    <tr>\n",
              "      <td>5</td>\n",
              "      <td>0.365000</td>\n",
              "      <td>0.349413</td>\n",
              "      <td>0.619187</td>\n",
              "      <td>0.535123</td>\n",
              "      <td>0.574094</td>\n",
              "      <td>0.916489</td>\n",
              "    </tr>\n",
              "    <tr>\n",
              "      <td>6</td>\n",
              "      <td>0.365200</td>\n",
              "      <td>0.345027</td>\n",
              "      <td>0.625492</td>\n",
              "      <td>0.567199</td>\n",
              "      <td>0.594921</td>\n",
              "      <td>0.919229</td>\n",
              "    </tr>\n",
              "    <tr>\n",
              "      <td>7</td>\n",
              "      <td>0.360000</td>\n",
              "      <td>0.342575</td>\n",
              "      <td>0.605503</td>\n",
              "      <td>0.589375</td>\n",
              "      <td>0.597331</td>\n",
              "      <td>0.921230</td>\n",
              "    </tr>\n",
              "    <tr>\n",
              "      <td>8</td>\n",
              "      <td>0.361400</td>\n",
              "      <td>0.343006</td>\n",
              "      <td>0.624368</td>\n",
              "      <td>0.594429</td>\n",
              "      <td>0.609031</td>\n",
              "      <td>0.921931</td>\n",
              "    </tr>\n",
              "    <tr>\n",
              "      <td>9</td>\n",
              "      <td>0.359900</td>\n",
              "      <td>0.344467</td>\n",
              "      <td>0.603300</td>\n",
              "      <td>0.589078</td>\n",
              "      <td>0.596104</td>\n",
              "      <td>0.921525</td>\n",
              "    </tr>\n",
              "    <tr>\n",
              "      <td>10</td>\n",
              "      <td>0.364100</td>\n",
              "      <td>0.341465</td>\n",
              "      <td>0.604365</td>\n",
              "      <td>0.599334</td>\n",
              "      <td>0.601839</td>\n",
              "      <td>0.922947</td>\n",
              "    </tr>\n",
              "    <tr>\n",
              "      <td>11</td>\n",
              "      <td>0.354800</td>\n",
              "      <td>0.342424</td>\n",
              "      <td>0.607279</td>\n",
              "      <td>0.587800</td>\n",
              "      <td>0.597381</td>\n",
              "      <td>0.921277</td>\n",
              "    </tr>\n",
              "    <tr>\n",
              "      <td>12</td>\n",
              "      <td>0.357500</td>\n",
              "      <td>0.340203</td>\n",
              "      <td>0.610085</td>\n",
              "      <td>0.589138</td>\n",
              "      <td>0.599428</td>\n",
              "      <td>0.921938</td>\n",
              "    </tr>\n",
              "    <tr>\n",
              "      <td>13</td>\n",
              "      <td>0.356500</td>\n",
              "      <td>0.340371</td>\n",
              "      <td>0.614560</td>\n",
              "      <td>0.599542</td>\n",
              "      <td>0.606958</td>\n",
              "      <td>0.923182</td>\n",
              "    </tr>\n",
              "    <tr>\n",
              "      <td>14</td>\n",
              "      <td>0.357600</td>\n",
              "      <td>0.340865</td>\n",
              "      <td>0.622342</td>\n",
              "      <td>0.597699</td>\n",
              "      <td>0.609772</td>\n",
              "      <td>0.922287</td>\n",
              "    </tr>\n",
              "    <tr>\n",
              "      <td>15</td>\n",
              "      <td>0.353600</td>\n",
              "      <td>0.340021</td>\n",
              "      <td>0.609437</td>\n",
              "      <td>0.597045</td>\n",
              "      <td>0.603177</td>\n",
              "      <td>0.922179</td>\n",
              "    </tr>\n",
              "    <tr>\n",
              "      <td>16</td>\n",
              "      <td>0.352500</td>\n",
              "      <td>0.338311</td>\n",
              "      <td>0.614071</td>\n",
              "      <td>0.607390</td>\n",
              "      <td>0.610713</td>\n",
              "      <td>0.923525</td>\n",
              "    </tr>\n",
              "    <tr>\n",
              "      <td>17</td>\n",
              "      <td>0.354800</td>\n",
              "      <td>0.337730</td>\n",
              "      <td>0.617572</td>\n",
              "      <td>0.608282</td>\n",
              "      <td>0.612892</td>\n",
              "      <td>0.924065</td>\n",
              "    </tr>\n",
              "    <tr>\n",
              "      <td>18</td>\n",
              "      <td>0.354100</td>\n",
              "      <td>0.335574</td>\n",
              "      <td>0.608420</td>\n",
              "      <td>0.604893</td>\n",
              "      <td>0.606651</td>\n",
              "      <td>0.923941</td>\n",
              "    </tr>\n",
              "    <tr>\n",
              "      <td>19</td>\n",
              "      <td>0.349800</td>\n",
              "      <td>0.332043</td>\n",
              "      <td>0.615064</td>\n",
              "      <td>0.614882</td>\n",
              "      <td>0.614973</td>\n",
              "      <td>0.925605</td>\n",
              "    </tr>\n",
              "    <tr>\n",
              "      <td>20</td>\n",
              "      <td>0.342800</td>\n",
              "      <td>0.329122</td>\n",
              "      <td>0.598321</td>\n",
              "      <td>0.610006</td>\n",
              "      <td>0.604107</td>\n",
              "      <td>0.925335</td>\n",
              "    </tr>\n",
              "  </tbody>\n",
              "</table><p>"
            ]
          },
          "metadata": {}
        },
        {
          "output_type": "execute_result",
          "data": {
            "text/plain": [
              "TrainOutput(global_step=41980, training_loss=0.38392003365162725, metrics={'train_runtime': 1388.657, 'train_samples_per_second': 483.503, 'train_steps_per_second': 30.231, 'total_flos': 821288975724354.0, 'train_loss': 0.38392003365162725, 'epoch': 20.0})"
            ]
          },
          "metadata": {},
          "execution_count": 36
        }
      ]
    },
    {
      "cell_type": "code",
      "source": [
        "### Save the model objects for inference and production\n",
        "trainer.save_model('ner_model')"
      ],
      "metadata": {
        "id": "sRxBs0poXIj6"
      },
      "execution_count": 37,
      "outputs": []
    },
    {
      "cell_type": "code",
      "source": [
        "# from huggingface_hub import notebook_login\n",
        "# notebook_login()"
      ],
      "metadata": {
        "id": "0CxnimJdw8y7"
      },
      "execution_count": 48,
      "outputs": []
    },
    {
      "cell_type": "code",
      "source": [
        "# trainer.push_to_hub('sun00009/ner_model')"
      ],
      "metadata": {
        "id": "3S9cmqOhxSE8"
      },
      "execution_count": 82,
      "outputs": []
    },
    {
      "cell_type": "markdown",
      "source": [
        "### LLM INFERENCE"
      ],
      "metadata": {
        "id": "-VNqpWif9NlT"
      }
    },
    {
      "cell_type": "code",
      "source": [
        "### Creating prediction pipeline for inference"
      ],
      "metadata": {
        "id": "s7Y3dbJmZhrz"
      },
      "execution_count": 38,
      "outputs": []
    },
    {
      "cell_type": "code",
      "source": [
        "from transformers import pipeline\n",
        "import torch"
      ],
      "metadata": {
        "id": "7UB9PSIAZnlk"
      },
      "execution_count": 39,
      "outputs": []
    },
    {
      "cell_type": "code",
      "source": [
        "### Load the trained model\n",
        "ner_model = AutoModelForTokenClassification.from_pretrained('ner_model')"
      ],
      "metadata": {
        "id": "gKWiC0KWbFHu"
      },
      "execution_count": 40,
      "outputs": []
    },
    {
      "cell_type": "code",
      "source": [
        "### Create a pipeline for inference\n",
        "ner_pipe = pipeline('ner', model=ner_model, tokenizer=tokenizer)"
      ],
      "metadata": {
        "id": "2MScRA3VZuTD"
      },
      "execution_count": 41,
      "outputs": []
    },
    {
      "cell_type": "code",
      "source": [
        "inputs = \" \". join(test_dataset[0]['Word'])"
      ],
      "metadata": {
        "id": "HQjyEB05aDcP"
      },
      "execution_count": 42,
      "outputs": []
    },
    {
      "cell_type": "code",
      "source": [
        "ner_pipe(inputs)"
      ],
      "metadata": {
        "colab": {
          "base_uri": "https://localhost:8080/"
        },
        "id": "g9iGgZV7ZzwU",
        "outputId": "5786abad-ad44-4be4-cbf4-e4589c8fa776"
      },
      "execution_count": 43,
      "outputs": [
        {
          "output_type": "stream",
          "name": "stderr",
          "text": [
            "Asking to truncate to max_length but no maximum length is provided and the model has no predefined maximum length. Default to no truncation.\n"
          ]
        },
        {
          "output_type": "execute_result",
          "data": {
            "text/plain": [
              "[{'entity': 'B-geo',\n",
              "  'score': 0.36887354,\n",
              "  'index': 3,\n",
              "  'word': 'kyrgyzstan',\n",
              "  'start': 13,\n",
              "  'end': 23},\n",
              " {'entity': 'I-per',\n",
              "  'score': 0.24938515,\n",
              "  'index': 14,\n",
              "  'word': 'lo',\n",
              "  'start': 81,\n",
              "  'end': 83},\n",
              " {'entity': 'B-gpe',\n",
              "  'score': 0.49053234,\n",
              "  'index': 32,\n",
              "  'word': 'russian',\n",
              "  'start': 159,\n",
              "  'end': 166}]"
            ]
          },
          "metadata": {},
          "execution_count": 43
        }
      ]
    },
    {
      "cell_type": "code",
      "source": [
        "inputs = tokenizer(inputs, return_tensors=\"pt\")"
      ],
      "metadata": {
        "id": "0NTRIW-vfkl4"
      },
      "execution_count": 44,
      "outputs": []
    },
    {
      "cell_type": "code",
      "source": [
        "with torch.no_grad():\n",
        "    logits = ner_model(**inputs).get('logits')"
      ],
      "metadata": {
        "id": "ZEIshH-lc0KE"
      },
      "execution_count": 45,
      "outputs": []
    },
    {
      "cell_type": "code",
      "source": [
        "predictions = torch.argmax(logits, dim=2)"
      ],
      "metadata": {
        "id": "0ef0iOiWd2Lk"
      },
      "execution_count": 46,
      "outputs": []
    },
    {
      "cell_type": "code",
      "source": [
        "predicted_token_class = [model.config.id2label[t.item()] for t in predictions[0]]\n",
        "print(predicted_token_class[1:-1])"
      ],
      "metadata": {
        "colab": {
          "base_uri": "https://localhost:8080/"
        },
        "id": "dXvpebNafzac",
        "outputId": "bc4cb264-0be1-407c-ba25-925b2cd28cb1"
      },
      "execution_count": 47,
      "outputs": [
        {
          "output_type": "stream",
          "name": "stdout",
          "text": [
            "['O', 'O', 'B-geo', 'O', 'O', 'O', 'O', 'O', 'O', 'O', 'O', 'O', 'O', 'I-per', 'O', 'O', 'O', 'O', 'O', 'O', 'O', 'O', 'O', 'O', 'O', 'O', 'O', 'O', 'O', 'O', 'O', 'B-gpe', 'O', 'O']\n"
          ]
        }
      ]
    },
    {
      "cell_type": "code",
      "source": [
        "print(tokenized_test_dataset[0]['Word'])"
      ],
      "metadata": {
        "colab": {
          "base_uri": "https://localhost:8080/"
        },
        "id": "49vBIo0DgxLY",
        "outputId": "005c3fd5-9b20-47a2-9042-1c4585772a74"
      },
      "execution_count": 48,
      "outputs": [
        {
          "output_type": "stream",
          "name": "stdout",
          "text": [
            "['Officials', 'in', 'Kyrgyzstan', 'say', 'they', 'have', 'detained', 'about', '50', 'people', 'after', 'hundreds', 'of', 'looters', 'tore', 'through', 'a', 'Kurdish', 'village', 'to', 'protest', 'the', 'rape', 'of', 'a', 'four', 'year-old', 'Russian', 'girl', '.']\n"
          ]
        }
      ]
    },
    {
      "cell_type": "code",
      "source": [
        "print(tokenized_test_dataset[0]['Tags'])"
      ],
      "metadata": {
        "colab": {
          "base_uri": "https://localhost:8080/"
        },
        "id": "nRH3ABO3f5qL",
        "outputId": "74981ccf-ef10-4021-9fbe-8cf86a042128"
      },
      "execution_count": 49,
      "outputs": [
        {
          "output_type": "stream",
          "name": "stdout",
          "text": [
            "[16, 16, 2, 16, 16, 16, 16, 16, 16, 16, 16, 16, 16, 16, 16, 16, 16, 16, 16, 16, 16, 16, 16, 16, 16, 16, 16, 3, 16, 16]\n"
          ]
        }
      ]
    },
    {
      "cell_type": "code",
      "source": [
        "print(id2label)"
      ],
      "metadata": {
        "colab": {
          "base_uri": "https://localhost:8080/"
        },
        "id": "oYoBjkvlgZy-",
        "outputId": "428e924e-603c-4661-c139-eef1cd15a322"
      },
      "execution_count": 50,
      "outputs": [
        {
          "output_type": "stream",
          "name": "stdout",
          "text": [
            "{0: 'B-art', 1: 'B-eve', 2: 'B-geo', 3: 'B-gpe', 4: 'B-nat', 5: 'B-org', 6: 'B-per', 7: 'B-tim', 8: 'I-art', 9: 'I-eve', 10: 'I-geo', 11: 'I-gpe', 12: 'I-nat', 13: 'I-org', 14: 'I-per', 15: 'I-tim', 16: 'O'}\n"
          ]
        }
      ]
    },
    {
      "cell_type": "markdown",
      "source": [
        "## DEPLOYMENT AND DEMO"
      ],
      "metadata": {
        "id": "lcI6AsHs9frt"
      }
    },
    {
      "cell_type": "markdown",
      "source": [
        "### GRADIO"
      ],
      "metadata": {
        "id": "1zNP5AA_l0rC"
      }
    },
    {
      "cell_type": "code",
      "source": [
        "pip -q install gradio"
      ],
      "metadata": {
        "colab": {
          "base_uri": "https://localhost:8080/"
        },
        "id": "OC_XYFrfrWEK",
        "outputId": "028b81c0-d068-4083-d4e7-3f36257b1fbd"
      },
      "execution_count": 52,
      "outputs": [
        {
          "output_type": "stream",
          "name": "stdout",
          "text": [
            "\u001b[2K     \u001b[90m━━━━━━━━━━━━━━━━━━━━━━━━━━━━━━━━━━━━━━━━\u001b[0m \u001b[32m12.3/12.3 MB\u001b[0m \u001b[31m86.4 MB/s\u001b[0m eta \u001b[36m0:00:00\u001b[0m\n",
            "\u001b[2K     \u001b[90m━━━━━━━━━━━━━━━━━━━━━━━━━━━━━━━━━━━━━━━━\u001b[0m \u001b[32m92.0/92.0 kB\u001b[0m \u001b[31m13.0 MB/s\u001b[0m eta \u001b[36m0:00:00\u001b[0m\n",
            "\u001b[?25h  Preparing metadata (setup.py) ... \u001b[?25l\u001b[?25hdone\n",
            "\u001b[2K     \u001b[90m━━━━━━━━━━━━━━━━━━━━━━━━━━━━━━━━━━━━━━━━\u001b[0m \u001b[32m318.1/318.1 kB\u001b[0m \u001b[31m34.7 MB/s\u001b[0m eta \u001b[36m0:00:00\u001b[0m\n",
            "\u001b[2K     \u001b[90m━━━━━━━━━━━━━━━━━━━━━━━━━━━━━━━━━━━━━━━━\u001b[0m \u001b[32m75.6/75.6 kB\u001b[0m \u001b[31m11.6 MB/s\u001b[0m eta \u001b[36m0:00:00\u001b[0m\n",
            "\u001b[2K     \u001b[90m━━━━━━━━━━━━━━━━━━━━━━━━━━━━━━━━━━━━━━━━\u001b[0m \u001b[32m145.0/145.0 kB\u001b[0m \u001b[31m20.1 MB/s\u001b[0m eta \u001b[36m0:00:00\u001b[0m\n",
            "\u001b[2K     \u001b[90m━━━━━━━━━━━━━━━━━━━━━━━━━━━━━━━━━━━━━━━━\u001b[0m \u001b[32m10.0/10.0 MB\u001b[0m \u001b[31m105.5 MB/s\u001b[0m eta \u001b[36m0:00:00\u001b[0m\n",
            "\u001b[2K     \u001b[90m━━━━━━━━━━━━━━━━━━━━━━━━━━━━━━━━━━━━━━━━\u001b[0m \u001b[32m62.4/62.4 kB\u001b[0m \u001b[31m8.5 MB/s\u001b[0m eta \u001b[36m0:00:00\u001b[0m\n",
            "\u001b[2K     \u001b[90m━━━━━━━━━━━━━━━━━━━━━━━━━━━━━━━━━━━━━━━━\u001b[0m \u001b[32m129.9/129.9 kB\u001b[0m \u001b[31m16.8 MB/s\u001b[0m eta \u001b[36m0:00:00\u001b[0m\n",
            "\u001b[2K     \u001b[90m━━━━━━━━━━━━━━━━━━━━━━━━━━━━━━━━━━━━━━━━\u001b[0m \u001b[32m77.9/77.9 kB\u001b[0m \u001b[31m12.1 MB/s\u001b[0m eta \u001b[36m0:00:00\u001b[0m\n",
            "\u001b[2K     \u001b[90m━━━━━━━━━━━━━━━━━━━━━━━━━━━━━━━━━━━━━━━━\u001b[0m \u001b[32m58.3/58.3 kB\u001b[0m \u001b[31m9.4 MB/s\u001b[0m eta \u001b[36m0:00:00\u001b[0m\n",
            "\u001b[2K     \u001b[90m━━━━━━━━━━━━━━━━━━━━━━━━━━━━━━━━━━━━━━━━\u001b[0m \u001b[32m71.9/71.9 kB\u001b[0m \u001b[31m11.2 MB/s\u001b[0m eta \u001b[36m0:00:00\u001b[0m\n",
            "\u001b[2K     \u001b[90m━━━━━━━━━━━━━━━━━━━━━━━━━━━━━━━━━━━━━━━━\u001b[0m \u001b[32m53.6/53.6 kB\u001b[0m \u001b[31m6.0 MB/s\u001b[0m eta \u001b[36m0:00:00\u001b[0m\n",
            "\u001b[2K     \u001b[90m━━━━━━━━━━━━━━━━━━━━━━━━━━━━━━━━━━━━━━━━\u001b[0m \u001b[32m307.7/307.7 kB\u001b[0m \u001b[31m33.1 MB/s\u001b[0m eta \u001b[36m0:00:00\u001b[0m\n",
            "\u001b[2K     \u001b[90m━━━━━━━━━━━━━━━━━━━━━━━━━━━━━━━━━━━━━━━━\u001b[0m \u001b[32m341.4/341.4 kB\u001b[0m \u001b[31m43.6 MB/s\u001b[0m eta \u001b[36m0:00:00\u001b[0m\n",
            "\u001b[2K     \u001b[90m━━━━━━━━━━━━━━━━━━━━━━━━━━━━━━━━━━━━━━━━\u001b[0m \u001b[32m3.4/3.4 MB\u001b[0m \u001b[31m117.8 MB/s\u001b[0m eta \u001b[36m0:00:00\u001b[0m\n",
            "\u001b[2K     \u001b[90m━━━━━━━━━━━━━━━━━━━━━━━━━━━━━━━━━━━━━━━━\u001b[0m \u001b[32m1.2/1.2 MB\u001b[0m \u001b[31m83.6 MB/s\u001b[0m eta \u001b[36m0:00:00\u001b[0m\n",
            "\u001b[?25h  Building wheel for ffmpy (setup.py) ... \u001b[?25l\u001b[?25hdone\n"
          ]
        }
      ]
    },
    {
      "cell_type": "code",
      "source": [
        "import gradio as gr"
      ],
      "metadata": {
        "id": "pXMiyRZhguBV"
      },
      "execution_count": 53,
      "outputs": []
    },
    {
      "cell_type": "code",
      "source": [
        "### Wrap the inference pipeline\n",
        "def ner_inference(input_text):\n",
        "    ner_model = AutoModelForTokenClassification.from_pretrained('sun00009/ner_model')\n",
        "    tokenizer = AutoTokenizer.from_pretrained('sun00009/ner_model')\n",
        "    ner_pipe = pipeline('ner', model=ner_model, tokenizer=tokenizer)\n",
        "    inputs = tokenizer(input_text, return_tensors=\"pt\")\n",
        "    with torch.no_grad():\n",
        "        logits = ner_model(**inputs).get('logits')\n",
        "    predictions = torch.argmax(logits, dim=2)\n",
        "    predicted_token_class = [model.config.id2label[t.item()] for t in predictions[0]]\n",
        "    return predicted_token_class[1:-1]"
      ],
      "metadata": {
        "id": "9UCEyRAKrZoX"
      },
      "execution_count": 66,
      "outputs": []
    },
    {
      "cell_type": "code",
      "source": [
        "### Construct the gradio container\n",
        "input_comp = gr.Textbox(type='text',label='Input Text')\n",
        "output_comp = gr.Textbox(type='text', label='Output Text')\n",
        "output = gr.Interface(fn=ner_inference, inputs=[input_comp],outputs=output_comp, css=\"footer {visibility: hidden}\")"
      ],
      "metadata": {
        "id": "aqd6z6WRr6M7"
      },
      "execution_count": 67,
      "outputs": []
    },
    {
      "cell_type": "code",
      "source": [
        "### Launch for demo inference\n",
        "output.launch(share=True)"
      ],
      "metadata": {
        "colab": {
          "base_uri": "https://localhost:8080/",
          "height": 611
        },
        "id": "uPGOujAwsOR6",
        "outputId": "596906f8-331b-415e-c72d-066c0b05fd51"
      },
      "execution_count": 68,
      "outputs": [
        {
          "output_type": "stream",
          "name": "stdout",
          "text": [
            "Colab notebook detected. To show errors in colab notebook, set debug=True in launch()\n",
            "Running on public URL: https://15cd154e8131921e12.gradio.live\n",
            "\n",
            "This share link expires in 72 hours. For free permanent hosting and GPU upgrades, run `gradio deploy` from Terminal to deploy to Spaces (https://huggingface.co/spaces)\n"
          ]
        },
        {
          "output_type": "display_data",
          "data": {
            "text/plain": [
              "<IPython.core.display.HTML object>"
            ],
            "text/html": [
              "<div><iframe src=\"https://15cd154e8131921e12.gradio.live\" width=\"100%\" height=\"500\" allow=\"autoplay; camera; microphone; clipboard-read; clipboard-write;\" frameborder=\"0\" allowfullscreen></iframe></div>"
            ]
          },
          "metadata": {}
        },
        {
          "output_type": "execute_result",
          "data": {
            "text/plain": []
          },
          "metadata": {},
          "execution_count": 68
        }
      ]
    },
    {
      "cell_type": "markdown",
      "source": [
        "### AWS"
      ],
      "metadata": {
        "id": "kdK0ynrKl25t"
      }
    },
    {
      "cell_type": "code",
      "source": [
        "pip -q install sagemaker"
      ],
      "metadata": {
        "colab": {
          "base_uri": "https://localhost:8080/"
        },
        "id": "sLQuyBWWurW1",
        "outputId": "f44aa94b-53c9-4163-e146-631e3a214446"
      },
      "execution_count": 1,
      "outputs": [
        {
          "output_type": "stream",
          "name": "stdout",
          "text": [
            "\u001b[2K     \u001b[90m━━━━━━━━━━━━━━━━━━━━━━━━━━━━━━━━━━━━━━━━\u001b[0m \u001b[32m1.5/1.5 MB\u001b[0m \u001b[31m9.8 MB/s\u001b[0m eta \u001b[36m0:00:00\u001b[0m\n",
            "\u001b[2K     \u001b[90m━━━━━━━━━━━━━━━━━━━━━━━━━━━━━━━━━━━━━━━━\u001b[0m \u001b[32m139.2/139.2 kB\u001b[0m \u001b[31m10.4 MB/s\u001b[0m eta \u001b[36m0:00:00\u001b[0m\n",
            "\u001b[2K     \u001b[90m━━━━━━━━━━━━━━━━━━━━━━━━━━━━━━━━━━━━━━━━\u001b[0m \u001b[32m82.1/82.1 kB\u001b[0m \u001b[31m6.8 MB/s\u001b[0m eta \u001b[36m0:00:00\u001b[0m\n",
            "\u001b[2K     \u001b[90m━━━━━━━━━━━━━━━━━━━━━━━━━━━━━━━━━━━━━━━━\u001b[0m \u001b[32m147.8/147.8 kB\u001b[0m \u001b[31m12.4 MB/s\u001b[0m eta \u001b[36m0:00:00\u001b[0m\n",
            "\u001b[2K     \u001b[90m━━━━━━━━━━━━━━━━━━━━━━━━━━━━━━━━━━━━━━━━\u001b[0m \u001b[32m12.3/12.3 MB\u001b[0m \u001b[31m15.9 MB/s\u001b[0m eta \u001b[36m0:00:00\u001b[0m\n",
            "\u001b[2K     \u001b[90m━━━━━━━━━━━━━━━━━━━━━━━━━━━━━━━━━━━━━━━━\u001b[0m \u001b[32m82.2/82.2 kB\u001b[0m \u001b[31m3.5 MB/s\u001b[0m eta \u001b[36m0:00:00\u001b[0m\n",
            "\u001b[2K     \u001b[90m━━━━━━━━━━━━━━━━━━━━━━━━━━━━━━━━━━━━━━━━\u001b[0m \u001b[32m56.8/56.8 kB\u001b[0m \u001b[31m3.0 MB/s\u001b[0m eta \u001b[36m0:00:00\u001b[0m\n",
            "\u001b[2K     \u001b[90m━━━━━━━━━━━━━━━━━━━━━━━━━━━━━━━━━━━━━━━━\u001b[0m \u001b[32m116.3/116.3 kB\u001b[0m \u001b[31m5.4 MB/s\u001b[0m eta \u001b[36m0:00:00\u001b[0m\n",
            "\u001b[2K     \u001b[90m━━━━━━━━━━━━━━━━━━━━━━━━━━━━━━━━━━━━━━━━\u001b[0m \u001b[32m134.8/134.8 kB\u001b[0m \u001b[31m10.4 MB/s\u001b[0m eta \u001b[36m0:00:00\u001b[0m\n",
            "\u001b[?25h"
          ]
        }
      ]
    },
    {
      "cell_type": "code",
      "source": [
        "!pip -q install aws configure\n",
        "!pip -q install awscli"
      ],
      "metadata": {
        "colab": {
          "base_uri": "https://localhost:8080/"
        },
        "id": "qnxqlQg6M52K",
        "outputId": "b071d7ed-e8cc-4d43-cf2a-bd93eaee589b"
      },
      "execution_count": 2,
      "outputs": [
        {
          "output_type": "stream",
          "name": "stdout",
          "text": [
            "  Preparing metadata (setup.py) ... \u001b[?25l\u001b[?25hdone\n",
            "  Preparing metadata (setup.py) ... \u001b[?25l\u001b[?25hdone\n",
            "\u001b[2K     \u001b[90m━━━━━━━━━━━━━━━━━━━━━━━━━━━━━━━━━━━━━━━━\u001b[0m \u001b[32m1.4/1.4 MB\u001b[0m \u001b[31m13.7 MB/s\u001b[0m eta \u001b[36m0:00:00\u001b[0m\n",
            "\u001b[2K     \u001b[90m━━━━━━━━━━━━━━━━━━━━━━━━━━━━━━━━━━━━━━━━\u001b[0m \u001b[32m59.4/59.4 kB\u001b[0m \u001b[31m3.8 MB/s\u001b[0m eta \u001b[36m0:00:00\u001b[0m\n",
            "\u001b[2K     \u001b[90m━━━━━━━━━━━━━━━━━━━━━━━━━━━━━━━━━━━━━━━━\u001b[0m \u001b[32m160.3/160.3 kB\u001b[0m \u001b[31m11.8 MB/s\u001b[0m eta \u001b[36m0:00:00\u001b[0m\n",
            "\u001b[2K     \u001b[90m━━━━━━━━━━━━━━━━━━━━━━━━━━━━━━━━━━━━━━━━\u001b[0m \u001b[32m225.9/225.9 kB\u001b[0m \u001b[31m12.1 MB/s\u001b[0m eta \u001b[36m0:00:00\u001b[0m\n",
            "\u001b[2K     \u001b[90m━━━━━━━━━━━━━━━━━━━━━━━━━━━━━━━━━━━━━━━━\u001b[0m \u001b[32m283.7/283.7 kB\u001b[0m \u001b[31m13.1 MB/s\u001b[0m eta \u001b[36m0:00:00\u001b[0m\n",
            "\u001b[2K     \u001b[90m━━━━━━━━━━━━━━━━━━━━━━━━━━━━━━━━━━━━━━━━\u001b[0m \u001b[32m856.7/856.7 kB\u001b[0m \u001b[31m25.1 MB/s\u001b[0m eta \u001b[36m0:00:00\u001b[0m\n",
            "\u001b[?25h  Building wheel for aws (setup.py) ... \u001b[?25l\u001b[?25hdone\n",
            "  Building wheel for configure (setup.py) ... \u001b[?25l\u001b[?25hdone\n",
            "\u001b[31mERROR: pip's dependency resolver does not currently take into account all the packages that are installed. This behaviour is the source of the following dependency conflicts.\n",
            "ipython 7.34.0 requires jedi>=0.16, which is not installed.\n",
            "moviepy 1.0.3 requires decorator<5.0,>=4.0.2, but you have decorator 5.1.1 which is incompatible.\u001b[0m\u001b[31m\n",
            "\u001b[2K     \u001b[90m━━━━━━━━━━━━━━━━━━━━━━━━━━━━━━━━━━━━━━━━\u001b[0m \u001b[32m4.5/4.5 MB\u001b[0m \u001b[31m17.3 MB/s\u001b[0m eta \u001b[36m0:00:00\u001b[0m\n",
            "\u001b[2K     \u001b[90m━━━━━━━━━━━━━━━━━━━━━━━━━━━━━━━━━━━━━━━━\u001b[0m \u001b[32m548.2/548.2 kB\u001b[0m \u001b[31m26.8 MB/s\u001b[0m eta \u001b[36m0:00:00\u001b[0m\n",
            "\u001b[?25h"
          ]
        }
      ]
    },
    {
      "cell_type": "code",
      "source": [
        "### Setup variables for local machine\n",
        "text = '''\n",
        "[default]\n",
        "aws_access_key_id = <key>\n",
        "aws_secret_access_key = <key>\n",
        "region = us-east-1\n",
        "'''"
      ],
      "metadata": {
        "id": "Gw5MKScuQKNL"
      },
      "execution_count": 3,
      "outputs": []
    },
    {
      "cell_type": "code",
      "source": [
        "path = \"/content/awscli.ini\"\n",
        "with open(path, 'w') as f:\n",
        "   f.write(text)"
      ],
      "metadata": {
        "id": "SsndTmuDQLFz"
      },
      "execution_count": 4,
      "outputs": []
    },
    {
      "cell_type": "code",
      "source": [
        "# !cat /content/awscli.ini"
      ],
      "metadata": {
        "id": "svtCcRGNQPND"
      },
      "execution_count": 5,
      "outputs": []
    },
    {
      "cell_type": "code",
      "source": [
        "import os\n",
        "!export AWS_SHARED_CREDENTIALS_FILE=/content/awscli.ini\n",
        "path = \"/content/awscli.ini\"\n",
        "os.environ['AWS_SHARED_CREDENTIALS_FILE'] = path\n",
        "print(os.environ['AWS_SHARED_CREDENTIALS_FILE'])"
      ],
      "metadata": {
        "colab": {
          "base_uri": "https://localhost:8080/"
        },
        "id": "GWPvWWPDNEY0",
        "outputId": "1720bd03-2e3a-419d-9662-d4541428f35e"
      },
      "execution_count": 6,
      "outputs": [
        {
          "output_type": "stream",
          "name": "stdout",
          "text": [
            "/content/awscli.ini\n"
          ]
        }
      ]
    },
    {
      "cell_type": "code",
      "source": [
        "import sagemaker\n",
        "import boto3\n",
        "from sagemaker.huggingface import HuggingFaceModel\n",
        "from sagemaker import image_uris"
      ],
      "metadata": {
        "colab": {
          "base_uri": "https://localhost:8080/"
        },
        "id": "_7e89C4el5aX",
        "outputId": "6bdbc261-076c-4f24-d435-c7135a7e6956"
      },
      "execution_count": 7,
      "outputs": [
        {
          "output_type": "stream",
          "name": "stdout",
          "text": [
            "sagemaker.config INFO - Not applying SDK defaults from location: /etc/xdg/sagemaker/config.yaml\n",
            "sagemaker.config INFO - Not applying SDK defaults from location: /root/.config/sagemaker/config.yaml\n"
          ]
        }
      ]
    },
    {
      "cell_type": "code",
      "source": [
        "### Create sagemaker session\n",
        "sg_session = sagemaker.Session(boto3.session.Session())"
      ],
      "metadata": {
        "id": "bfZLm2eQK5Ah"
      },
      "execution_count": 8,
      "outputs": []
    },
    {
      "cell_type": "code",
      "source": [
        "### Get role for the session\n",
        "sg_role = 'arn:aws:iam::<id>:role/sagemaker_ner_model'"
      ],
      "metadata": {
        "id": "QV2Nt_qoUh1I"
      },
      "execution_count": 9,
      "outputs": []
    },
    {
      "cell_type": "code",
      "source": [
        "### Fetch repository from huggingface and save it to S3 bucket service\n",
        "repository = \"sun00009/ner_model\"\n",
        "model_id=repository.split(\"/\")[-1]\n",
        "s3_location=f\"s3://{sg_session.default_bucket()}/custom_inference/{model_id}/model.tar.gz\""
      ],
      "metadata": {
        "id": "C8huZUIKx56c"
      },
      "execution_count": 10,
      "outputs": []
    },
    {
      "cell_type": "code",
      "source": [
        "### Create custom inference for desired output\n",
        "%%writefile code/inference.py\n",
        "\n",
        "from transformers import AutoModelForTokenClassification, AutoTokenizer, pipeline\n",
        "import torch\n",
        "\n",
        "def inference_gen(data):\n",
        "    ### Custom Inference\n",
        "    tokenizer = AutoTokenizer.from_pretrained('sun00009/ner_model')\n",
        "    model = AutoModelForTokenClassification.from_pretrained('sun00009/ner_model')\n",
        "    ner_pipe = pipeline('ner', model=model, tokenizer=tokenizer)\n",
        "    input_text = data['inputs']\n",
        "    inputs = tokenizer(input_text, return_tensors=\"pt\")\n",
        "    with torch.no_grad():\n",
        "        logits = ner_model(**inputs).get('logits')\n",
        "    predictions = torch.argmax(logits, dim=2)\n",
        "    predicted_token_class = [model.config.id2label[t.item()] for t in predictions[0]]\n",
        "    return predicted_token_class[1:-1]"
      ],
      "metadata": {
        "colab": {
          "base_uri": "https://localhost:8080/"
        },
        "id": "WK_e2AifyDHF",
        "outputId": "024eb9ab-4f09-4b39-bdc2-53fa8fadb2c6"
      },
      "execution_count": 11,
      "outputs": [
        {
          "output_type": "stream",
          "name": "stdout",
          "text": [
            "Writing code/inference.py\n"
          ]
        }
      ]
    },
    {
      "cell_type": "code",
      "source": [
        "!git lfs install\n",
        "!git clone https://huggingface.co/$repository"
      ],
      "metadata": {
        "colab": {
          "base_uri": "https://localhost:8080/"
        },
        "id": "ke42mNV_yDLF",
        "outputId": "356575ae-1122-4038-c681-639490c57d66"
      },
      "execution_count": 12,
      "outputs": [
        {
          "output_type": "stream",
          "name": "stdout",
          "text": [
            "Git LFS initialized.\n",
            "Cloning into 'ner_model'...\n",
            "remote: Enumerating objects: 21, done.\u001b[K\n",
            "remote: Counting objects: 100% (18/18), done.\u001b[K\n",
            "remote: Compressing objects: 100% (18/18), done.\u001b[K\n",
            "remote: Total 21 (delta 1), reused 0 (delta 0), pack-reused 3 (from 1)\u001b[K\n",
            "Unpacking objects: 100% (21/21), 317.43 KiB | 4.41 MiB/s, done.\n"
          ]
        }
      ]
    },
    {
      "cell_type": "code",
      "source": [
        "!cp -r code/ $model_id/code"
      ],
      "metadata": {
        "id": "ATosIOSCyDC7"
      },
      "execution_count": 13,
      "outputs": []
    },
    {
      "cell_type": "code",
      "source": [
        "%cd $model_id\n",
        "!tar zcvf model.tar.gz *"
      ],
      "metadata": {
        "colab": {
          "base_uri": "https://localhost:8080/"
        },
        "id": "-TG5vv-6zEQK",
        "outputId": "70c7884a-30fd-44ce-c46f-a63cb5c93088"
      },
      "execution_count": 14,
      "outputs": [
        {
          "output_type": "stream",
          "name": "stdout",
          "text": [
            "/content/ner_model\n",
            "code/\n",
            "code/inference.py\n",
            "config.json\n",
            "model.safetensors\n",
            "README.md\n",
            "runs/\n",
            "runs/Jun24_09-32-21_ee951b32348a/\n",
            "runs/Jun24_09-32-21_ee951b32348a/events.out.tfevents.1719221555.ee951b32348a.15911.0\n",
            "runs/Jun24_08-35-03_ee951b32348a/\n",
            "runs/Jun24_08-35-03_ee951b32348a/events.out.tfevents.1719220504.ee951b32348a.433.1\n",
            "runs/Jun24_08-35-03_ee951b32348a/events.out.tfevents.1719218104.ee951b32348a.433.0\n",
            "special_tokens_map.json\n",
            "tokenizer_config.json\n",
            "tokenizer.json\n",
            "vocab.txt\n"
          ]
        }
      ]
    },
    {
      "cell_type": "code",
      "source": [
        "!aws s3 cp model.tar.gz $s3_location"
      ],
      "metadata": {
        "colab": {
          "base_uri": "https://localhost:8080/"
        },
        "id": "U5ZLYn9wzUkv",
        "outputId": "0e5c9722-4759-42b6-db84-5739115c2007"
      },
      "execution_count": 15,
      "outputs": [
        {
          "output_type": "stream",
          "name": "stdout",
          "text": [
            "upload: ./model.tar.gz to s3://sagemaker-us-east-1-186529496743/custom_inference/ner_model/model.tar.gz\n"
          ]
        }
      ]
    },
    {
      "cell_type": "code",
      "source": [
        "### Using directly from hub\n",
        "hub = {\n",
        "  'HF_MODEL_ID':'sun00009/ner_model',\n",
        "  'HF_TASK':'ner'\n",
        "}"
      ],
      "metadata": {
        "id": "QQC_ECqZW_Wx"
      },
      "execution_count": 20,
      "outputs": []
    },
    {
      "cell_type": "code",
      "source": [
        "### Load model directly\n",
        "huggingface_model = HuggingFaceModel(\n",
        "  env=hub,\n",
        "  # model_data = s3_location,\n",
        "  image_uri = image_uris.retrieve(framework='huggingface',region='us-east-1', image_scope='inference',version='4.37.0',\n",
        "                    py_version='py310',base_framework_version='pytorch2.1.0',sagemaker_session=sg_session,\n",
        "                    instance_type='ml.g4dn.xlarge'),\n",
        "\trole=sg_role\n",
        ")"
      ],
      "metadata": {
        "id": "et3FO_lm-Jsb"
      },
      "execution_count": null,
      "outputs": []
    },
    {
      "cell_type": "code",
      "source": [
        "### Load model form S3 container\n",
        "huggingface_model = HuggingFaceModel(\n",
        "  # env=hub,\n",
        "  model_data = s3_location,\n",
        "  image_uri = image_uris.retrieve(framework='huggingface',region='us-east-1', image_scope='inference',version='4.37.0',\n",
        "                    py_version='py310',base_framework_version='pytorch2.1.0',sagemaker_session=sg_session,\n",
        "                    instance_type='ml.g4dn.xlarge'),\n",
        "\trole=sg_role\n",
        ")"
      ],
      "metadata": {
        "id": "PFeVcYIXw3MT"
      },
      "execution_count": 22,
      "outputs": []
    },
    {
      "cell_type": "code",
      "source": [
        "# Deploy model to SageMaker Inference\n",
        "predictor = huggingface_model.deploy(\n",
        "\t\t initial_instance_count=1,\n",
        "\t\t instance_type='ml.g4dn.xlarge'\n",
        ")"
      ],
      "metadata": {
        "colab": {
          "base_uri": "https://localhost:8080/"
        },
        "id": "DHJHWCgVTUkd",
        "outputId": "2025dcd8-fb88-4024-90ef-c2f4ca91f8ec"
      },
      "execution_count": 23,
      "outputs": [
        {
          "output_type": "stream",
          "name": "stdout",
          "text": [
            "-----------!"
          ]
        }
      ]
    },
    {
      "cell_type": "code",
      "source": [
        "data = {\"inputs\": \"My name is Jack. I went to America.\"}"
      ],
      "metadata": {
        "id": "qY81NA-AVUpy"
      },
      "execution_count": 24,
      "outputs": []
    },
    {
      "cell_type": "code",
      "source": [
        "preds = predictor.predict(data)"
      ],
      "metadata": {
        "id": "kW_ZcVD0KUIU"
      },
      "execution_count": 25,
      "outputs": []
    },
    {
      "cell_type": "code",
      "source": [
        "print(preds)"
      ],
      "metadata": {
        "colab": {
          "base_uri": "https://localhost:8080/"
        },
        "id": "kWUEQrns0Knp",
        "outputId": "cedcf586-34a1-4797-8718-d41fdb55eca5"
      },
      "execution_count": 26,
      "outputs": [
        {
          "output_type": "stream",
          "name": "stdout",
          "text": [
            "[{'entity': 'B-per', 'score': 0.2726770341396332, 'index': 4, 'word': 'jack', 'start': 11, 'end': 15}, {'entity': 'B-geo', 'score': 0.28789615631103516, 'index': 9, 'word': 'america', 'start': 27, 'end': 34}]\n"
          ]
        }
      ]
    },
    {
      "cell_type": "code",
      "source": [
        "### Delete endpoint at end of inference for additional cost\n",
        "predictor.delete_endpoint()"
      ],
      "metadata": {
        "id": "fKEzYYnaKsGM"
      },
      "execution_count": 27,
      "outputs": []
    },
    {
      "cell_type": "code",
      "source": [],
      "metadata": {
        "id": "t_8baSoeiaEp"
      },
      "execution_count": 37,
      "outputs": []
    }
  ]
}